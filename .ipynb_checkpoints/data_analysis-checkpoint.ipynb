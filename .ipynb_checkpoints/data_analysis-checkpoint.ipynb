{
 "cells": [
  {
   "cell_type": "code",
   "execution_count": 1,
   "id": "82ff8f4a",
   "metadata": {},
   "outputs": [],
   "source": [
    "import pandas as pd\n",
    "import numpy as np\n",
    "import matplotlib.pyplot as plt"
   ]
  },
  {
   "cell_type": "markdown",
   "id": "d087bd09",
   "metadata": {},
   "source": [
    "As the images have been already split between a training set and a validation set, the ratio between the two sets would be calculated"
   ]
  },
  {
   "cell_type": "code",
   "execution_count": 10,
   "id": "811b47df",
   "metadata": {},
   "outputs": [],
   "source": [
    "df_train = pd.read_csv(\"MURA-v1.1/train_image_paths.csv\", header=None)\n",
    "df_val = pd.read_csv(\"MURA-v1.1/valid_image_paths.csv\", header=None)"
   ]
  },
  {
   "cell_type": "code",
   "execution_count": 18,
   "id": "09d503bf",
   "metadata": {},
   "outputs": [
    {
     "name": "stdout",
     "output_type": "stream",
     "text": [
      "df_train Percentage: 92.0084989376328\n",
      "df_val Percentage: 7.991501062367204\n"
     ]
    }
   ],
   "source": [
    "print(\"df_train Percentage:\", df_train.count()[0]/(df_train.count()[0]+df_val.count()[0])*100)\n",
    "print(\"df_val Percentage:\", df_val.count()[0]/(df_train.count()[0]+df_val.count()[0])*100)"
   ]
  },
  {
   "cell_type": "markdown",
   "id": "2181c692",
   "metadata": {},
   "source": [
    "The split between the total training set is 92% whilst the validation set consists of approximately 8% of the total dataset, these data are further split into 7 categories. *ELBOW*, *FINGER*, *FOREARM*, *HAND*, *HUMERUS*, *SHOULDER*, and *WRIST*. To know the split between all of these categories, the data needs to be preprocessed and put onto a table"
   ]
  },
  {
   "cell_type": "code",
   "execution_count": 79,
   "id": "f5c1adef",
   "metadata": {},
   "outputs": [],
   "source": [
    "df_train[0] = df_train[0].astype(str)\n",
    "df_val[0] = df_val[0].astype(str)"
   ]
  },
  {
   "cell_type": "markdown",
   "id": "fe140781",
   "metadata": {},
   "source": [
    "These two datasets would be joined together as to make it easier to preprocess"
   ]
  },
  {
   "cell_type": "code",
   "execution_count": 80,
   "id": "83597d5a",
   "metadata": {},
   "outputs": [],
   "source": [
    "df = pd.concat([df_train, df_val], axis=0, ignore_index = True)"
   ]
  },
  {
   "cell_type": "code",
   "execution_count": 81,
   "id": "9c624fe3",
   "metadata": {},
   "outputs": [],
   "source": [
    "#Split image path\n",
    "imageSplit= df[0].str.split('/', n=5, expand=True)"
   ]
  },
  {
   "cell_type": "code",
   "execution_count": 85,
   "id": "e0142569",
   "metadata": {},
   "outputs": [],
   "source": [
    "df['ImageSet'] = imageSplit[1]\n",
    "df['ImageType'] = imageSplit[2]\n",
    "df['Diagnosis'] = imageSplit[4].str.split('_', n=1, expand=True)[1]\n",
    "df = df.rename(columns={0: 'ImagePath'})\n",
    "#Change positives to 1s and Negatives to 0\n",
    "df.loc[df['Diagnosis'] == 'positive', 'Diagnosis'] = 1\n",
    "df.loc[df['Diagnosis'] == 'negative', 'Diagnosis'] = 0"
   ]
  },
  {
   "cell_type": "code",
   "execution_count": 86,
   "id": "9695f929",
   "metadata": {},
   "outputs": [
    {
     "data": {
      "text/html": [
       "<div>\n",
       "<style scoped>\n",
       "    .dataframe tbody tr th:only-of-type {\n",
       "        vertical-align: middle;\n",
       "    }\n",
       "\n",
       "    .dataframe tbody tr th {\n",
       "        vertical-align: top;\n",
       "    }\n",
       "\n",
       "    .dataframe thead th {\n",
       "        text-align: right;\n",
       "    }\n",
       "</style>\n",
       "<table border=\"1\" class=\"dataframe\">\n",
       "  <thead>\n",
       "    <tr style=\"text-align: right;\">\n",
       "      <th></th>\n",
       "      <th>ImagePath</th>\n",
       "      <th>ImageSet</th>\n",
       "      <th>ImageType</th>\n",
       "      <th>Diagnosis</th>\n",
       "    </tr>\n",
       "  </thead>\n",
       "  <tbody>\n",
       "    <tr>\n",
       "      <th>0</th>\n",
       "      <td>MURA-v1.1/train/XR_SHOULDER/patient00001/study...</td>\n",
       "      <td>train</td>\n",
       "      <td>XR_SHOULDER</td>\n",
       "      <td>1</td>\n",
       "    </tr>\n",
       "    <tr>\n",
       "      <th>1</th>\n",
       "      <td>MURA-v1.1/train/XR_SHOULDER/patient00001/study...</td>\n",
       "      <td>train</td>\n",
       "      <td>XR_SHOULDER</td>\n",
       "      <td>1</td>\n",
       "    </tr>\n",
       "    <tr>\n",
       "      <th>2</th>\n",
       "      <td>MURA-v1.1/train/XR_SHOULDER/patient00001/study...</td>\n",
       "      <td>train</td>\n",
       "      <td>XR_SHOULDER</td>\n",
       "      <td>1</td>\n",
       "    </tr>\n",
       "    <tr>\n",
       "      <th>3</th>\n",
       "      <td>MURA-v1.1/train/XR_SHOULDER/patient00002/study...</td>\n",
       "      <td>train</td>\n",
       "      <td>XR_SHOULDER</td>\n",
       "      <td>1</td>\n",
       "    </tr>\n",
       "    <tr>\n",
       "      <th>4</th>\n",
       "      <td>MURA-v1.1/train/XR_SHOULDER/patient00002/study...</td>\n",
       "      <td>train</td>\n",
       "      <td>XR_SHOULDER</td>\n",
       "      <td>1</td>\n",
       "    </tr>\n",
       "  </tbody>\n",
       "</table>\n",
       "</div>"
      ],
      "text/plain": [
       "                                           ImagePath ImageSet    ImageType  \\\n",
       "0  MURA-v1.1/train/XR_SHOULDER/patient00001/study...    train  XR_SHOULDER   \n",
       "1  MURA-v1.1/train/XR_SHOULDER/patient00001/study...    train  XR_SHOULDER   \n",
       "2  MURA-v1.1/train/XR_SHOULDER/patient00001/study...    train  XR_SHOULDER   \n",
       "3  MURA-v1.1/train/XR_SHOULDER/patient00002/study...    train  XR_SHOULDER   \n",
       "4  MURA-v1.1/train/XR_SHOULDER/patient00002/study...    train  XR_SHOULDER   \n",
       "\n",
       "  Diagnosis  \n",
       "0         1  \n",
       "1         1  \n",
       "2         1  \n",
       "3         1  \n",
       "4         1  "
      ]
     },
     "execution_count": 86,
     "metadata": {},
     "output_type": "execute_result"
    }
   ],
   "source": [
    "df.head()"
   ]
  },
  {
   "cell_type": "code",
   "execution_count": 111,
   "id": "2d8046e6",
   "metadata": {},
   "outputs": [],
   "source": [
    "#Image distribution per each ImageType and ImageSet\n",
    "imageDist = df[['ImageSet', 'ImageType']].value_counts()"
   ]
  },
  {
   "cell_type": "code",
   "execution_count": 112,
   "id": "a32491c7",
   "metadata": {},
   "outputs": [
    {
     "data": {
      "text/plain": [
       "ImageSet  ImageType  \n",
       "train     XR_WRIST       9752\n",
       "          XR_SHOULDER    8379\n",
       "          XR_HAND        5543\n",
       "          XR_FINGER      5106\n",
       "          XR_ELBOW       4931\n",
       "          XR_FOREARM     1825\n",
       "          XR_HUMERUS     1272\n",
       "valid     XR_WRIST        659\n",
       "          XR_SHOULDER     563\n",
       "          XR_ELBOW        465\n",
       "          XR_FINGER       461\n",
       "          XR_HAND         460\n",
       "          XR_FOREARM      301\n",
       "          XR_HUMERUS      288\n",
       "dtype: int64"
      ]
     },
     "execution_count": 112,
     "metadata": {},
     "output_type": "execute_result"
    }
   ],
   "source": [
    "imageDist"
   ]
  },
  {
   "cell_type": "code",
   "execution_count": 127,
   "id": "d1c4e5ca",
   "metadata": {},
   "outputs": [
    {
     "data": {
      "image/png": "[encoded data removed]",
      "text/plain": [
       "<Figure size 432x288 with 1 Axes>"
      ]
     },
     "metadata": {
      "needs_background": "light"
     },
     "output_type": "display_data"
    },
    {
     "data": {
      "text/plain": [
       "<Figure size 2160x2160 with 0 Axes>"
      ]
     },
     "metadata": {},
     "output_type": "display_data"
    }
   ],
   "source": [
    "#Visualize Distribution\n",
    "n = len(imageDist)//2\n",
    "imageTypes = []\n",
    "for imageType in imageDist.keys()[:n]:\n",
    "    imageTypes.append(imageType[1])\n",
    "\n",
    "x_axis = np.arange(n)\n",
    "\n",
    "plt.bar(x_axis-0.2, imageDist[:n], width=0.4, label='Training Set')\n",
    "plt.bar(x_axis+0.2, imageDist[n:], width=0.4, label=\"Validation Set\")\n",
    "plt.xticks(x_axis, imageTypes, rotation=45)\n",
    "plt.legend()\n",
    "plt.show()"
   ]
  },
  {
   "cell_type": "code",
   "execution_count": null,
   "id": "94aad8cf",
   "metadata": {},
   "outputs": [],
   "source": []
  }
 ],
 "metadata": {
  "kernelspec": {
   "display_name": "Python 3 (ipykernel)",
   "language": "python",
   "name": "python3"
  },
  "language_info": {
   "codemirror_mode": {
    "name": "ipython",
    "version": 3
   },
   "file_extension": ".py",
   "mimetype": "text/x-python",
   "name": "python",
   "nbconvert_exporter": "python",
   "pygments_lexer": "ipython3",
   "version": "3.9.7"
  }
 },
 "nbformat": 4,
 "nbformat_minor": 5
}
