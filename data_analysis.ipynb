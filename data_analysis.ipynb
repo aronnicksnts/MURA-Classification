{
 "cells": [
  {
   "cell_type": "code",
   "execution_count": 17,
   "id": "5eb13584",
   "metadata": {},
   "outputs": [],
   "source": [
    "import pandas as pd\n",
    "import numpy as np\n",
    "import matplotlib.pyplot as plt\n",
    "from PIL import Image"
   ]
  },
  {
   "cell_type": "markdown",
   "id": "08c7dbe2",
   "metadata": {},
   "source": [
    "As the images have been already split between a training set and a validation set, the ratio between the two sets would be calculated"
   ]
  },
  {
   "cell_type": "code",
   "execution_count": 18,
   "id": "fd9e2a8b",
   "metadata": {},
   "outputs": [],
   "source": [
    "df_train = pd.read_csv(\"MURA-v1.1/train_image_paths.csv\", header=None)\n",
    "df_val = pd.read_csv(\"MURA-v1.1/valid_image_paths.csv\", header=None)"
   ]
  },
  {
   "cell_type": "code",
   "execution_count": 19,
   "id": "ebdcac94",
   "metadata": {},
   "outputs": [
    {
     "name": "stdout",
     "output_type": "stream",
     "text": [
      "df_train Percentage: 92.0084989376328\n",
      "df_val Percentage: 7.991501062367204\n"
     ]
    }
   ],
   "source": [
    "print(\"df_train Percentage:\", df_train.count()[0]/(df_train.count()[0]+df_val.count()[0])*100)\n",
    "print(\"df_val Percentage:\", df_val.count()[0]/(df_train.count()[0]+df_val.count()[0])*100)"
   ]
  },
  {
   "cell_type": "markdown",
   "id": "e0ced0c5",
   "metadata": {},
   "source": [
    "The split between the total training set is 92% whilst the validation set consists of approximately 8% of the total dataset, these data are further split into 7 categories. *ELBOW*, *FINGER*, *FOREARM*, *HAND*, *HUMERUS*, *SHOULDER*, and *WRIST*. To know the split between all of these categories, the data needs to be preprocessed and put onto a table"
   ]
  },
  {
   "cell_type": "code",
   "execution_count": 20,
   "id": "202b4a2e",
   "metadata": {},
   "outputs": [],
   "source": [
    "df_train[0] = df_train[0].astype(str)\n",
    "df_val[0] = df_val[0].astype(str)"
   ]
  },
  {
   "cell_type": "markdown",
   "id": "09afb0bb",
   "metadata": {},
   "source": [
    "These two datasets would be joined together as to make it easier to preprocess"
   ]
  },
  {
   "cell_type": "code",
   "execution_count": 21,
   "id": "d26e4c06",
   "metadata": {},
   "outputs": [],
   "source": [
    "df = pd.concat([df_train, df_val], axis=0, ignore_index = True)"
   ]
  },
  {
   "cell_type": "code",
   "execution_count": 22,
   "id": "ff3467b3",
   "metadata": {},
   "outputs": [],
   "source": [
    "#Split image path\n",
    "imageSplit= df[0].str.split('/', n=5, expand=True)"
   ]
  },
  {
   "cell_type": "code",
   "execution_count": 23,
   "id": "0f3c136c",
   "metadata": {},
   "outputs": [],
   "source": [
    "df['ImageSet'] = imageSplit[1]\n",
    "df['ImageType'] = imageSplit[2]\n",
    "df['Diagnosis'] = imageSplit[4].str.split('_', n=1, expand=True)[1]\n",
    "df = df.rename(columns={0: 'ImagePath'})\n",
    "#Change positives to 1s and Negatives to 0\n",
    "df.loc[df['Diagnosis'] == 'positive', 'Diagnosis'] = 1\n",
    "df.loc[df['Diagnosis'] == 'negative', 'Diagnosis'] = 0"
   ]
  },
  {
   "cell_type": "code",
   "execution_count": 24,
   "id": "37586cae",
   "metadata": {},
   "outputs": [
    {
     "data": {
      "text/html": [
       "<div>\n",
       "<style scoped>\n",
       "    .dataframe tbody tr th:only-of-type {\n",
       "        vertical-align: middle;\n",
       "    }\n",
       "\n",
       "    .dataframe tbody tr th {\n",
       "        vertical-align: top;\n",
       "    }\n",
       "\n",
       "    .dataframe thead th {\n",
       "        text-align: right;\n",
       "    }\n",
       "</style>\n",
       "<table border=\"1\" class=\"dataframe\">\n",
       "  <thead>\n",
       "    <tr style=\"text-align: right;\">\n",
       "      <th></th>\n",
       "      <th>ImagePath</th>\n",
       "      <th>ImageSet</th>\n",
       "      <th>ImageType</th>\n",
       "      <th>Diagnosis</th>\n",
       "    </tr>\n",
       "  </thead>\n",
       "  <tbody>\n",
       "    <tr>\n",
       "      <th>0</th>\n",
       "      <td>MURA-v1.1/train/XR_SHOULDER/patient00001/study...</td>\n",
       "      <td>train</td>\n",
       "      <td>XR_SHOULDER</td>\n",
       "      <td>1</td>\n",
       "    </tr>\n",
       "    <tr>\n",
       "      <th>1</th>\n",
       "      <td>MURA-v1.1/train/XR_SHOULDER/patient00001/study...</td>\n",
       "      <td>train</td>\n",
       "      <td>XR_SHOULDER</td>\n",
       "      <td>1</td>\n",
       "    </tr>\n",
       "    <tr>\n",
       "      <th>2</th>\n",
       "      <td>MURA-v1.1/train/XR_SHOULDER/patient00001/study...</td>\n",
       "      <td>train</td>\n",
       "      <td>XR_SHOULDER</td>\n",
       "      <td>1</td>\n",
       "    </tr>\n",
       "    <tr>\n",
       "      <th>3</th>\n",
       "      <td>MURA-v1.1/train/XR_SHOULDER/patient00002/study...</td>\n",
       "      <td>train</td>\n",
       "      <td>XR_SHOULDER</td>\n",
       "      <td>1</td>\n",
       "    </tr>\n",
       "    <tr>\n",
       "      <th>4</th>\n",
       "      <td>MURA-v1.1/train/XR_SHOULDER/patient00002/study...</td>\n",
       "      <td>train</td>\n",
       "      <td>XR_SHOULDER</td>\n",
       "      <td>1</td>\n",
       "    </tr>\n",
       "  </tbody>\n",
       "</table>\n",
       "</div>"
      ],
      "text/plain": [
       "                                           ImagePath ImageSet    ImageType  \\\n",
       "0  MURA-v1.1/train/XR_SHOULDER/patient00001/study...    train  XR_SHOULDER   \n",
       "1  MURA-v1.1/train/XR_SHOULDER/patient00001/study...    train  XR_SHOULDER   \n",
       "2  MURA-v1.1/train/XR_SHOULDER/patient00001/study...    train  XR_SHOULDER   \n",
       "3  MURA-v1.1/train/XR_SHOULDER/patient00002/study...    train  XR_SHOULDER   \n",
       "4  MURA-v1.1/train/XR_SHOULDER/patient00002/study...    train  XR_SHOULDER   \n",
       "\n",
       "  Diagnosis  \n",
       "0         1  \n",
       "1         1  \n",
       "2         1  \n",
       "3         1  \n",
       "4         1  "
      ]
     },
     "execution_count": 24,
     "metadata": {},
     "output_type": "execute_result"
    }
   ],
   "source": [
    "df.head()"
   ]
  },
  {
   "cell_type": "code",
   "execution_count": 25,
   "id": "55e7944c",
   "metadata": {},
   "outputs": [],
   "source": [
    "#Image distribution per each ImageType and ImageSet\n",
    "imageDist = df[['ImageSet', 'ImageType']].value_counts()"
   ]
  },
  {
   "cell_type": "code",
   "execution_count": 26,
   "id": "a5b68805",
   "metadata": {},
   "outputs": [
    {
     "data": {
      "text/plain": [
       "ImageSet  ImageType  \n",
       "train     XR_WRIST       9752\n",
       "          XR_SHOULDER    8379\n",
       "          XR_HAND        5543\n",
       "          XR_FINGER      5106\n",
       "          XR_ELBOW       4931\n",
       "          XR_FOREARM     1825\n",
       "          XR_HUMERUS     1272\n",
       "valid     XR_WRIST        659\n",
       "          XR_SHOULDER     563\n",
       "          XR_ELBOW        465\n",
       "          XR_FINGER       461\n",
       "          XR_HAND         460\n",
       "          XR_FOREARM      301\n",
       "          XR_HUMERUS      288\n",
       "dtype: int64"
      ]
     },
     "execution_count": 26,
     "metadata": {},
     "output_type": "execute_result"
    }
   ],
   "source": [
    "imageDist"
   ]
  },
  {
   "cell_type": "code",
   "execution_count": 35,
   "id": "aba6da68",
   "metadata": {},
   "outputs": [
    {
     "data": {
      "image/png": "[encoded data removed]",
      "text/plain": [
       "<Figure size 432x288 with 1 Axes>"
      ]
     },
     "metadata": {
      "needs_background": "light"
     },
     "output_type": "display_data"
    }
   ],
   "source": [
    "#Visualize Distribution\n",
    "n = len(imageDist)//2\n",
    "imageTypes = []\n",
    "for imageType in imageDist.keys()[:n]:\n",
    "    imageTypes.append(imageType[1])\n",
    "\n",
    "x_axis = np.arange(n)\n",
    "\n",
    "plt.bar(x_axis-0.2, imageDist[:n], width=0.4, label='Training Set')\n",
    "plt.bar(x_axis+0.2, imageDist[n:], width=0.4, label=\"Validation Set\")\n",
    "plt.xticks(x_axis, imageTypes, rotation=45)\n",
    "plt.legend()\n",
    "plt.title('Initial Training and Validation Set')\n",
    "plt.savefig('Images/Initial Training and Validation Set.jpg', dpi = 500, bbox_inches='tight')\n",
    "plt.show()"
   ]
  },
  {
   "cell_type": "markdown",
   "id": "9f31daf6",
   "metadata": {},
   "source": [
    "From the following graph, the distribution between the ImageTypes is not equal. The Humerus radiographs appears to have the lowest number of samples ith about less than 1600 total samples from the training set and validation set."
   ]
  },
  {
   "cell_type": "code",
   "execution_count": 36,
   "id": "672dfd10",
   "metadata": {},
   "outputs": [],
   "source": [
    "imageDistTrain = imageDist.to_numpy()[:n]\n",
    "imageDistVal = imageDist.to_numpy()[n:]\n",
    "imageTrainPercentage = imageDistTrain/(imageDistTrain+imageDistVal)*100"
   ]
  },
  {
   "cell_type": "code",
   "execution_count": 37,
   "id": "bb2fea84",
   "metadata": {},
   "outputs": [
    {
     "data": {
      "image/png": "[encoded data removed]",
      "text/plain": [
       "<Figure size 432x288 with 1 Axes>"
      ]
     },
     "metadata": {
      "needs_background": "light"
     },
     "output_type": "display_data"
    }
   ],
   "source": [
    "plt.bar(x_axis, imageTrainPercentage)\n",
    "plt.xticks(x_axis, imageTypes, rotation=45)\n",
    "plt.title('Percentage of Training Set compared to Validation Set')\n",
    "plt.savefig('Images/Percentage of Training Set compared to Validation Set.jpg', dpi = 500, bbox_inches='tight')\n",
    "plt.show()"
   ]
  },
  {
   "cell_type": "markdown",
   "id": "69f51769",
   "metadata": {},
   "source": [
    "It appears that the distribution between the training set and validation set is not equal through each of the radiograph type"
   ]
  },
  {
   "cell_type": "markdown",
   "id": "dee0b9d7",
   "metadata": {},
   "source": [
    "### Comparison of Image Diagnosis Distribution per Body Part"
   ]
  },
  {
   "cell_type": "code",
   "execution_count": 39,
   "id": "b24ae85f",
   "metadata": {},
   "outputs": [
    {
     "data": {
      "text/plain": [
       "ImageType    Diagnosis\n",
       "XR_WRIST     0            6129\n",
       "XR_SHOULDER  0            4496\n",
       "             1            4446\n",
       "XR_HAND      0            4330\n",
       "XR_WRIST     1            4282\n",
       "XR_FINGER    0            3352\n",
       "XR_ELBOW     0            3160\n",
       "             1            2236\n",
       "XR_FINGER    1            2215\n",
       "XR_HAND      1            1673\n",
       "XR_FOREARM   0            1314\n",
       "XR_HUMERUS   0             821\n",
       "XR_FOREARM   1             812\n",
       "XR_HUMERUS   1             739\n",
       "dtype: int64"
      ]
     },
     "execution_count": 39,
     "metadata": {},
     "output_type": "execute_result"
    }
   ],
   "source": [
    "imageDiag = df[['ImageType', 'Diagnosis']].value_counts()\n",
    "imageDiag"
   ]
  },
  {
   "cell_type": "code",
   "execution_count": 40,
   "id": "2e23fc60",
   "metadata": {},
   "outputs": [
    {
     "data": {
      "image/png": "[encoded data removed]",
      "text/plain": [
       "<Figure size 432x288 with 1 Axes>"
      ]
     },
     "metadata": {
      "needs_background": "light"
     },
     "output_type": "display_data"
    }
   ],
   "source": [
    "#Visualize Distribution between Diagnosis of each body part\n",
    "pDiag = []\n",
    "nDiag = []\n",
    "for itype in imageTypes:\n",
    "    nDiag.append(imageDiag[(itype, 0)])\n",
    "    pDiag.append(imageDiag[(itype, 1)])\n",
    "    \n",
    "x_axis = np.arange(n)\n",
    "\n",
    "plt.bar(x_axis-0.2, pDiag, width=0.4, label='Positive', color = 'brown')\n",
    "plt.bar(x_axis+0.2, nDiag, width=0.4, label=\"Negative\", color = 'cornflowerblue')\n",
    "plt.title('Number of Positive and Negative Cases per Bone Type')\n",
    "plt.xticks(x_axis, imageTypes, rotation=45)\n",
    "plt.legend()\n",
    "plt.savefig('Images/Comparison of Number of Positive Cases to Negative Cases.jpg', dpi = 500, bbox_inches='tight')\n",
    "plt.show()\n",
    "\n",
    "#Delete variables to free memory\n",
    "del imageDiag, pDiag, nDiag, imageDistTrain, imageDistVal, imageTrainPercentage, x_axis"
   ]
  },
  {
   "cell_type": "markdown",
   "id": "db530dbe",
   "metadata": {},
   "source": [
    "It appears that in some cases, the distribution between the number of positive cases and negative cases per bone is not equal to each other.\n",
    "\n",
    "The image dimension of each images would be taken to see if the image dimensions are similar to each other in all categories"
   ]
  },
  {
   "cell_type": "code",
   "execution_count": 33,
   "id": "ff20b8c3",
   "metadata": {},
   "outputs": [
    {
     "data": {
      "text/html": [
       "<div>\n",
       "<style scoped>\n",
       "    .dataframe tbody tr th:only-of-type {\n",
       "        vertical-align: middle;\n",
       "    }\n",
       "\n",
       "    .dataframe tbody tr th {\n",
       "        vertical-align: top;\n",
       "    }\n",
       "\n",
       "    .dataframe thead th {\n",
       "        text-align: right;\n",
       "    }\n",
       "</style>\n",
       "<table border=\"1\" class=\"dataframe\">\n",
       "  <thead>\n",
       "    <tr style=\"text-align: right;\">\n",
       "      <th></th>\n",
       "      <th>ImagePath</th>\n",
       "      <th>ImageSet</th>\n",
       "      <th>ImageType</th>\n",
       "      <th>Diagnosis</th>\n",
       "      <th>Height</th>\n",
       "      <th>Width</th>\n",
       "    </tr>\n",
       "  </thead>\n",
       "  <tbody>\n",
       "    <tr>\n",
       "      <th>0</th>\n",
       "      <td>MURA-v1.1/train/XR_SHOULDER/patient00001/study...</td>\n",
       "      <td>train</td>\n",
       "      <td>XR_SHOULDER</td>\n",
       "      <td>1</td>\n",
       "      <td>512</td>\n",
       "      <td>380</td>\n",
       "    </tr>\n",
       "    <tr>\n",
       "      <th>1</th>\n",
       "      <td>MURA-v1.1/train/XR_SHOULDER/patient00001/study...</td>\n",
       "      <td>train</td>\n",
       "      <td>XR_SHOULDER</td>\n",
       "      <td>1</td>\n",
       "      <td>512</td>\n",
       "      <td>303</td>\n",
       "    </tr>\n",
       "    <tr>\n",
       "      <th>2</th>\n",
       "      <td>MURA-v1.1/train/XR_SHOULDER/patient00001/study...</td>\n",
       "      <td>train</td>\n",
       "      <td>XR_SHOULDER</td>\n",
       "      <td>1</td>\n",
       "      <td>410</td>\n",
       "      <td>512</td>\n",
       "    </tr>\n",
       "    <tr>\n",
       "      <th>3</th>\n",
       "      <td>MURA-v1.1/train/XR_SHOULDER/patient00002/study...</td>\n",
       "      <td>train</td>\n",
       "      <td>XR_SHOULDER</td>\n",
       "      <td>1</td>\n",
       "      <td>413</td>\n",
       "      <td>512</td>\n",
       "    </tr>\n",
       "    <tr>\n",
       "      <th>4</th>\n",
       "      <td>MURA-v1.1/train/XR_SHOULDER/patient00002/study...</td>\n",
       "      <td>train</td>\n",
       "      <td>XR_SHOULDER</td>\n",
       "      <td>1</td>\n",
       "      <td>512</td>\n",
       "      <td>440</td>\n",
       "    </tr>\n",
       "    <tr>\n",
       "      <th>...</th>\n",
       "      <td>...</td>\n",
       "      <td>...</td>\n",
       "      <td>...</td>\n",
       "      <td>...</td>\n",
       "      <td>...</td>\n",
       "      <td>...</td>\n",
       "    </tr>\n",
       "    <tr>\n",
       "      <th>40000</th>\n",
       "      <td>MURA-v1.1/valid/XR_FINGER/patient11967/study1_...</td>\n",
       "      <td>valid</td>\n",
       "      <td>XR_FINGER</td>\n",
       "      <td>0</td>\n",
       "      <td>512</td>\n",
       "      <td>407</td>\n",
       "    </tr>\n",
       "    <tr>\n",
       "      <th>40001</th>\n",
       "      <td>MURA-v1.1/valid/XR_FINGER/patient11967/study1_...</td>\n",
       "      <td>valid</td>\n",
       "      <td>XR_FINGER</td>\n",
       "      <td>0</td>\n",
       "      <td>512</td>\n",
       "      <td>407</td>\n",
       "    </tr>\n",
       "    <tr>\n",
       "      <th>40002</th>\n",
       "      <td>MURA-v1.1/valid/XR_FINGER/patient11738/study1_...</td>\n",
       "      <td>valid</td>\n",
       "      <td>XR_FINGER</td>\n",
       "      <td>0</td>\n",
       "      <td>512</td>\n",
       "      <td>406</td>\n",
       "    </tr>\n",
       "    <tr>\n",
       "      <th>40003</th>\n",
       "      <td>MURA-v1.1/valid/XR_FINGER/patient11738/study1_...</td>\n",
       "      <td>valid</td>\n",
       "      <td>XR_FINGER</td>\n",
       "      <td>0</td>\n",
       "      <td>512</td>\n",
       "      <td>406</td>\n",
       "    </tr>\n",
       "    <tr>\n",
       "      <th>40004</th>\n",
       "      <td>MURA-v1.1/valid/XR_FINGER/patient11738/study1_...</td>\n",
       "      <td>valid</td>\n",
       "      <td>XR_FINGER</td>\n",
       "      <td>0</td>\n",
       "      <td>512</td>\n",
       "      <td>406</td>\n",
       "    </tr>\n",
       "  </tbody>\n",
       "</table>\n",
       "<p>40005 rows × 6 columns</p>\n",
       "</div>"
      ],
      "text/plain": [
       "                                               ImagePath ImageSet  \\\n",
       "0      MURA-v1.1/train/XR_SHOULDER/patient00001/study...    train   \n",
       "1      MURA-v1.1/train/XR_SHOULDER/patient00001/study...    train   \n",
       "2      MURA-v1.1/train/XR_SHOULDER/patient00001/study...    train   \n",
       "3      MURA-v1.1/train/XR_SHOULDER/patient00002/study...    train   \n",
       "4      MURA-v1.1/train/XR_SHOULDER/patient00002/study...    train   \n",
       "...                                                  ...      ...   \n",
       "40000  MURA-v1.1/valid/XR_FINGER/patient11967/study1_...    valid   \n",
       "40001  MURA-v1.1/valid/XR_FINGER/patient11967/study1_...    valid   \n",
       "40002  MURA-v1.1/valid/XR_FINGER/patient11738/study1_...    valid   \n",
       "40003  MURA-v1.1/valid/XR_FINGER/patient11738/study1_...    valid   \n",
       "40004  MURA-v1.1/valid/XR_FINGER/patient11738/study1_...    valid   \n",
       "\n",
       "         ImageType Diagnosis  Height  Width  \n",
       "0      XR_SHOULDER         1     512    380  \n",
       "1      XR_SHOULDER         1     512    303  \n",
       "2      XR_SHOULDER         1     410    512  \n",
       "3      XR_SHOULDER         1     413    512  \n",
       "4      XR_SHOULDER         1     512    440  \n",
       "...            ...       ...     ...    ...  \n",
       "40000    XR_FINGER         0     512    407  \n",
       "40001    XR_FINGER         0     512    407  \n",
       "40002    XR_FINGER         0     512    406  \n",
       "40003    XR_FINGER         0     512    406  \n",
       "40004    XR_FINGER         0     512    406  \n",
       "\n",
       "[40005 rows x 6 columns]"
      ]
     },
     "execution_count": 33,
     "metadata": {},
     "output_type": "execute_result"
    }
   ],
   "source": [
    "height = []\n",
    "width = []\n",
    "for ipath in df['ImagePath']:\n",
    "    image = Image.open(ipath)\n",
    "    height.append(image.height)\n",
    "    width.append(image.width)\n",
    "    image.close()\n",
    "df['Height'] = height\n",
    "df['Width'] = width\n",
    "df"
   ]
  },
  {
   "cell_type": "code",
   "execution_count": 34,
   "id": "ae40d630",
   "metadata": {},
   "outputs": [
    {
     "data": {
      "text/plain": [
       "Height  Width\n",
       "512     406      6366\n",
       "406     512      2009\n",
       "512     407      1901\n",
       "        379      1895\n",
       "        420      1620\n",
       "                 ... \n",
       "250     512         1\n",
       "251     512         1\n",
       "252     512         1\n",
       "254     512         1\n",
       "132     512         1\n",
       "Length: 752, dtype: int64"
      ]
     },
     "execution_count": 34,
     "metadata": {},
     "output_type": "execute_result"
    }
   ],
   "source": [
    "df[['Height', 'Width']].value_counts()"
   ]
  },
  {
   "cell_type": "markdown",
   "id": "dd6e0711",
   "metadata": {},
   "source": [
    "The height and the width of each images in the dataset varies, where-in there are 752 unique image sizes, where the most common image size is 512 x 406"
   ]
  },
  {
   "cell_type": "code",
   "execution_count": null,
   "id": "5026fb65",
   "metadata": {},
   "outputs": [],
   "source": []
  }
 ],
 "metadata": {
  "kernelspec": {
   "display_name": "Python 3 (ipykernel)",
   "language": "python",
   "name": "python3"
  },
  "language_info": {
   "codemirror_mode": {
    "name": "ipython",
    "version": 3
   },
   "file_extension": ".py",
   "mimetype": "text/x-python",
   "name": "python",
   "nbconvert_exporter": "python",
   "pygments_lexer": "ipython3",
   "version": "3.9.7"
  }
 },
 "nbformat": 4,
 "nbformat_minor": 5
}
