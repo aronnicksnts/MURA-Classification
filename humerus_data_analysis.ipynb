{
 "cells": [
  {
   "cell_type": "code",
   "execution_count": 2,
   "id": "82751f3d",
   "metadata": {},
   "outputs": [],
   "source": [
    "import pandas as pd\n",
    "import numpy as np\n",
    "import matplotlib.pyplot as plt\n",
    "from PIL import Image"
   ]
  },
  {
   "cell_type": "code",
   "execution_count": 3,
   "id": "3a72d500",
   "metadata": {},
   "outputs": [],
   "source": [
    "df_train = pd.read_csv(\"MURA-v1.1/train_image_paths.csv\", header=None)\n",
    "df_val = pd.read_csv(\"MURA-v1.1/valid_image_paths.csv\", header=None)"
   ]
  },
  {
   "cell_type": "code",
   "execution_count": 4,
   "id": "fa093483",
   "metadata": {},
   "outputs": [
    {
     "data": {
      "text/html": [
       "<div>\n",
       "<style scoped>\n",
       "    .dataframe tbody tr th:only-of-type {\n",
       "        vertical-align: middle;\n",
       "    }\n",
       "\n",
       "    .dataframe tbody tr th {\n",
       "        vertical-align: top;\n",
       "    }\n",
       "\n",
       "    .dataframe thead th {\n",
       "        text-align: right;\n",
       "    }\n",
       "</style>\n",
       "<table border=\"1\" class=\"dataframe\">\n",
       "  <thead>\n",
       "    <tr style=\"text-align: right;\">\n",
       "      <th></th>\n",
       "      <th>0</th>\n",
       "    </tr>\n",
       "  </thead>\n",
       "  <tbody>\n",
       "    <tr>\n",
       "      <th>0</th>\n",
       "      <td>MURA-v1.1/train/XR_HUMERUS/patient03120/study1...</td>\n",
       "    </tr>\n",
       "    <tr>\n",
       "      <th>1</th>\n",
       "      <td>MURA-v1.1/train/XR_HUMERUS/patient03120/study1...</td>\n",
       "    </tr>\n",
       "    <tr>\n",
       "      <th>2</th>\n",
       "      <td>MURA-v1.1/train/XR_HUMERUS/patient03121/study1...</td>\n",
       "    </tr>\n",
       "    <tr>\n",
       "      <th>3</th>\n",
       "      <td>MURA-v1.1/train/XR_HUMERUS/patient03121/study1...</td>\n",
       "    </tr>\n",
       "    <tr>\n",
       "      <th>4</th>\n",
       "      <td>MURA-v1.1/train/XR_HUMERUS/patient03122/study1...</td>\n",
       "    </tr>\n",
       "    <tr>\n",
       "      <th>...</th>\n",
       "      <td>...</td>\n",
       "    </tr>\n",
       "    <tr>\n",
       "      <th>213</th>\n",
       "      <td>MURA-v1.1/train/XR_HUMERUS/patient03224/study1...</td>\n",
       "    </tr>\n",
       "    <tr>\n",
       "      <th>214</th>\n",
       "      <td>MURA-v1.1/train/XR_HUMERUS/patient03225/study1...</td>\n",
       "    </tr>\n",
       "    <tr>\n",
       "      <th>215</th>\n",
       "      <td>MURA-v1.1/train/XR_HUMERUS/patient03225/study1...</td>\n",
       "    </tr>\n",
       "    <tr>\n",
       "      <th>216</th>\n",
       "      <td>MURA-v1.1/train/XR_HUMERUS/patient03226/study1...</td>\n",
       "    </tr>\n",
       "    <tr>\n",
       "      <th>217</th>\n",
       "      <td>MURA-v1.1/train/XR_HUMERUS/patient03226/study1...</td>\n",
       "    </tr>\n",
       "  </tbody>\n",
       "</table>\n",
       "<p>218 rows × 1 columns</p>\n",
       "</div>"
      ],
      "text/plain": [
       "                                                     0\n",
       "0    MURA-v1.1/train/XR_HUMERUS/patient03120/study1...\n",
       "1    MURA-v1.1/train/XR_HUMERUS/patient03120/study1...\n",
       "2    MURA-v1.1/train/XR_HUMERUS/patient03121/study1...\n",
       "3    MURA-v1.1/train/XR_HUMERUS/patient03121/study1...\n",
       "4    MURA-v1.1/train/XR_HUMERUS/patient03122/study1...\n",
       "..                                                 ...\n",
       "213  MURA-v1.1/train/XR_HUMERUS/patient03224/study1...\n",
       "214  MURA-v1.1/train/XR_HUMERUS/patient03225/study1...\n",
       "215  MURA-v1.1/train/XR_HUMERUS/patient03225/study1...\n",
       "216  MURA-v1.1/train/XR_HUMERUS/patient03226/study1...\n",
       "217  MURA-v1.1/train/XR_HUMERUS/patient03226/study1...\n",
       "\n",
       "[218 rows x 1 columns]"
      ]
     },
     "execution_count": 4,
     "metadata": {},
     "output_type": "execute_result"
    }
   ],
   "source": [
    "df_train"
   ]
  },
  {
   "cell_type": "code",
   "execution_count": 5,
   "id": "bf21e2cf",
   "metadata": {},
   "outputs": [
    {
     "data": {
      "text/html": [
       "<div>\n",
       "<style scoped>\n",
       "    .dataframe tbody tr th:only-of-type {\n",
       "        vertical-align: middle;\n",
       "    }\n",
       "\n",
       "    .dataframe tbody tr th {\n",
       "        vertical-align: top;\n",
       "    }\n",
       "\n",
       "    .dataframe thead th {\n",
       "        text-align: right;\n",
       "    }\n",
       "</style>\n",
       "<table border=\"1\" class=\"dataframe\">\n",
       "  <thead>\n",
       "    <tr style=\"text-align: right;\">\n",
       "      <th></th>\n",
       "      <th>0</th>\n",
       "    </tr>\n",
       "  </thead>\n",
       "  <tbody>\n",
       "    <tr>\n",
       "      <th>0</th>\n",
       "      <td>MURA-v1.1/valid/XR_HUMERUS/patient11186/study1...</td>\n",
       "    </tr>\n",
       "    <tr>\n",
       "      <th>1</th>\n",
       "      <td>MURA-v1.1/valid/XR_HUMERUS/patient11186/study1...</td>\n",
       "    </tr>\n",
       "    <tr>\n",
       "      <th>2</th>\n",
       "      <td>MURA-v1.1/valid/XR_HUMERUS/patient11200/study1...</td>\n",
       "    </tr>\n",
       "    <tr>\n",
       "      <th>3</th>\n",
       "      <td>MURA-v1.1/valid/XR_HUMERUS/patient11200/study1...</td>\n",
       "    </tr>\n",
       "    <tr>\n",
       "      <th>4</th>\n",
       "      <td>MURA-v1.1/valid/XR_HUMERUS/patient11214/study1...</td>\n",
       "    </tr>\n",
       "    <tr>\n",
       "      <th>...</th>\n",
       "      <td>...</td>\n",
       "    </tr>\n",
       "    <tr>\n",
       "      <th>283</th>\n",
       "      <td>MURA-v1.1/valid/XR_HUMERUS/patient11700/study1...</td>\n",
       "    </tr>\n",
       "    <tr>\n",
       "      <th>284</th>\n",
       "      <td>MURA-v1.1/valid/XR_HUMERUS/patient11701/study1...</td>\n",
       "    </tr>\n",
       "    <tr>\n",
       "      <th>285</th>\n",
       "      <td>MURA-v1.1/valid/XR_HUMERUS/patient11701/study1...</td>\n",
       "    </tr>\n",
       "    <tr>\n",
       "      <th>286</th>\n",
       "      <td>MURA-v1.1/valid/XR_HUMERUS/patient11702/study1...</td>\n",
       "    </tr>\n",
       "    <tr>\n",
       "      <th>287</th>\n",
       "      <td>MURA-v1.1/valid/XR_HUMERUS/patient11702/study1...</td>\n",
       "    </tr>\n",
       "  </tbody>\n",
       "</table>\n",
       "<p>288 rows × 1 columns</p>\n",
       "</div>"
      ],
      "text/plain": [
       "                                                     0\n",
       "0    MURA-v1.1/valid/XR_HUMERUS/patient11186/study1...\n",
       "1    MURA-v1.1/valid/XR_HUMERUS/patient11186/study1...\n",
       "2    MURA-v1.1/valid/XR_HUMERUS/patient11200/study1...\n",
       "3    MURA-v1.1/valid/XR_HUMERUS/patient11200/study1...\n",
       "4    MURA-v1.1/valid/XR_HUMERUS/patient11214/study1...\n",
       "..                                                 ...\n",
       "283  MURA-v1.1/valid/XR_HUMERUS/patient11700/study1...\n",
       "284  MURA-v1.1/valid/XR_HUMERUS/patient11701/study1...\n",
       "285  MURA-v1.1/valid/XR_HUMERUS/patient11701/study1...\n",
       "286  MURA-v1.1/valid/XR_HUMERUS/patient11702/study1...\n",
       "287  MURA-v1.1/valid/XR_HUMERUS/patient11702/study1...\n",
       "\n",
       "[288 rows x 1 columns]"
      ]
     },
     "execution_count": 5,
     "metadata": {},
     "output_type": "execute_result"
    }
   ],
   "source": [
    "df_val"
   ]
  },
  {
   "cell_type": "code",
   "execution_count": 6,
   "id": "81e5542c",
   "metadata": {},
   "outputs": [
    {
     "name": "stdout",
     "output_type": "stream",
     "text": [
      "df_train Percentage: 43.08300395256917\n",
      "df_val Percentage: 56.916996047430835\n"
     ]
    }
   ],
   "source": [
    "print(\"df_train Percentage:\", df_train.count()[0]/(df_train.count()[0]+df_val.count()[0])*100)\n",
    "print(\"df_val Percentage:\", df_val.count()[0]/(df_train.count()[0]+df_val.count()[0])*100)"
   ]
  },
  {
   "cell_type": "code",
   "execution_count": 7,
   "id": "bdc164df",
   "metadata": {},
   "outputs": [],
   "source": [
    "df_train[0] = df_train[0].astype(str)\n",
    "df_val[0] = df_val[0].astype(str)"
   ]
  },
  {
   "cell_type": "code",
   "execution_count": 8,
   "id": "a1137c59",
   "metadata": {},
   "outputs": [],
   "source": [
    "df = pd.concat([df_train, df_val], axis=0, ignore_index = True)"
   ]
  },
  {
   "cell_type": "code",
   "execution_count": 9,
   "id": "87fedc3e",
   "metadata": {},
   "outputs": [],
   "source": [
    "#Split image path\n",
    "imageSplit= df[0].str.split('/', n=5, expand=True)"
   ]
  },
  {
   "cell_type": "code",
   "execution_count": 10,
   "id": "760a1ed3",
   "metadata": {},
   "outputs": [],
   "source": [
    "df['ImageSet'] = imageSplit[1]\n",
    "df['ImageType'] = imageSplit[2]\n",
    "df['Diagnosis'] = imageSplit[4].str.split('_', n=1, expand=True)[1]\n",
    "df = df.rename(columns={0: 'ImagePath'})\n"
   ]
  },
  {
   "cell_type": "code",
   "execution_count": 12,
   "id": "0fb37658",
   "metadata": {},
   "outputs": [
    {
     "data": {
      "text/html": [
       "<div>\n",
       "<style scoped>\n",
       "    .dataframe tbody tr th:only-of-type {\n",
       "        vertical-align: middle;\n",
       "    }\n",
       "\n",
       "    .dataframe tbody tr th {\n",
       "        vertical-align: top;\n",
       "    }\n",
       "\n",
       "    .dataframe thead th {\n",
       "        text-align: right;\n",
       "    }\n",
       "</style>\n",
       "<table border=\"1\" class=\"dataframe\">\n",
       "  <thead>\n",
       "    <tr style=\"text-align: right;\">\n",
       "      <th></th>\n",
       "      <th>ImagePath</th>\n",
       "      <th>ImageSet</th>\n",
       "      <th>ImageType</th>\n",
       "      <th>Diagnosis</th>\n",
       "    </tr>\n",
       "  </thead>\n",
       "  <tbody>\n",
       "    <tr>\n",
       "      <th>0</th>\n",
       "      <td>MURA-v1.1/train/XR_HUMERUS/patient03120/study1...</td>\n",
       "      <td>train</td>\n",
       "      <td>XR_HUMERUS</td>\n",
       "      <td>negative</td>\n",
       "    </tr>\n",
       "    <tr>\n",
       "      <th>1</th>\n",
       "      <td>MURA-v1.1/train/XR_HUMERUS/patient03120/study1...</td>\n",
       "      <td>train</td>\n",
       "      <td>XR_HUMERUS</td>\n",
       "      <td>negative</td>\n",
       "    </tr>\n",
       "    <tr>\n",
       "      <th>2</th>\n",
       "      <td>MURA-v1.1/train/XR_HUMERUS/patient03121/study1...</td>\n",
       "      <td>train</td>\n",
       "      <td>XR_HUMERUS</td>\n",
       "      <td>negative</td>\n",
       "    </tr>\n",
       "    <tr>\n",
       "      <th>3</th>\n",
       "      <td>MURA-v1.1/train/XR_HUMERUS/patient03121/study1...</td>\n",
       "      <td>train</td>\n",
       "      <td>XR_HUMERUS</td>\n",
       "      <td>negative</td>\n",
       "    </tr>\n",
       "    <tr>\n",
       "      <th>4</th>\n",
       "      <td>MURA-v1.1/train/XR_HUMERUS/patient03122/study1...</td>\n",
       "      <td>train</td>\n",
       "      <td>XR_HUMERUS</td>\n",
       "      <td>negative</td>\n",
       "    </tr>\n",
       "  </tbody>\n",
       "</table>\n",
       "</div>"
      ],
      "text/plain": [
       "                                           ImagePath ImageSet   ImageType  \\\n",
       "0  MURA-v1.1/train/XR_HUMERUS/patient03120/study1...    train  XR_HUMERUS   \n",
       "1  MURA-v1.1/train/XR_HUMERUS/patient03120/study1...    train  XR_HUMERUS   \n",
       "2  MURA-v1.1/train/XR_HUMERUS/patient03121/study1...    train  XR_HUMERUS   \n",
       "3  MURA-v1.1/train/XR_HUMERUS/patient03121/study1...    train  XR_HUMERUS   \n",
       "4  MURA-v1.1/train/XR_HUMERUS/patient03122/study1...    train  XR_HUMERUS   \n",
       "\n",
       "  Diagnosis  \n",
       "0  negative  \n",
       "1  negative  \n",
       "2  negative  \n",
       "3  negative  \n",
       "4  negative  "
      ]
     },
     "execution_count": 12,
     "metadata": {},
     "output_type": "execute_result"
    }
   ],
   "source": [
    "df.head()"
   ]
  },
  {
   "cell_type": "code",
   "execution_count": null,
   "id": "98563f98",
   "metadata": {},
   "outputs": [],
   "source": [
    "#Change positives to 1s and Negatives to 0\n",
    "df.loc[df['Diagnosis'] == 'positive', 'Diagnosis'] = 1\n",
    "df.loc[df['Diagnosis'] == 'negative', 'Diagnosis'] = 0"
   ]
  },
  {
   "cell_type": "code",
   "execution_count": 10,
   "id": "de3cffa7",
   "metadata": {},
   "outputs": [
    {
     "data": {
      "text/html": [
       "<div>\n",
       "<style scoped>\n",
       "    .dataframe tbody tr th:only-of-type {\n",
       "        vertical-align: middle;\n",
       "    }\n",
       "\n",
       "    .dataframe tbody tr th {\n",
       "        vertical-align: top;\n",
       "    }\n",
       "\n",
       "    .dataframe thead th {\n",
       "        text-align: right;\n",
       "    }\n",
       "</style>\n",
       "<table border=\"1\" class=\"dataframe\">\n",
       "  <thead>\n",
       "    <tr style=\"text-align: right;\">\n",
       "      <th></th>\n",
       "      <th>ImagePath</th>\n",
       "      <th>ImageSet</th>\n",
       "      <th>ImageType</th>\n",
       "      <th>Diagnosis</th>\n",
       "    </tr>\n",
       "  </thead>\n",
       "  <tbody>\n",
       "    <tr>\n",
       "      <th>0</th>\n",
       "      <td>MURA-v1.1/train/XR_HUMERUS/patient03120/study1...</td>\n",
       "      <td>train</td>\n",
       "      <td>XR_HUMERUS</td>\n",
       "      <td>0</td>\n",
       "    </tr>\n",
       "    <tr>\n",
       "      <th>1</th>\n",
       "      <td>MURA-v1.1/train/XR_HUMERUS/patient03120/study1...</td>\n",
       "      <td>train</td>\n",
       "      <td>XR_HUMERUS</td>\n",
       "      <td>0</td>\n",
       "    </tr>\n",
       "    <tr>\n",
       "      <th>2</th>\n",
       "      <td>MURA-v1.1/train/XR_HUMERUS/patient03121/study1...</td>\n",
       "      <td>train</td>\n",
       "      <td>XR_HUMERUS</td>\n",
       "      <td>0</td>\n",
       "    </tr>\n",
       "    <tr>\n",
       "      <th>3</th>\n",
       "      <td>MURA-v1.1/train/XR_HUMERUS/patient03121/study1...</td>\n",
       "      <td>train</td>\n",
       "      <td>XR_HUMERUS</td>\n",
       "      <td>0</td>\n",
       "    </tr>\n",
       "    <tr>\n",
       "      <th>4</th>\n",
       "      <td>MURA-v1.1/train/XR_HUMERUS/patient03122/study1...</td>\n",
       "      <td>train</td>\n",
       "      <td>XR_HUMERUS</td>\n",
       "      <td>0</td>\n",
       "    </tr>\n",
       "  </tbody>\n",
       "</table>\n",
       "</div>"
      ],
      "text/plain": [
       "                                           ImagePath ImageSet   ImageType  \\\n",
       "0  MURA-v1.1/train/XR_HUMERUS/patient03120/study1...    train  XR_HUMERUS   \n",
       "1  MURA-v1.1/train/XR_HUMERUS/patient03120/study1...    train  XR_HUMERUS   \n",
       "2  MURA-v1.1/train/XR_HUMERUS/patient03121/study1...    train  XR_HUMERUS   \n",
       "3  MURA-v1.1/train/XR_HUMERUS/patient03121/study1...    train  XR_HUMERUS   \n",
       "4  MURA-v1.1/train/XR_HUMERUS/patient03122/study1...    train  XR_HUMERUS   \n",
       "\n",
       "  Diagnosis  \n",
       "0         0  \n",
       "1         0  \n",
       "2         0  \n",
       "3         0  \n",
       "4         0  "
      ]
     },
     "execution_count": 10,
     "metadata": {},
     "output_type": "execute_result"
    }
   ],
   "source": [
    "df.head()"
   ]
  },
  {
   "cell_type": "code",
   "execution_count": 11,
   "id": "1a5f0250",
   "metadata": {},
   "outputs": [],
   "source": [
    "#Image distribution per each ImageType and ImageSet\n",
    "imageDist = df[['ImageSet', 'ImageType']].value_counts()"
   ]
  },
  {
   "cell_type": "code",
   "execution_count": 12,
   "id": "4939d2a5",
   "metadata": {},
   "outputs": [
    {
     "data": {
      "text/plain": [
       "ImageSet  ImageType \n",
       "valid     XR_HUMERUS    288\n",
       "train     XR_HUMERUS    218\n",
       "dtype: int64"
      ]
     },
     "execution_count": 12,
     "metadata": {},
     "output_type": "execute_result"
    }
   ],
   "source": [
    "imageDist"
   ]
  },
  {
   "cell_type": "code",
   "execution_count": 13,
   "id": "ed4b72d3",
   "metadata": {},
   "outputs": [
    {
     "data": {
      "image/png": "[encoded data removed]",
      "text/plain": [
       "<Figure size 640x480 with 1 Axes>"
      ]
     },
     "metadata": {},
     "output_type": "display_data"
    }
   ],
   "source": [
    "#Visualize Distribution\n",
    "n = len(imageDist)//2\n",
    "imageTypes = []\n",
    "for imageType in imageDist.keys()[:n]:\n",
    "    imageTypes.append(imageType[1])\n",
    "\n",
    "x_axis = np.arange(n)\n",
    "\n",
    "plt.bar(x_axis-0.2, imageDist[:n], width=0.4, label='Training Set')\n",
    "plt.bar(x_axis+0.2, imageDist[n:], width=0.4, label=\"Validation Set\")\n",
    "plt.xticks(x_axis, imageTypes, rotation=45)\n",
    "plt.legend()\n",
    "plt.title('Initial Training and Validation Set')\n",
    "# plt.savefig('Images/Initial Training and Validation Set.jpg', dpi = 500, bbox_inches='tight')\n",
    "plt.show()"
   ]
  },
  {
   "cell_type": "code",
   "execution_count": 14,
   "id": "ee549bae",
   "metadata": {},
   "outputs": [],
   "source": [
    "imageDistTrain = imageDist.to_numpy()[:n]\n",
    "imageDistVal = imageDist.to_numpy()[n:]\n",
    "imageTrainPercentage = imageDistTrain/(imageDistTrain+imageDistVal)*100"
   ]
  },
  {
   "cell_type": "code",
   "execution_count": 15,
   "id": "00564af2",
   "metadata": {},
   "outputs": [
    {
     "data": {
      "image/png": "[encoded data removed]",
      "text/plain": [
       "<Figure size 640x480 with 1 Axes>"
      ]
     },
     "metadata": {},
     "output_type": "display_data"
    }
   ],
   "source": [
    "plt.bar(x_axis, imageTrainPercentage)\n",
    "plt.xticks(x_axis, imageTypes, rotation=45)\n",
    "plt.title('Percentage of Training Set compared to Validation Set')\n",
    "# plt.savefig('Images/Percentage of Training Set compared to Validation Set.jpg', dpi = 500, bbox_inches='tight')\n",
    "plt.show()"
   ]
  },
  {
   "cell_type": "code",
   "execution_count": 16,
   "id": "94d8a3bf",
   "metadata": {},
   "outputs": [
    {
     "data": {
      "text/plain": [
       "ImageType   Diagnosis\n",
       "XR_HUMERUS  0            366\n",
       "            1            140\n",
       "dtype: int64"
      ]
     },
     "execution_count": 16,
     "metadata": {},
     "output_type": "execute_result"
    }
   ],
   "source": [
    "imageDiag = df[['ImageType', 'Diagnosis']].value_counts()\n",
    "imageDiag"
   ]
  },
  {
   "cell_type": "code",
   "execution_count": 17,
   "id": "e9f4ea9d",
   "metadata": {},
   "outputs": [
    {
     "data": {
      "image/png": "[encoded data removed]",
      "text/plain": [
       "<Figure size 640x480 with 1 Axes>"
      ]
     },
     "metadata": {},
     "output_type": "display_data"
    }
   ],
   "source": [
    "#Visualize Distribution between Diagnosis of humerus bone\n",
    "pDiag = []\n",
    "nDiag = []\n",
    "for itype in imageTypes:\n",
    "    nDiag.append(imageDiag[(itype, 0)])\n",
    "    pDiag.append(imageDiag[(itype, 1)])\n",
    "    \n",
    "x_axis = np.arange(n)\n",
    "\n",
    "plt.bar(x_axis-0.2, pDiag, width=0.4, label='Positive', color = 'brown')\n",
    "plt.bar(x_axis+0.2, nDiag, width=0.4, label=\"Negative\", color = 'cornflowerblue')\n",
    "plt.title('Number of Positive and Negative Cases per Humerus Bone')\n",
    "plt.xticks(x_axis, imageTypes, rotation=45)\n",
    "plt.legend()\n",
    "# plt.savefig('Images/Comparison of Number of Positive Cases to Negative Cases.jpg', dpi = 500, bbox_inches='tight')\n",
    "plt.show()\n",
    "\n",
    "#Delete variables to free memory\n",
    "del imageDiag, pDiag, nDiag, imageDistTrain, imageDistVal, imageTrainPercentage, x_axis"
   ]
  },
  {
   "cell_type": "code",
   "execution_count": 18,
   "id": "8ef61adb",
   "metadata": {},
   "outputs": [
    {
     "data": {
      "text/html": [
       "<div>\n",
       "<style scoped>\n",
       "    .dataframe tbody tr th:only-of-type {\n",
       "        vertical-align: middle;\n",
       "    }\n",
       "\n",
       "    .dataframe tbody tr th {\n",
       "        vertical-align: top;\n",
       "    }\n",
       "\n",
       "    .dataframe thead th {\n",
       "        text-align: right;\n",
       "    }\n",
       "</style>\n",
       "<table border=\"1\" class=\"dataframe\">\n",
       "  <thead>\n",
       "    <tr style=\"text-align: right;\">\n",
       "      <th></th>\n",
       "      <th>ImagePath</th>\n",
       "      <th>ImageSet</th>\n",
       "      <th>ImageType</th>\n",
       "      <th>Diagnosis</th>\n",
       "      <th>Height</th>\n",
       "      <th>Width</th>\n",
       "    </tr>\n",
       "  </thead>\n",
       "  <tbody>\n",
       "    <tr>\n",
       "      <th>0</th>\n",
       "      <td>MURA-v1.1/train/XR_HUMERUS/patient03120/study1...</td>\n",
       "      <td>train</td>\n",
       "      <td>XR_HUMERUS</td>\n",
       "      <td>0</td>\n",
       "      <td>512</td>\n",
       "      <td>420</td>\n",
       "    </tr>\n",
       "    <tr>\n",
       "      <th>1</th>\n",
       "      <td>MURA-v1.1/train/XR_HUMERUS/patient03120/study1...</td>\n",
       "      <td>train</td>\n",
       "      <td>XR_HUMERUS</td>\n",
       "      <td>0</td>\n",
       "      <td>512</td>\n",
       "      <td>420</td>\n",
       "    </tr>\n",
       "    <tr>\n",
       "      <th>2</th>\n",
       "      <td>MURA-v1.1/train/XR_HUMERUS/patient03121/study1...</td>\n",
       "      <td>train</td>\n",
       "      <td>XR_HUMERUS</td>\n",
       "      <td>0</td>\n",
       "      <td>512</td>\n",
       "      <td>420</td>\n",
       "    </tr>\n",
       "    <tr>\n",
       "      <th>3</th>\n",
       "      <td>MURA-v1.1/train/XR_HUMERUS/patient03121/study1...</td>\n",
       "      <td>train</td>\n",
       "      <td>XR_HUMERUS</td>\n",
       "      <td>0</td>\n",
       "      <td>512</td>\n",
       "      <td>420</td>\n",
       "    </tr>\n",
       "    <tr>\n",
       "      <th>4</th>\n",
       "      <td>MURA-v1.1/train/XR_HUMERUS/patient03122/study1...</td>\n",
       "      <td>train</td>\n",
       "      <td>XR_HUMERUS</td>\n",
       "      <td>0</td>\n",
       "      <td>512</td>\n",
       "      <td>420</td>\n",
       "    </tr>\n",
       "    <tr>\n",
       "      <th>...</th>\n",
       "      <td>...</td>\n",
       "      <td>...</td>\n",
       "      <td>...</td>\n",
       "      <td>...</td>\n",
       "      <td>...</td>\n",
       "      <td>...</td>\n",
       "    </tr>\n",
       "    <tr>\n",
       "      <th>501</th>\n",
       "      <td>MURA-v1.1/valid/XR_HUMERUS/patient11700/study1...</td>\n",
       "      <td>valid</td>\n",
       "      <td>XR_HUMERUS</td>\n",
       "      <td>0</td>\n",
       "      <td>421</td>\n",
       "      <td>512</td>\n",
       "    </tr>\n",
       "    <tr>\n",
       "      <th>502</th>\n",
       "      <td>MURA-v1.1/valid/XR_HUMERUS/patient11701/study1...</td>\n",
       "      <td>valid</td>\n",
       "      <td>XR_HUMERUS</td>\n",
       "      <td>0</td>\n",
       "      <td>512</td>\n",
       "      <td>403</td>\n",
       "    </tr>\n",
       "    <tr>\n",
       "      <th>503</th>\n",
       "      <td>MURA-v1.1/valid/XR_HUMERUS/patient11701/study1...</td>\n",
       "      <td>valid</td>\n",
       "      <td>XR_HUMERUS</td>\n",
       "      <td>0</td>\n",
       "      <td>512</td>\n",
       "      <td>437</td>\n",
       "    </tr>\n",
       "    <tr>\n",
       "      <th>504</th>\n",
       "      <td>MURA-v1.1/valid/XR_HUMERUS/patient11702/study1...</td>\n",
       "      <td>valid</td>\n",
       "      <td>XR_HUMERUS</td>\n",
       "      <td>0</td>\n",
       "      <td>512</td>\n",
       "      <td>420</td>\n",
       "    </tr>\n",
       "    <tr>\n",
       "      <th>505</th>\n",
       "      <td>MURA-v1.1/valid/XR_HUMERUS/patient11702/study1...</td>\n",
       "      <td>valid</td>\n",
       "      <td>XR_HUMERUS</td>\n",
       "      <td>0</td>\n",
       "      <td>512</td>\n",
       "      <td>420</td>\n",
       "    </tr>\n",
       "  </tbody>\n",
       "</table>\n",
       "<p>506 rows × 6 columns</p>\n",
       "</div>"
      ],
      "text/plain": [
       "                                             ImagePath ImageSet   ImageType  \\\n",
       "0    MURA-v1.1/train/XR_HUMERUS/patient03120/study1...    train  XR_HUMERUS   \n",
       "1    MURA-v1.1/train/XR_HUMERUS/patient03120/study1...    train  XR_HUMERUS   \n",
       "2    MURA-v1.1/train/XR_HUMERUS/patient03121/study1...    train  XR_HUMERUS   \n",
       "3    MURA-v1.1/train/XR_HUMERUS/patient03121/study1...    train  XR_HUMERUS   \n",
       "4    MURA-v1.1/train/XR_HUMERUS/patient03122/study1...    train  XR_HUMERUS   \n",
       "..                                                 ...      ...         ...   \n",
       "501  MURA-v1.1/valid/XR_HUMERUS/patient11700/study1...    valid  XR_HUMERUS   \n",
       "502  MURA-v1.1/valid/XR_HUMERUS/patient11701/study1...    valid  XR_HUMERUS   \n",
       "503  MURA-v1.1/valid/XR_HUMERUS/patient11701/study1...    valid  XR_HUMERUS   \n",
       "504  MURA-v1.1/valid/XR_HUMERUS/patient11702/study1...    valid  XR_HUMERUS   \n",
       "505  MURA-v1.1/valid/XR_HUMERUS/patient11702/study1...    valid  XR_HUMERUS   \n",
       "\n",
       "    Diagnosis  Height  Width  \n",
       "0           0     512    420  \n",
       "1           0     512    420  \n",
       "2           0     512    420  \n",
       "3           0     512    420  \n",
       "4           0     512    420  \n",
       "..        ...     ...    ...  \n",
       "501         0     421    512  \n",
       "502         0     512    403  \n",
       "503         0     512    437  \n",
       "504         0     512    420  \n",
       "505         0     512    420  \n",
       "\n",
       "[506 rows x 6 columns]"
      ]
     },
     "execution_count": 18,
     "metadata": {},
     "output_type": "execute_result"
    }
   ],
   "source": [
    "height = []\n",
    "width = []\n",
    "for ipath in df['ImagePath']:\n",
    "    image = Image.open(ipath)\n",
    "    height.append(image.height)\n",
    "    width.append(image.width)\n",
    "    image.close()\n",
    "df['Height'] = height\n",
    "df['Width'] = width\n",
    "df"
   ]
  },
  {
   "cell_type": "code",
   "execution_count": 19,
   "id": "7a564c64",
   "metadata": {},
   "outputs": [
    {
     "data": {
      "text/plain": [
       "Height  Width\n",
       "512     420      194\n",
       "        512       62\n",
       "        421       23\n",
       "420     512       16\n",
       "509     512       14\n",
       "                ... \n",
       "512     258        1\n",
       "        252        1\n",
       "        249        1\n",
       "        242        1\n",
       "        363        1\n",
       "Length: 139, dtype: int64"
      ]
     },
     "execution_count": 19,
     "metadata": {},
     "output_type": "execute_result"
    }
   ],
   "source": [
    "df[['Height', 'Width']].value_counts()"
   ]
  },
  {
   "cell_type": "code",
   "execution_count": null,
   "id": "477a23e3",
   "metadata": {},
   "outputs": [],
   "source": []
  }
 ],
 "metadata": {
  "kernelspec": {
   "display_name": "Python 3 (ipykernel)",
   "language": "python",
   "name": "python3"
  },
  "language_info": {
   "codemirror_mode": {
    "name": "ipython",
    "version": 3
   },
   "file_extension": ".py",
   "mimetype": "text/x-python",
   "name": "python",
   "nbconvert_exporter": "python",
   "pygments_lexer": "ipython3",
   "version": "3.11.2"
  }
 },
 "nbformat": 4,
 "nbformat_minor": 5
}
