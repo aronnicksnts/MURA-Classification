{
 "cells": [
  {
   "cell_type": "code",
   "execution_count": 1,
   "id": "fd83d4e1",
   "metadata": {},
   "outputs": [],
   "source": [
    "import warnings\n",
    "warnings.filterwarnings(\"ignore\")"
   ]
  },
  {
   "cell_type": "code",
   "execution_count": 5,
   "id": "3f7f3e31",
   "metadata": {},
   "outputs": [],
   "source": [
    "import pandas\n",
    "import torch\n",
    "import SimpleITK as sitk\n",
    "import numpy as np\n",
    "import os\n",
    "import matplotlib.pyplot as plt\n",
    "from PIL import Image\n",
    "from tqdm import tqdm\n",
    "from torchvision import transforms, datasets\n",
    "from torch.utils import data"
   ]
  },
  {
   "cell_type": "code",
   "execution_count": 3,
   "id": "cb840dc9",
   "metadata": {},
   "outputs": [],
   "source": [
    "DATA_PATH = 'C:/Users/Kyle/'"
   ]
  },
  {
   "cell_type": "code",
   "execution_count": 4,
   "id": "127bb710",
   "metadata": {},
   "outputs": [],
   "source": [
    "def read_data():\n",
    "    data_path = DATA_PATH + 'Desktop/Python/MURA-v1.1/'\n",
    "    sub_path = 'train/study1_negative/'\n",
    "    train_xray = pandas.read_csv(data_path + 'train_labeled_studies.csv', header=None)\n",
    "    train_xray[0] = train_xray[0].astype(str)\n",
    "    humerus_xray = pandas.concat([train_xray], axis=0, ignore_index=True)\n",
    "\n",
    "    # Split image path\n",
    "    imageSplit = train_xray[0].str.split('/', n=5, expand=True)\n",
    "\n",
    "    train_xray['ImageSet'] = imageSplit[1]\n",
    "    train_xray['ImageType'] = imageSplit[2]\n",
    "    train_xray['Patient ID'] = imageSplit[3]\n",
    "    train_xray['DiagnosisType'] = imageSplit[4]\n",
    "    train_xray['Diagnosis'] = imageSplit[4].str.split('_', n=1, expand=True)[1]\n",
    "\n",
    "    diagnosis_label = {'negative': 0, 'positive': 1}\n",
    "\n",
    "    patient_dict = {}\n",
    "    for i in range(train_xray.shape[0]):\n",
    "        patient_id = train_xray['Patient ID'][i]\n",
    "        target_diagnosis = train_xray['Diagnosis'][i]\n",
    "        target_diagnosis = diagnosis_label[target_diagnosis]\n",
    "        patient_dict[patient_id] = target_diagnosis\n",
    "\n",
    "    for file_name in tqdm(os.listdir(data_path + sub_path +\n",
    "                                     train_xray['Patient ID'][0] + '/' + train_xray['DiagnosisType'][0])):\n",
    "        image_filename = file_name.split('.')[0]\n",
    "        target_diagnosis = patient_dict[image_filename]\n",
    "        if target == 0:\n",
    "            os.system('cp {}{}{} {}{}'.format(data_path, sub_path, file_name, data_path, 'abnormal/'))\n",
    "        if target == 1:\n",
    "            os.system('cp {}{}{} {}{}'.format(data_path, sub_path, file_name, data_path, 'normal/'))"
   ]
  },
  {
   "cell_type": "code",
   "execution_count": 5,
   "id": "9accc0fb",
   "metadata": {},
   "outputs": [],
   "source": [
    "class Xray(data.Dataset):\n",
    "    def __init__(self, main_path, img_size=64, transform=None):\n",
    "        super(Xray, self).__init__()\n",
    "        self.transform = transform\n",
    "        self.file_path = []\n",
    "        self.labels = []\n",
    "        self.slices = []\n",
    "        self.transform = transform if transform is not None else lambda x: x\n",
    "\n",
    "        for label in os.listdir(main_path):\n",
    "            if label not in ['0', '1']:\n",
    "                continue\n",
    "            for file_name in tqdm(os.listdir(main_path + '/' + label)):\n",
    "                data = sitk.ReadImage(main_path + '/' + label + '/' + file_name)\n",
    "                data = sitk.GetArrayFromImage(data).squeeze()\n",
    "                img = Image.fromarray(data).convert('L').resize((img_size, img_size), resample=Image.BILINEAR)\n",
    "                self.slices.append(img)\n",
    "                self.labels.append(int(label))\n",
    "\n",
    "    def __getitem__(self, index):\n",
    "        img = self.slices[index]\n",
    "        label = self.labels[index]\n",
    "        img = self.transform(img)\n",
    "        return img, label\n",
    "\n",
    "    def __len__(self):\n",
    "        return len(self.slices)"
   ]
  },
  {
   "cell_type": "code",
   "execution_count": 6,
   "id": "17db3a09",
   "metadata": {},
   "outputs": [],
   "source": [
    "def get_xray_dataloader(bs, workers, dtype='train', img_size=64, dataset='train_humerus'):\n",
    "    transform = transforms.Compose([\n",
    "        transforms.Resize(img_size),\n",
    "        transforms.ToTensor(),\n",
    "        transforms.Normalize((0.5,), (0.5,))\n",
    "    ])\n",
    "\n",
    "    if dataset == 'train_humerus':\n",
    "        path = DATA_PATH + 'train_humerus_xray/'\n",
    "    elif dataset == 'test_humerus':\n",
    "        path = DATA_PATH + 'test_humerus_xray/'\n",
    "\n",
    "    path += dtype\n",
    "\n",
    "    dset = Xray(main_path=path, transform=transform, img_size=img_size)\n",
    "    train_flag = True if dtype == 'train' else False\n",
    "    dataloader = data.DataLoader(dset, bs, shuffle=train_flag,\n",
    "                                 drop_last=train_flag, num_workers=workers, pin_memory=True)\n",
    "\n",
    "    return dataloader"
   ]
  },
  {
   "cell_type": "code",
   "execution_count": 7,
   "id": "574e1dcd",
   "metadata": {},
   "outputs": [
    {
     "name": "stderr",
     "output_type": "stream",
     "text": [
      "  0%|                                                                                            | 0/2 [00:00<?, ?it/s]\n"
     ]
    },
    {
     "ename": "KeyError",
     "evalue": "'image1'",
     "output_type": "error",
     "traceback": [
      "\u001b[1;31m---------------------------------------------------------------------------\u001b[0m",
      "\u001b[1;31mKeyError\u001b[0m                                  Traceback (most recent call last)",
      "Cell \u001b[1;32mIn[7], line 2\u001b[0m\n\u001b[0;32m      1\u001b[0m \u001b[38;5;28;01mif\u001b[39;00m \u001b[38;5;18m__name__\u001b[39m \u001b[38;5;241m==\u001b[39m \u001b[38;5;124m'\u001b[39m\u001b[38;5;124m__main__\u001b[39m\u001b[38;5;124m'\u001b[39m:\n\u001b[1;32m----> 2\u001b[0m     \u001b[43mread_data\u001b[49m\u001b[43m(\u001b[49m\u001b[43m)\u001b[49m\n",
      "Cell \u001b[1;32mIn[4], line 29\u001b[0m, in \u001b[0;36mread_data\u001b[1;34m()\u001b[0m\n\u001b[0;32m     26\u001b[0m \u001b[38;5;28;01mfor\u001b[39;00m file_name \u001b[38;5;129;01min\u001b[39;00m tqdm(os\u001b[38;5;241m.\u001b[39mlistdir(data_path \u001b[38;5;241m+\u001b[39m sub_path \u001b[38;5;241m+\u001b[39m\n\u001b[0;32m     27\u001b[0m                                  train_xray[\u001b[38;5;124m'\u001b[39m\u001b[38;5;124mPatient ID\u001b[39m\u001b[38;5;124m'\u001b[39m][\u001b[38;5;241m0\u001b[39m] \u001b[38;5;241m+\u001b[39m \u001b[38;5;124m'\u001b[39m\u001b[38;5;124m/\u001b[39m\u001b[38;5;124m'\u001b[39m \u001b[38;5;241m+\u001b[39m train_xray[\u001b[38;5;124m'\u001b[39m\u001b[38;5;124mDiagnosisType\u001b[39m\u001b[38;5;124m'\u001b[39m][\u001b[38;5;241m0\u001b[39m])):\n\u001b[0;32m     28\u001b[0m     image_filename \u001b[38;5;241m=\u001b[39m file_name\u001b[38;5;241m.\u001b[39msplit(\u001b[38;5;124m'\u001b[39m\u001b[38;5;124m.\u001b[39m\u001b[38;5;124m'\u001b[39m)[\u001b[38;5;241m0\u001b[39m]\n\u001b[1;32m---> 29\u001b[0m     target_diagnosis \u001b[38;5;241m=\u001b[39m \u001b[43mpatient_dict\u001b[49m\u001b[43m[\u001b[49m\u001b[43mimage_filename\u001b[49m\u001b[43m]\u001b[49m\n\u001b[0;32m     30\u001b[0m     \u001b[38;5;28;01mif\u001b[39;00m target \u001b[38;5;241m==\u001b[39m \u001b[38;5;241m0\u001b[39m:\n\u001b[0;32m     31\u001b[0m         os\u001b[38;5;241m.\u001b[39msystem(\u001b[38;5;124m'\u001b[39m\u001b[38;5;124mcp \u001b[39m\u001b[38;5;132;01m{}\u001b[39;00m\u001b[38;5;132;01m{}\u001b[39;00m\u001b[38;5;132;01m{}\u001b[39;00m\u001b[38;5;124m \u001b[39m\u001b[38;5;132;01m{}\u001b[39;00m\u001b[38;5;132;01m{}\u001b[39;00m\u001b[38;5;124m'\u001b[39m\u001b[38;5;241m.\u001b[39mformat(data_path, sub_path, file_name, data_path, \u001b[38;5;124m'\u001b[39m\u001b[38;5;124mabnormal/\u001b[39m\u001b[38;5;124m'\u001b[39m))\n",
      "\u001b[1;31mKeyError\u001b[0m: 'image1'"
     ]
    }
   ],
   "source": [
    "if __name__ == '__main__':\n",
    "    read_data()"
   ]
  },
  {
   "cell_type": "code",
   "execution_count": null,
   "id": "30942820",
   "metadata": {},
   "outputs": [],
   "source": []
  }
 ],
 "metadata": {
  "kernelspec": {
   "display_name": "Python 3 (ipykernel)",
   "language": "python",
   "name": "python3"
  },
  "language_info": {
   "codemirror_mode": {
    "name": "ipython",
    "version": 3
   },
   "file_extension": ".py",
   "mimetype": "text/x-python",
   "name": "python",
   "nbconvert_exporter": "python",
   "pygments_lexer": "ipython3",
   "version": "3.11.2"
  }
 },
 "nbformat": 4,
 "nbformat_minor": 5
}
