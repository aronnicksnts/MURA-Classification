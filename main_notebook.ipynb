{
 "cells": [
  {
   "attachments": {},
   "cell_type": "markdown",
   "id": "2bc86acd",
   "metadata": {},
   "source": [
    "# Dependencies"
   ]
  },
  {
   "cell_type": "code",
   "execution_count": 1,
   "id": "78b7f7e8",
   "metadata": {},
   "outputs": [
    {
     "name": "stderr",
     "output_type": "stream",
     "text": [
      "2023-05-20 08:43:24.365570: I tensorflow/tsl/cuda/cudart_stub.cc:28] Could not find cuda drivers on your machine, GPU will not be used.\n",
      "2023-05-20 08:43:24.420123: I tensorflow/tsl/cuda/cudart_stub.cc:28] Could not find cuda drivers on your machine, GPU will not be used.\n",
      "2023-05-20 08:43:24.421356: I tensorflow/core/platform/cpu_feature_guard.cc:182] This TensorFlow binary is optimized to use available CPU instructions in performance-critical operations.\n",
      "To enable the following instructions: AVX2 FMA, in other operations, rebuild TensorFlow with the appropriate compiler flags.\n",
      "2023-05-20 08:43:25.907366: W tensorflow/compiler/tf2tensorrt/utils/py_utils.cc:38] TF-TRT Warning: Could not find TensorRT\n",
      "/home/cara/.local/lib/python3.10/site-packages/tqdm/auto.py:21: TqdmWarning: IProgress not found. Please update jupyter and ipywidgets. See https://ipywidgets.readthedocs.io/en/stable/user_install.html\n",
      "  from .autonotebook import tqdm as notebook_tqdm\n"
     ]
    }
   ],
   "source": [
    "import MURA\n",
    "import cv2\n",
    "import image_manipulation\n",
    "from multiprocessing import Pool\n",
    "from models import *\n",
    "import numpy as np\n",
    "import glob\n",
    "import matplotlib.pyplot as plt\n",
    "import preprocessing\n",
    "import json\n",
    "from os import path, mkdir\n",
    "\n",
    "import keras\n",
    "from argparse import ArgumentParser\n",
    "import tensorflow as tf"
   ]
  },
  {
   "attachments": {},
   "cell_type": "markdown",
   "id": "22e578b7",
   "metadata": {},
   "source": [
    "# Model to Run\n",
    "This section lets the user edit on what model parameters to run, the model directory and parameters should exist prior to changing the file path"
   ]
  },
  {
   "cell_type": "code",
   "execution_count": 2,
   "id": "afd350f9",
   "metadata": {},
   "outputs": [],
   "source": [
    "# All editable variables\n",
    "model_file_path = \"models/model_1\"\n",
    "# If preprocessing needs to run\n",
    "run_preprocessing = False"
   ]
  },
  {
   "cell_type": "code",
   "execution_count": 3,
   "id": "f5b73251",
   "metadata": {},
   "outputs": [],
   "source": [
    "# Get model parameters\n",
    "try:\n",
    "    params = json.load(open(model_file_path + '/parameters.json'))\n",
    "\n",
    "    # Model to use\n",
    "    model_is_VAE = params['is_VAE']\n",
    "    # Model parameters\n",
    "    multiplier = params['multiplier']\n",
    "    latent_size = params['latent_size']\n",
    "    input_shape = params['input_shape']\n",
    "\n",
    "    # Training parameters\n",
    "    epochs = params['num_epochs']\n",
    "    batch_size = params['batch_size']\n",
    "    learning_rate = params['learning_rate']\n",
    "\n",
    "    # Dataset Path\n",
    "    image_paths = MURA.MURA_DATASET()\n",
    "    dataset_file_path = params['dataset_path']\n",
    "    all_image_paths = image_paths.get_combined_image_paths()\n",
    "    all_image_paths = all_image_paths.to_numpy()[:,0]\n",
    "except:\n",
    "    raise Exception(\"No parameters.json file found in the model's directory.\")"
   ]
  },
  {
   "cell_type": "code",
   "execution_count": 4,
   "id": "8dd25378",
   "metadata": {},
   "outputs": [],
   "source": [
    "# Do preprocessing\n",
    "if run_preprocessing:\n",
    "    preprocess = preprocessing.preprocessing(input_path = all_image_paths, output_path = dataset_file_path)\n",
    "    if __name__ == '__main__':\n",
    "        preprocess.start()"
   ]
  },
  {
   "cell_type": "code",
   "execution_count": 5,
   "id": "ae204155",
   "metadata": {},
   "outputs": [],
   "source": [
    "# each array contains the training, validation, and testing in order\n",
    "image_datasets = {'train': [],\n",
    "                'valid': [],\n",
    "                'test': []}\n",
    "for dataset_name in image_datasets.keys():\n",
    "    for image_path in glob.glob(f'{dataset_file_path}/{dataset_name}/*.png'):\n",
    "        image_datasets[dataset_name].append(cv2.imread(image_path))\n",
    "    image_datasets[dataset_name] = np.array(image_datasets[dataset_name])"
   ]
  },
  {
   "attachments": {},
   "cell_type": "markdown",
   "id": "f69e69d0",
   "metadata": {},
   "source": [
    "# Model Training\n",
    "This section creates and trains the model"
   ]
  },
  {
   "cell_type": "code",
   "execution_count": 6,
   "id": "f906dcd1",
   "metadata": {},
   "outputs": [
    {
     "name": "stdout",
     "output_type": "stream",
     "text": [
      "VAE model\n"
     ]
    },
    {
     "name": "stderr",
     "output_type": "stream",
     "text": [
      "2023-05-20 08:44:02.446473: E tensorflow/compiler/xla/stream_executor/cuda/cuda_driver.cc:266] failed call to cuInit: CUDA_ERROR_NO_DEVICE: no CUDA-capable device is detected\n"
     ]
    },
    {
     "name": "stdout",
     "output_type": "stream",
     "text": [
      "INPUT SHAPE ACCEPTED:  (None, 64, 64, 1)\n",
      "Model: \"encoder_decoder\"\n",
      "_________________________________________________________________\n",
      " Layer (type)                Output Shape              Param #   \n",
      "=================================================================\n",
      " conv2d (Conv2D)             (None, 32, 32, 64)        1024      \n",
      "                                                                 \n",
      " batch_normalization (BatchN  (None, 32, 32, 64)       256       \n",
      " ormalization)                                                   \n",
      "                                                                 \n",
      " activation (Activation)     (None, 32, 32, 64)        0         \n",
      "                                                                 \n",
      " conv2d_1 (Conv2D)           (None, 16, 16, 128)       131072    \n",
      "                                                                 \n",
      " batch_normalization_1 (Batc  (None, 16, 16, 128)      512       \n",
      " hNormalization)                                                 \n",
      "                                                                 \n",
      " activation_1 (Activation)   (None, 16, 16, 128)       0         \n",
      "                                                                 \n",
      " conv2d_2 (Conv2D)           (None, 8, 8, 256)         524288    \n",
      "                                                                 \n",
      " batch_normalization_2 (Batc  (None, 8, 8, 256)        1024      \n",
      " hNormalization)                                                 \n",
      "                                                                 \n",
      " activation_2 (Activation)   (None, 8, 8, 256)         0         \n",
      "                                                                 \n",
      " conv2d_3 (Conv2D)           (None, 4, 4, 256)         1048576   \n",
      "                                                                 \n",
      " batch_normalization_3 (Batc  (None, 4, 4, 256)        1024      \n",
      " hNormalization)                                                 \n",
      "                                                                 \n",
      " activation_3 (Activation)   (None, 4, 4, 256)         0         \n",
      "                                                                 \n",
      " reshape (Reshape)           (None, 4096)              0         \n",
      "                                                                 \n",
      " dense (Dense)               (None, 2048)              8388608   \n",
      "                                                                 \n",
      " batch_normalization_4 (Batc  (None, 2048)             8192      \n",
      " hNormalization)                                                 \n",
      "                                                                 \n",
      " activation_4 (Activation)   (None, 2048)              0         \n",
      "                                                                 \n",
      " dense_1 (Dense)             (None, 128)               262144    \n",
      "                                                                 \n",
      " dense_2 (Dense)             (None, 2048)              262144    \n",
      "                                                                 \n",
      " batch_normalization_5 (Batc  (None, 2048)             8192      \n",
      " hNormalization)                                                 \n",
      "                                                                 \n",
      " activation_5 (Activation)   (None, 2048)              0         \n",
      "                                                                 \n",
      " dense_3 (Dense)             (None, 4096)              8388608   \n",
      "                                                                 \n",
      " reshape_1 (Reshape)         (None, 4, 4, 256)         0         \n",
      "                                                                 \n",
      " conv2d_transpose (Conv2DTra  (None, 8, 8, 256)        262400    \n",
      " nspose)                                                         \n",
      "                                                                 \n",
      " batch_normalization_6 (Batc  (None, 8, 8, 256)        1024      \n",
      " hNormalization)                                                 \n",
      "                                                                 \n",
      " activation_6 (Activation)   (None, 8, 8, 256)         0         \n",
      "                                                                 \n",
      " conv2d_transpose_1 (Conv2DT  (None, 16, 16, 128)      524416    \n",
      " ranspose)                                                       \n",
      "                                                                 \n",
      " batch_normalization_7 (Batc  (None, 16, 16, 128)      512       \n",
      " hNormalization)                                                 \n",
      "                                                                 \n",
      " activation_7 (Activation)   (None, 16, 16, 128)       0         \n",
      "                                                                 \n",
      " conv2d_transpose_2 (Conv2DT  (None, 32, 32, 64)       131136    \n",
      " ranspose)                                                       \n",
      "                                                                 \n",
      " batch_normalization_8 (Batc  (None, 32, 32, 64)       256       \n",
      " hNormalization)                                                 \n",
      "                                                                 \n",
      " activation_8 (Activation)   (None, 32, 32, 64)        0         \n",
      "                                                                 \n",
      " conv2d_transpose_3 (Conv2DT  (None, 64, 64, 1)        1025      \n",
      " ranspose)                                                       \n",
      "                                                                 \n",
      " encoder (Sequential)        (None, 4096)              1707776   \n",
      "                                                                 \n",
      " latent_encoder (Sequential)  (None, 128)              8658944   \n",
      "                                                                 \n",
      " latent_decoder (Sequential)  (None, 4, 4, 256)        8658944   \n",
      "                                                                 \n",
      " decoder (Sequential)        (None, 64, 64, 1)         920769    \n",
      "                                                                 \n",
      "=================================================================\n",
      "Total params: 19,946,433\n",
      "Trainable params: 19,935,937\n",
      "Non-trainable params: 10,496\n",
      "_________________________________________________________________\n",
      "Epoch 1/3\n",
      "Vanilla Loss\n"
     ]
    },
    {
     "ename": "ValueError",
     "evalue": "in user code:\n\n    File \"/home/cara/.local/lib/python3.10/site-packages/keras/engine/training.py\", line 1284, in train_function  *\n        return step_function(self, iterator)\n    File \"/home/cara/.local/lib/python3.10/site-packages/keras/engine/training.py\", line 1268, in step_function  **\n        outputs = model.distribute_strategy.run(run_step, args=(data,))\n    File \"/home/cara/.local/lib/python3.10/site-packages/keras/engine/training.py\", line 1249, in run_step  **\n        outputs = model.train_step(data)\n    File \"/home/cara/Thesis/Aron Branch/models.py\", line 172, in train_step\n        reconstructed, z_mean, z_log_var = self.encoder_decoder(data)\n    File \"/home/cara/.local/lib/python3.10/site-packages/keras/utils/traceback_utils.py\", line 70, in error_handler\n        raise e.with_traceback(filtered_tb) from None\n    File \"/tmp/__autograph_generated_fileko6u7t2e.py\", line 10, in tf__call\n        encoder_output = ag__.converted_call(ag__.ld(self).encoder, (ag__.ld(inputs),), None, fscope)\n\n    ValueError: Exception encountered when calling layer 'encoder_decoder' (type encoder_decoder).\n    \n    in user code:\n    \n        File \"/home/cara/Thesis/Aron Branch/models.py\", line 118, in call  *\n            encoder_output = self.encoder(inputs)\n        File \"/home/cara/.local/lib/python3.10/site-packages/keras/utils/traceback_utils.py\", line 70, in error_handler  **\n            raise e.with_traceback(filtered_tb) from None\n        File \"/home/cara/.local/lib/python3.10/site-packages/keras/engine/input_spec.py\", line 280, in assert_input_compatibility\n            raise ValueError(\n    \n        ValueError: Exception encountered when calling layer 'encoder' (type Sequential).\n        \n        Input 0 of layer \"conv2d\" is incompatible with the layer: expected axis -1 of input shape to have value 1, but received input with shape (None, 64, 64, 3)\n        \n        Call arguments received by layer 'encoder' (type Sequential):\n          • inputs=tf.Tensor(shape=(None, 64, 64, 3), dtype=uint8)\n          • training=None\n          • mask=None\n    \n    \n    Call arguments received by layer 'encoder_decoder' (type encoder_decoder):\n      • inputs=tf.Tensor(shape=(None, 64, 64, 3), dtype=uint8)\n",
     "output_type": "error",
     "traceback": [
      "\u001b[0;31m---------------------------------------------------------------------------\u001b[0m",
      "\u001b[0;31mValueError\u001b[0m                                Traceback (most recent call last)",
      "Cell \u001b[0;32mIn[6], line 22\u001b[0m\n\u001b[1;32m     18\u001b[0m save_callback \u001b[39m=\u001b[39m SaveImageCallback(image_datasets[\u001b[39m'\u001b[39m\u001b[39mtrain\u001b[39m\u001b[39m'\u001b[39m], save_directory)\n\u001b[1;32m     20\u001b[0m \u001b[39m# plot_model(model, 'autoencoder_compress.png', show_shapes=True)\u001b[39;00m\n\u001b[1;32m     21\u001b[0m \u001b[39m#training on training set.\u001b[39;00m\n\u001b[0;32m---> 22\u001b[0m history_train \u001b[39m=\u001b[39m model\u001b[39m.\u001b[39;49mfit(image_datasets[\u001b[39m'\u001b[39;49m\u001b[39mtrain\u001b[39;49m\u001b[39m'\u001b[39;49m], \n\u001b[1;32m     23\u001b[0m             epochs\u001b[39m=\u001b[39;49mepochs, \n\u001b[1;32m     24\u001b[0m             batch_size\u001b[39m=\u001b[39;49mbatch_size,\n\u001b[1;32m     25\u001b[0m             validation_split\u001b[39m=\u001b[39;49m\u001b[39m0.15\u001b[39;49m,\n\u001b[1;32m     26\u001b[0m             callbacks\u001b[39m=\u001b[39;49m[save_callback])\n",
      "File \u001b[0;32m~/.local/lib/python3.10/site-packages/keras/utils/traceback_utils.py:70\u001b[0m, in \u001b[0;36mfilter_traceback.<locals>.error_handler\u001b[0;34m(*args, **kwargs)\u001b[0m\n\u001b[1;32m     67\u001b[0m     filtered_tb \u001b[39m=\u001b[39m _process_traceback_frames(e\u001b[39m.\u001b[39m__traceback__)\n\u001b[1;32m     68\u001b[0m     \u001b[39m# To get the full stack trace, call:\u001b[39;00m\n\u001b[1;32m     69\u001b[0m     \u001b[39m# `tf.debugging.disable_traceback_filtering()`\u001b[39;00m\n\u001b[0;32m---> 70\u001b[0m     \u001b[39mraise\u001b[39;00m e\u001b[39m.\u001b[39mwith_traceback(filtered_tb) \u001b[39mfrom\u001b[39;00m \u001b[39mNone\u001b[39m\n\u001b[1;32m     71\u001b[0m \u001b[39mfinally\u001b[39;00m:\n\u001b[1;32m     72\u001b[0m     \u001b[39mdel\u001b[39;00m filtered_tb\n",
      "File \u001b[0;32m/tmp/__autograph_generated_files18bsozg.py:15\u001b[0m, in \u001b[0;36mouter_factory.<locals>.inner_factory.<locals>.tf__train_function\u001b[0;34m(iterator)\u001b[0m\n\u001b[1;32m     13\u001b[0m \u001b[39mtry\u001b[39;00m:\n\u001b[1;32m     14\u001b[0m     do_return \u001b[39m=\u001b[39m \u001b[39mTrue\u001b[39;00m\n\u001b[0;32m---> 15\u001b[0m     retval_ \u001b[39m=\u001b[39m ag__\u001b[39m.\u001b[39mconverted_call(ag__\u001b[39m.\u001b[39mld(step_function), (ag__\u001b[39m.\u001b[39mld(\u001b[39mself\u001b[39m), ag__\u001b[39m.\u001b[39mld(iterator)), \u001b[39mNone\u001b[39;00m, fscope)\n\u001b[1;32m     16\u001b[0m \u001b[39mexcept\u001b[39;00m:\n\u001b[1;32m     17\u001b[0m     do_return \u001b[39m=\u001b[39m \u001b[39mFalse\u001b[39;00m\n",
      "File \u001b[0;32m~/Thesis/Aron Branch/models.py:172\u001b[0m, in \u001b[0;36mVAE.train_step\u001b[0;34m(self, data)\u001b[0m\n\u001b[1;32m    170\u001b[0m \u001b[39mwith\u001b[39;00m tf\u001b[39m.\u001b[39mGradientTape() \u001b[39mas\u001b[39;00m tape:\n\u001b[1;32m    171\u001b[0m     \u001b[39mprint\u001b[39m(\u001b[39m\"\u001b[39m\u001b[39mVanilla Loss\u001b[39m\u001b[39m\"\u001b[39m)\n\u001b[0;32m--> 172\u001b[0m     reconstructed, z_mean, z_log_var \u001b[39m=\u001b[39m \u001b[39mself\u001b[39;49m\u001b[39m.\u001b[39;49mencoder_decoder(data)\n\u001b[1;32m    174\u001b[0m     \u001b[39m# Cast the tensors to float32\u001b[39;00m\n\u001b[1;32m    175\u001b[0m     data_float32 \u001b[39m=\u001b[39m tf\u001b[39m.\u001b[39mcast(data, tf\u001b[39m.\u001b[39mfloat32)\n",
      "File \u001b[0;32m/tmp/__autograph_generated_fileko6u7t2e.py:10\u001b[0m, in \u001b[0;36mouter_factory.<locals>.inner_factory.<locals>.tf__call\u001b[0;34m(self, inputs)\u001b[0m\n\u001b[1;32m      8\u001b[0m do_return \u001b[39m=\u001b[39m \u001b[39mFalse\u001b[39;00m\n\u001b[1;32m      9\u001b[0m retval_ \u001b[39m=\u001b[39m ag__\u001b[39m.\u001b[39mUndefinedReturnValue()\n\u001b[0;32m---> 10\u001b[0m encoder_output \u001b[39m=\u001b[39m ag__\u001b[39m.\u001b[39;49mconverted_call(ag__\u001b[39m.\u001b[39;49mld(\u001b[39mself\u001b[39;49m)\u001b[39m.\u001b[39;49mencoder, (ag__\u001b[39m.\u001b[39;49mld(inputs),), \u001b[39mNone\u001b[39;49;00m, fscope)\n\u001b[1;32m     11\u001b[0m latent_vectors \u001b[39m=\u001b[39m ag__\u001b[39m.\u001b[39mconverted_call(ag__\u001b[39m.\u001b[39mld(\u001b[39mself\u001b[39m)\u001b[39m.\u001b[39mlatent_encoder, (ag__\u001b[39m.\u001b[39mld(encoder_output),), \u001b[39mNone\u001b[39;00m, fscope)\n\u001b[1;32m     12\u001b[0m latent_vectors \u001b[39m=\u001b[39m ag__\u001b[39m.\u001b[39mconverted_call(ag__\u001b[39m.\u001b[39mld(\u001b[39mself\u001b[39m)\u001b[39m.\u001b[39mlatent_decoder, (ag__\u001b[39m.\u001b[39mld(latent_vectors),), \u001b[39mNone\u001b[39;00m, fscope)\n",
      "\u001b[0;31mValueError\u001b[0m: in user code:\n\n    File \"/home/cara/.local/lib/python3.10/site-packages/keras/engine/training.py\", line 1284, in train_function  *\n        return step_function(self, iterator)\n    File \"/home/cara/.local/lib/python3.10/site-packages/keras/engine/training.py\", line 1268, in step_function  **\n        outputs = model.distribute_strategy.run(run_step, args=(data,))\n    File \"/home/cara/.local/lib/python3.10/site-packages/keras/engine/training.py\", line 1249, in run_step  **\n        outputs = model.train_step(data)\n    File \"/home/cara/Thesis/Aron Branch/models.py\", line 172, in train_step\n        reconstructed, z_mean, z_log_var = self.encoder_decoder(data)\n    File \"/home/cara/.local/lib/python3.10/site-packages/keras/utils/traceback_utils.py\", line 70, in error_handler\n        raise e.with_traceback(filtered_tb) from None\n    File \"/tmp/__autograph_generated_fileko6u7t2e.py\", line 10, in tf__call\n        encoder_output = ag__.converted_call(ag__.ld(self).encoder, (ag__.ld(inputs),), None, fscope)\n\n    ValueError: Exception encountered when calling layer 'encoder_decoder' (type encoder_decoder).\n    \n    in user code:\n    \n        File \"/home/cara/Thesis/Aron Branch/models.py\", line 118, in call  *\n            encoder_output = self.encoder(inputs)\n        File \"/home/cara/.local/lib/python3.10/site-packages/keras/utils/traceback_utils.py\", line 70, in error_handler  **\n            raise e.with_traceback(filtered_tb) from None\n        File \"/home/cara/.local/lib/python3.10/site-packages/keras/engine/input_spec.py\", line 280, in assert_input_compatibility\n            raise ValueError(\n    \n        ValueError: Exception encountered when calling layer 'encoder' (type Sequential).\n        \n        Input 0 of layer \"conv2d\" is incompatible with the layer: expected axis -1 of input shape to have value 1, but received input with shape (None, 64, 64, 3)\n        \n        Call arguments received by layer 'encoder' (type Sequential):\n          • inputs=tf.Tensor(shape=(None, 64, 64, 3), dtype=uint8)\n          • training=None\n          • mask=None\n    \n    \n    Call arguments received by layer 'encoder_decoder' (type encoder_decoder):\n      • inputs=tf.Tensor(shape=(None, 64, 64, 3), dtype=uint8)\n"
     ]
    }
   ],
   "source": [
    "if __name__ == \"__main__\":\n",
    "\n",
    "    if model_is_VAE:\n",
    "        model = VAE(False, input_shape, multiplier, latent_size)\n",
    "    else:\n",
    "        model = UPAE(True, input_shape, multiplier, latent_size)\n",
    "\n",
    "    optimizer = keras.optimizers.Adam(learning_rate=learning_rate)\n",
    "\n",
    "    model.build(input_shape=(None, 64, 64, 1))\n",
    "\n",
    "    model.compile(optimizer= optimizer\n",
    "                  ,metrics=[tf.keras.metrics.Accuracy()])\n",
    "    \n",
    "    # Where images of each epoch will be saved\n",
    "    save_directory = 'Images/images_epochs'\n",
    "    save_callback = SaveImageCallback(image_datasets['train'], save_directory)\n",
    "\n",
    "    # plot_model(model, 'autoencoder_compress.png', show_shapes=True)\n",
    "    #training on training set.\n",
    "    history_train = model.fit(image_datasets['train'], \n",
    "                epochs=epochs, \n",
    "                batch_size=batch_size,\n",
    "                validation_split=0.15,\n",
    "                callbacks=[save_callback])\n",
    "    "
   ]
  },
  {
   "attachments": {},
   "cell_type": "markdown",
   "id": "a96a1d3c",
   "metadata": {},
   "source": [
    "# Model Prediction"
   ]
  },
  {
   "cell_type": "code",
   "execution_count": 7,
   "id": "7071dba6",
   "metadata": {},
   "outputs": [],
   "source": [
    "history_valid = model.predict(image_datasets['valid'], batch_size=batch_size)"
   ]
  },
  {
   "cell_type": "code",
   "execution_count": 11,
   "id": "78a2533e",
   "metadata": {},
   "outputs": [
    {
     "data": {
      "text/plain": [
       "<tf.Tensor: shape=(64, 64, 3), dtype=float32, numpy=\n",
       "array([[[0.00000000e+00, 0.00000000e+00, 1.81942768e+01],\n",
       "        [0.00000000e+00, 0.00000000e+00, 2.48510246e+01],\n",
       "        [0.00000000e+00, 0.00000000e+00, 2.96470337e+01],\n",
       "        ...,\n",
       "        [0.00000000e+00, 0.00000000e+00, 9.54594727e+01],\n",
       "        [0.00000000e+00, 0.00000000e+00, 9.52634735e+01],\n",
       "        [0.00000000e+00, 0.00000000e+00, 5.97324219e+01]],\n",
       "\n",
       "       [[0.00000000e+00, 0.00000000e+00, 2.51535339e+01],\n",
       "        [1.77127242e-01, 0.00000000e+00, 2.86279335e+01],\n",
       "        [0.00000000e+00, 2.68575788e-01, 2.53165588e+01],\n",
       "        ...,\n",
       "        [1.35485995e+00, 0.00000000e+00, 1.05796829e+02],\n",
       "        [0.00000000e+00, 0.00000000e+00, 9.98215637e+01],\n",
       "        [0.00000000e+00, 0.00000000e+00, 9.49383392e+01]],\n",
       "\n",
       "       [[0.00000000e+00, 0.00000000e+00, 2.66872368e+01],\n",
       "        [0.00000000e+00, 0.00000000e+00, 2.50604095e+01],\n",
       "        [0.00000000e+00, 0.00000000e+00, 2.83864632e+01],\n",
       "        ...,\n",
       "        [0.00000000e+00, 0.00000000e+00, 1.08532104e+02],\n",
       "        [0.00000000e+00, 0.00000000e+00, 1.00091812e+02],\n",
       "        [0.00000000e+00, 0.00000000e+00, 9.48779755e+01]],\n",
       "\n",
       "       ...,\n",
       "\n",
       "       [[0.00000000e+00, 0.00000000e+00, 8.97077789e+01],\n",
       "        [0.00000000e+00, 0.00000000e+00, 8.66113129e+01],\n",
       "        [0.00000000e+00, 0.00000000e+00, 1.17109283e+02],\n",
       "        ...,\n",
       "        [3.48187178e-01, 0.00000000e+00, 2.78703346e+01],\n",
       "        [0.00000000e+00, 0.00000000e+00, 2.47983513e+01],\n",
       "        [0.00000000e+00, 0.00000000e+00, 2.71766949e+01]],\n",
       "\n",
       "       [[0.00000000e+00, 0.00000000e+00, 7.93536453e+01],\n",
       "        [0.00000000e+00, 0.00000000e+00, 9.42806473e+01],\n",
       "        [0.00000000e+00, 0.00000000e+00, 1.01826027e+02],\n",
       "        ...,\n",
       "        [0.00000000e+00, 0.00000000e+00, 2.84502449e+01],\n",
       "        [0.00000000e+00, 0.00000000e+00, 2.58175488e+01],\n",
       "        [0.00000000e+00, 0.00000000e+00, 2.32498550e+01]],\n",
       "\n",
       "       [[0.00000000e+00, 0.00000000e+00, 5.84963951e+01],\n",
       "        [0.00000000e+00, 0.00000000e+00, 7.85682220e+01],\n",
       "        [0.00000000e+00, 0.00000000e+00, 9.80121460e+01],\n",
       "        ...,\n",
       "        [1.07230365e-01, 0.00000000e+00, 2.53231258e+01],\n",
       "        [0.00000000e+00, 0.00000000e+00, 2.36959839e+01],\n",
       "        [0.00000000e+00, 0.00000000e+00, 1.73847141e+01]]], dtype=float32)>"
      ]
     },
     "execution_count": 11,
     "metadata": {},
     "output_type": "execute_result"
    }
   ],
   "source": [
    "history_valid[0][0]"
   ]
  },
  {
   "attachments": {},
   "cell_type": "markdown",
   "id": "353efa2a",
   "metadata": {},
   "source": [
    "# Plots Creation"
   ]
  },
  {
   "cell_type": "code",
   "execution_count": null,
   "id": "b363b159",
   "metadata": {},
   "outputs": [],
   "source": [
    "# train_loss = history_train.history['binary_crossentropy: ']\n",
    "# # valid_loss = history_valid.history['binary_crossentropy: ']\n",
    "\n",
    "# plt.plot(train_loss , label='train')\n",
    "# # plt.plot(valid_loss , label='test')\n",
    "# plt.title('Train vs Validation Loss')\n",
    "# plt.ylabel('Reconstruction Loss')\n",
    "# plt.xlabel('Epochs')\n",
    "# plt.legend()\n",
    "# plt.show()"
   ]
  },
  {
   "attachments": {},
   "cell_type": "markdown",
   "id": "b73f60ee",
   "metadata": {},
   "source": [
    "# Testing of the Model with the Test Set\n",
    "This section tests the model with the current test set\n",
    "TODO: \n",
    "- Get the label of each image in the test set\n",
    "- Test the images\n",
    "- Create Linear Regression for the abnormality score to get the threshold for determining abnormal or normal images"
   ]
  },
  {
   "attachments": {},
   "cell_type": "markdown",
   "id": "3f5369b0",
   "metadata": {},
   "source": [
    "# Saving of final reconstructed images "
   ]
  },
  {
   "cell_type": "code",
   "execution_count": 12,
   "id": "154822a8",
   "metadata": {},
   "outputs": [],
   "source": [
    "# Create directory in models folder for reconstructed images\n",
    "dataset_name = dataset_file_path.split('/')[-1]\n",
    "reconstructed_images_path = model_file_path + \"/\" + dataset_name\n",
    "if not path.exists(reconstructed_images_path):\n",
    "    mkdir(reconstructed_images_path)"
   ]
  },
  {
   "cell_type": "code",
   "execution_count": 14,
   "id": "8e7d13db",
   "metadata": {},
   "outputs": [],
   "source": [
    "for x in range(len(history_valid)):\n",
    "    fig, axs = plt.subplots(1,2, figsize=(8,4))\n",
    "    axs[0].imshow(image_datasets['valid'][x])\n",
    "    axs[0].set_title('Original Image')\n",
    "    new_image = np.floor(history_valid[0][x]).astype(np.uint8)\n",
    "    axs[1].imshow(new_image)\n",
    "    axs[1].set_title('Reconstructed Image')\n",
    "    plt.savefig(f'{reconstructed_images_path}/Valid_Image_{x}.png')\n",
    "    plt.close()\n",
    "    break"
   ]
  },
  {
   "attachments": {},
   "cell_type": "markdown",
   "id": "72b430df",
   "metadata": {},
   "source": [
    "# Saving of Model Weights"
   ]
  },
  {
   "cell_type": "code",
   "execution_count": null,
   "id": "324861d8",
   "metadata": {},
   "outputs": [],
   "source": [
    "model.save_weights(model_file_path + '/model_weights.h5')"
   ]
  },
  {
   "cell_type": "code",
   "execution_count": null,
   "id": "3519a986",
   "metadata": {},
   "outputs": [],
   "source": [
    "history_valid[0].shape"
   ]
  },
  {
   "cell_type": "code",
   "execution_count": null,
   "id": "46067ae4",
   "metadata": {},
   "outputs": [],
   "source": [
    "new_image = np.concatenate(history_valid[0], axis=1)\n",
    "plt.imshow(new_image)"
   ]
  },
  {
   "cell_type": "code",
   "execution_count": null,
   "id": "2460cbb0",
   "metadata": {},
   "outputs": [],
   "source": [
    "history_valid[0]"
   ]
  },
  {
   "attachments": {},
   "cell_type": "markdown",
   "id": "f90fc7ab",
   "metadata": {},
   "source": []
  }
 ],
 "metadata": {
  "kernelspec": {
   "display_name": "Python 3 (ipykernel)",
   "language": "python",
   "name": "python3"
  },
  "language_info": {
   "codemirror_mode": {
    "name": "ipython",
    "version": 3
   },
   "file_extension": ".py",
   "mimetype": "text/x-python",
   "name": "python",
   "nbconvert_exporter": "python",
   "pygments_lexer": "ipython3",
   "version": "3.10.7"
  }
 },
 "nbformat": 4,
 "nbformat_minor": 5
}
