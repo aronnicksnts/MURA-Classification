{
 "cells": [
  {
   "attachments": {},
   "cell_type": "markdown",
   "id": "2bc86acd",
   "metadata": {},
   "source": [
    "# Dependencies"
   ]
  },
  {
   "cell_type": "code",
   "execution_count": 1,
   "id": "78b7f7e8",
   "metadata": {},
   "outputs": [
    {
     "name": "stderr",
     "output_type": "stream",
     "text": [
      "c:\\Users\\SKill\\anaconda3\\envs\\tf-gpu\\lib\\site-packages\\tqdm\\auto.py:21: TqdmWarning: IProgress not found. Please update jupyter and ipywidgets. See https://ipywidgets.readthedocs.io/en/stable/user_install.html\n",
      "  from .autonotebook import tqdm as notebook_tqdm\n"
     ]
    }
   ],
   "source": [
    "import MURA\n",
    "import cv2\n",
    "import image_manipulation\n",
    "from multiprocessing import Pool\n",
    "from models import *\n",
    "import numpy as np\n",
    "import glob\n",
    "import matplotlib.pyplot as plt\n",
    "import preprocessing\n",
    "import json\n",
    "from os import path, mkdir\n",
    "\n",
    "import keras\n",
    "from argparse import ArgumentParser\n",
    "import tensorflow as tf"
   ]
  },
  {
   "attachments": {},
   "cell_type": "markdown",
   "id": "22e578b7",
   "metadata": {},
   "source": [
    "# Model to Run\n",
    "This section lets the user edit on what model parameters to run, the model directory and parameters should exist prior to changing the file path"
   ]
  },
  {
   "cell_type": "code",
   "execution_count": 2,
   "id": "afd350f9",
   "metadata": {},
   "outputs": [],
   "source": [
    "# All editable variables\n",
    "model_file_path = \"models/model_2\"\n",
    "# If preprocessing needs to run\n",
    "run_preprocessing = False"
   ]
  },
  {
   "cell_type": "code",
   "execution_count": 3,
   "id": "f5b73251",
   "metadata": {},
   "outputs": [],
   "source": [
    "# Get model parameters\n",
    "try:\n",
    "    params = json.load(open(model_file_path + '/parameters.json'))\n",
    "\n",
    "    # Model to use\n",
    "    model_is_VAE = params['is_VAE']\n",
    "    # Model parameters\n",
    "    multiplier = params['multiplier']\n",
    "    latent_size = params['latent_size']\n",
    "    input_shape = params['input_shape']\n",
    "\n",
    "    # Training parameters\n",
    "    epochs = params['num_epochs']\n",
    "    batch_size = params['batch_size']\n",
    "    learning_rate = params['learning_rate']\n",
    "\n",
    "    # Dataset Path\n",
    "    image_paths = MURA.MURA_DATASET()\n",
    "    dataset_file_path = params['dataset_path']\n",
    "    all_image_paths = image_paths.get_combined_image_paths()\n",
    "    all_image_paths = all_image_paths.to_numpy()[:,0]\n",
    "except:\n",
    "    raise Exception(\"No parameters.json file found in the model's directory.\")"
   ]
  },
  {
   "cell_type": "code",
   "execution_count": 4,
   "id": "8dd25378",
   "metadata": {},
   "outputs": [],
   "source": [
    "# Do preprocessing\n",
    "if run_preprocessing:\n",
    "    preprocess = preprocessing.preprocessing(input_path = all_image_paths, output_path = dataset_file_path)\n",
    "    if __name__ == '__main__':\n",
    "        preprocess.start()"
   ]
  },
  {
   "cell_type": "code",
   "execution_count": 5,
   "id": "ae204155",
   "metadata": {},
   "outputs": [],
   "source": [
    "# each array contains the training, validation, and testing in order\n",
    "image_datasets = {'train': [],\n",
    "                'valid': [],\n",
    "                'test': []}\n",
    "for dataset_name in image_datasets.keys():\n",
    "    for image_path in glob.glob(f'{dataset_file_path}/{dataset_name}/*.png'):\n",
    "        image = cv2.imread(image_path)\n",
    "        image = cv2.cvtColor(image, cv2.COLOR_BGR2GRAY)\n",
    "        image_datasets[dataset_name].append(image)\n",
    "    image_datasets[dataset_name] = np.array(image_datasets[dataset_name])"
   ]
  },
  {
   "attachments": {},
   "cell_type": "markdown",
   "id": "f69e69d0",
   "metadata": {},
   "source": [
    "# Model Training\n",
    "This section creates and trains the model"
   ]
  },
  {
   "cell_type": "code",
   "execution_count": 6,
   "id": "f906dcd1",
   "metadata": {},
   "outputs": [
    {
     "name": "stdout",
     "output_type": "stream",
     "text": [
      "Model: \"encoder_decoder\"\n",
      "_________________________________________________________________\n",
      " Layer (type)                Output Shape              Param #   \n",
      "=================================================================\n",
      " conv2d (Conv2D)             (None, 32, 32, 64)        1088      \n",
      "                                                                 \n",
      " batch_normalization (BatchN  (None, 32, 32, 64)       256       \n",
      " ormalization)                                                   \n",
      "                                                                 \n",
      " activation (Activation)     (None, 32, 32, 64)        0         \n",
      "                                                                 \n",
      " conv2d_1 (Conv2D)           (None, 16, 16, 128)       131200    \n",
      "                                                                 \n",
      " batch_normalization_1 (Batc  (None, 16, 16, 128)      512       \n",
      " hNormalization)                                                 \n",
      "                                                                 \n",
      " activation_1 (Activation)   (None, 16, 16, 128)       0         \n",
      "                                                                 \n",
      " conv2d_2 (Conv2D)           (None, 8, 8, 256)         524544    \n",
      "                                                                 \n",
      " batch_normalization_2 (Batc  (None, 8, 8, 256)        1024      \n",
      " hNormalization)                                                 \n",
      "                                                                 \n",
      " activation_2 (Activation)   (None, 8, 8, 256)         0         \n",
      "                                                                 \n",
      " conv2d_3 (Conv2D)           (None, 4, 4, 256)         1048832   \n",
      "                                                                 \n",
      " batch_normalization_3 (Batc  (None, 4, 4, 256)        1024      \n",
      " hNormalization)                                                 \n",
      "                                                                 \n",
      " activation_3 (Activation)   (None, 4, 4, 256)         0         \n",
      "                                                                 \n",
      " reshape (Reshape)           (None, 4096)              0         \n",
      "                                                                 \n",
      " dense (Dense)               (None, 2048)              8390656   \n",
      "                                                                 \n",
      " batch_normalization_4 (Batc  (None, 2048)             8192      \n",
      " hNormalization)                                                 \n",
      "                                                                 \n",
      " activation_4 (Activation)   (None, 2048)              0         \n",
      "                                                                 \n",
      " dense_1 (Dense)             (None, 128)               262272    \n",
      "                                                                 \n",
      " dense_2 (Dense)             (None, 2048)              133120    \n",
      "                                                                 \n",
      " batch_normalization_5 (Batc  (None, 2048)             8192      \n",
      " hNormalization)                                                 \n",
      "                                                                 \n",
      " activation_5 (Activation)   (None, 2048)              0         \n",
      "                                                                 \n",
      " dense_3 (Dense)             (None, 4096)              8392704   \n",
      "                                                                 \n",
      " reshape_1 (Reshape)         (None, 4, 4, 256)         0         \n",
      "                                                                 \n",
      " conv2d_transpose (Conv2DTra  (None, 8, 8, 256)        262400    \n",
      " nspose)                                                         \n",
      "                                                                 \n",
      " batch_normalization_6 (Batc  (None, 8, 8, 256)        1024      \n",
      " hNormalization)                                                 \n",
      "                                                                 \n",
      " activation_6 (Activation)   (None, 8, 8, 256)         0         \n",
      "                                                                 \n",
      " conv2d_transpose_1 (Conv2DT  (None, 16, 16, 128)      524416    \n",
      " ranspose)                                                       \n",
      "                                                                 \n",
      " batch_normalization_7 (Batc  (None, 16, 16, 128)      512       \n",
      " hNormalization)                                                 \n",
      "                                                                 \n",
      " activation_7 (Activation)   (None, 16, 16, 128)       0         \n",
      "                                                                 \n",
      " conv2d_transpose_2 (Conv2DT  (None, 32, 32, 64)       131136    \n",
      " ranspose)                                                       \n",
      "                                                                 \n",
      " batch_normalization_8 (Batc  (None, 32, 32, 64)       256       \n",
      " hNormalization)                                                 \n",
      "                                                                 \n",
      " activation_8 (Activation)   (None, 32, 32, 64)        0         \n",
      "                                                                 \n",
      " conv2d_transpose_3 (Conv2DT  (None, 64, 64, 1)        1025      \n",
      " ranspose)                                                       \n",
      "                                                                 \n",
      " encoder (Sequential)        (None, 4096)              1708480   \n",
      "                                                                 \n",
      " latent_encoder (Sequential)  (None, 128)              8661120   \n",
      "                                                                 \n",
      " z_mean (Dense)              multiple                  8256      \n",
      "                                                                 \n",
      " z_log_var (Dense)           multiple                  8256      \n",
      "                                                                 \n",
      " latent_decoder (Sequential)  (None, 4, 4, 256)        8534016   \n",
      "                                                                 \n",
      " decoder (Sequential)        (None, 64, 64, 1)         920769    \n",
      "                                                                 \n",
      "=================================================================\n",
      "Total params: 19,840,897\n",
      "Trainable params: 19,830,401\n",
      "Non-trainable params: 10,496\n",
      "_________________________________________________________________\n"
     ]
    },
    {
     "name": "stderr",
     "output_type": "stream",
     "text": [
      "c:\\Users\\SKill\\anaconda3\\envs\\tf-gpu\\lib\\site-packages\\keras\\initializers\\initializers_v2.py:120: UserWarning: The initializer GlorotUniform is unseeded and being called multiple times, which will return identical values  each time (even if the initializer is unseeded). Please update your code to provide a seed to the initializer, or avoid using the same initalizer instance more than once.\n",
      "  warnings.warn(\n"
     ]
    },
    {
     "name": "stdout",
     "output_type": "stream",
     "text": [
      "Model: \"vae\"\n",
      "_________________________________________________________________\n",
      " Layer (type)                Output Shape              Param #   \n",
      "=================================================================\n",
      " encoder_decoder (encoder_de  multiple                 19840897  \n",
      " coder)                                                          \n",
      "                                                                 \n",
      "=================================================================\n",
      "Total params: 19,840,903\n",
      "Trainable params: 19,830,401\n",
      "Non-trainable params: 10,502\n",
      "_________________________________________________________________\n",
      "Epoch 1/5\n",
      "Vanilla Loss\n",
      "Vanilla Loss\n",
      "133/133 [==============================] - ETA: 0s - mse_loss: 2167.9185 - reconstruction_loss: -890.0754 - kl_loss: 0.0000e+004\n",
      "callback predict\n",
      "133/133 [==============================] - 7s 20ms/step - mse_loss: 2167.9185 - reconstruction_loss: -890.0754 - kl_loss: 0.0000e+00 - val_mse_loss: 0.0000e+00 - val_reconstruction_loss: 0.0000e+00\n",
      "Epoch 2/5\n",
      "133/133 [==============================] - ETA: 0s - mse_loss: 1048.6615 - reconstruction_loss: -927.6999 - kl_loss: 0.0000e+004\n",
      "callback predict\n",
      "133/133 [==============================] - 2s 15ms/step - mse_loss: 1048.6615 - reconstruction_loss: -927.6999 - kl_loss: 0.0000e+00 - val_mse_loss: 0.0000e+00 - val_reconstruction_loss: 0.0000e+00\n",
      "Epoch 3/5\n",
      "133/133 [==============================] - ETA: 0s - mse_loss: 835.8154 - reconstruction_loss: -927.6107 - kl_loss: 0.0000e+004\n",
      "callback predict\n",
      "133/133 [==============================] - 2s 15ms/step - mse_loss: 835.8154 - reconstruction_loss: -927.6107 - kl_loss: 0.0000e+00 - val_mse_loss: 0.0000e+00 - val_reconstruction_loss: 0.0000e+00\n",
      "Epoch 4/5\n",
      "133/133 [==============================] - ETA: 0s - mse_loss: 735.7487 - reconstruction_loss: -927.9302 - kl_loss: 0.0000e+004\n",
      "callback predict\n",
      "133/133 [==============================] - 2s 14ms/step - mse_loss: 735.7487 - reconstruction_loss: -927.9302 - kl_loss: 0.0000e+00 - val_mse_loss: 0.0000e+00 - val_reconstruction_loss: 0.0000e+00\n",
      "Epoch 5/5\n",
      "133/133 [==============================] - ETA: 0s - mse_loss: 644.8524 - reconstruction_loss: -927.5512 - kl_loss: 0.0000e+004\n",
      "callback predict\n",
      "133/133 [==============================] - 2s 15ms/step - mse_loss: 644.8524 - reconstruction_loss: -927.5512 - kl_loss: 0.0000e+00 - val_mse_loss: 0.0000e+00 - val_reconstruction_loss: 0.0000e+00\n"
     ]
    }
   ],
   "source": [
    "if __name__ == \"__main__\":\n",
    "\n",
    "    if model_is_VAE:\n",
    "        model = VAE(False, input_shape, multiplier, latent_size)\n",
    "    else:\n",
    "        model = UPAE(True, input_shape, multiplier, latent_size)\n",
    "\n",
    "    optimizer = keras.optimizers.Adam(learning_rate=learning_rate)\n",
    "\n",
    "    model.build(input_shape=(None,) + tuple(input_shape))\n",
    "\n",
    "    model.compile(optimizer= optimizer, loss='mse'\n",
    "                  ,metrics=[tf.keras.metrics.Accuracy()])\n",
    "    \n",
    "    model.summary()\n",
    "\n",
    "    # Where images of each epoch will be saved\n",
    "    # save_directory = 'Images/images_epochs' #edited in models where automatically make folder if non existent\n",
    "    save_directory = model_file_path + '/callback_images'\n",
    "    save_callback = SaveImageCallback(image_datasets['train'], save_directory=save_directory)\n",
    "\n",
    "    # plot_model(model, 'autoencoder_compress.png', show_shapes=True)\n",
    "    #training on training set.\n",
    "    history_train = model.fit(image_datasets['train'], \n",
    "                epochs=epochs, \n",
    "                batch_size=batch_size,\n",
    "                validation_split=0.15,\n",
    "                callbacks=[save_callback])\n",
    "    "
   ]
  },
  {
   "attachments": {},
   "cell_type": "markdown",
   "id": "a96a1d3c",
   "metadata": {},
   "source": [
    "# Model Prediction"
   ]
  },
  {
   "cell_type": "code",
   "execution_count": 7,
   "id": "7071dba6",
   "metadata": {},
   "outputs": [
    {
     "name": "stdout",
     "output_type": "stream",
     "text": [
      "not callback predict\n"
     ]
    }
   ],
   "source": [
    "history_valid = model.predict(image_datasets['test'], batch_size=batch_size)"
   ]
  },
  {
   "cell_type": "code",
   "execution_count": 8,
   "id": "78a2533e",
   "metadata": {},
   "outputs": [
    {
     "data": {
      "text/plain": [
       "2"
      ]
     },
     "execution_count": 8,
     "metadata": {},
     "output_type": "execute_result"
    }
   ],
   "source": [
    "len(history_valid)"
   ]
  },
  {
   "attachments": {},
   "cell_type": "markdown",
   "id": "353efa2a",
   "metadata": {},
   "source": [
    "# Plots Creation"
   ]
  },
  {
   "cell_type": "code",
   "execution_count": 9,
   "id": "b363b159",
   "metadata": {},
   "outputs": [],
   "source": [
    "# train_loss = history_train.history['binary_crossentropy: ']\n",
    "# # valid_loss = history_valid.history['binary_crossentropy: ']\n",
    "\n",
    "# plt.plot(train_loss , label='train')\n",
    "# # plt.plot(valid_loss , label='test')\n",
    "# plt.title('Train vs Validation Loss')\n",
    "# plt.ylabel('Reconstruction Loss')\n",
    "# plt.xlabel('Epochs')\n",
    "# plt.legend()\n",
    "# plt.show()"
   ]
  },
  {
   "attachments": {},
   "cell_type": "markdown",
   "id": "b73f60ee",
   "metadata": {},
   "source": [
    "# Testing of the Model with the Test Set\n",
    "This section tests the model with the current test set\n",
    "TODO: \n",
    "- Get the label of each image in the test set\n",
    "- Test the images\n",
    "- Create Linear Regression for the abnormality score to get the threshold for determining abnormal or normal images"
   ]
  },
  {
   "attachments": {},
   "cell_type": "markdown",
   "id": "3f5369b0",
   "metadata": {},
   "source": [
    "# Saving of final reconstructed images \n",
    "\n",
    "TODO: Create a more efficient saving of output images"
   ]
  },
  {
   "cell_type": "code",
   "execution_count": 8,
   "id": "154822a8",
   "metadata": {},
   "outputs": [],
   "source": [
    "# Create directory in models folder for reconstructed images\n",
    "dataset_name = dataset_file_path.split('/')[-1]\n",
    "reconstructed_images_path = model_file_path + \"/\" + dataset_name\n",
    "if not path.exists(reconstructed_images_path):\n",
    "    mkdir(reconstructed_images_path)"
   ]
  },
  {
   "cell_type": "code",
   "execution_count": null,
   "id": "8e7d13db",
   "metadata": {},
   "outputs": [],
   "source": [
    "for x in range(len(history_valid[0])):\n",
    "    fig, axs = plt.subplots(1,2, figsize=(8,4))\n",
    "    axs[0].imshow(image_datasets['test'][x])\n",
    "    axs[0].set_title('Original Image')\n",
    "    new_image = np.floor(history_valid[0][x]).astype(np.uint8)\n",
    "    axs[1].imshow(new_image)\n",
    "    axs[1].set_title('Reconstructed Image')\n",
    "    plt.savefig(f'{reconstructed_images_path}/Valid_Image_{x}.png')\n",
    "    plt.close()\n",
    "    "
   ]
  },
  {
   "attachments": {},
   "cell_type": "markdown",
   "id": "72b430df",
   "metadata": {},
   "source": [
    "# Saving of Model Weights"
   ]
  },
  {
   "cell_type": "code",
   "execution_count": null,
   "id": "324861d8",
   "metadata": {},
   "outputs": [],
   "source": [
    "model.save_weights(model_file_path + '/model_weights.h5')"
   ]
  },
  {
   "cell_type": "code",
   "execution_count": null,
   "id": "f11c769f",
   "metadata": {},
   "outputs": [],
   "source": []
  },
  {
   "cell_type": "code",
   "execution_count": null,
   "id": "3519a986",
   "metadata": {},
   "outputs": [],
   "source": [
    "history_valid[0].shape"
   ]
  },
  {
   "cell_type": "code",
   "execution_count": null,
   "id": "46067ae4",
   "metadata": {},
   "outputs": [],
   "source": [
    "new_image = np.concatenate(history_valid[0], axis=1)\n",
    "plt.imshow(new_image)"
   ]
  },
  {
   "cell_type": "code",
   "execution_count": null,
   "id": "2460cbb0",
   "metadata": {},
   "outputs": [],
   "source": [
    "history_valid[0]"
   ]
  },
  {
   "attachments": {},
   "cell_type": "markdown",
   "id": "f90fc7ab",
   "metadata": {},
   "source": []
  }
 ],
 "metadata": {
  "kernelspec": {
   "display_name": "Python 3 (ipykernel)",
   "language": "python",
   "name": "python3"
  },
  "language_info": {
   "codemirror_mode": {
    "name": "ipython",
    "version": 3
   },
   "file_extension": ".py",
   "mimetype": "text/x-python",
   "name": "python",
   "nbconvert_exporter": "python",
   "pygments_lexer": "ipython3",
   "version": "3.10.10"
  }
 },
 "nbformat": 4,
 "nbformat_minor": 5
}
