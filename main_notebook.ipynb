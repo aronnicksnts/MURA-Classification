{
 "cells": [
  {
   "attachments": {},
   "cell_type": "markdown",
   "id": "2bc86acd",
   "metadata": {},
   "source": [
    "# Dependencies"
   ]
  },
  {
   "cell_type": "code",
   "execution_count": 1,
   "id": "78b7f7e8",
   "metadata": {},
   "outputs": [
    {
     "name": "stderr",
     "output_type": "stream",
     "text": [
      "2023-06-19 16:58:47.802709: I tensorflow/tsl/cuda/cudart_stub.cc:28] Could not find cuda drivers on your machine, GPU will not be used.\n",
      "2023-06-19 16:58:47.861794: I tensorflow/tsl/cuda/cudart_stub.cc:28] Could not find cuda drivers on your machine, GPU will not be used.\n",
      "2023-06-19 16:58:49.058076: W tensorflow/compiler/tf2tensorrt/utils/py_utils.cc:38] TF-TRT Warning: Could not find TensorRT\n",
      "/home/clr/.local/lib/python3.11/site-packages/tqdm/auto.py:21: TqdmWarning: IProgress not found. Please update jupyter and ipywidgets. See https://ipywidgets.readthedocs.io/en/stable/user_install.html\n",
      "  from .autonotebook import tqdm as notebook_tqdm\n"
     ]
    }
   ],
   "source": [
    "import MURA\n",
    "import cv2\n",
    "import image_manipulation\n",
    "from multiprocessing import Pool\n",
    "from models import *\n",
    "import numpy as np\n",
    "import glob\n",
    "import matplotlib.pyplot as plt\n",
    "import preprocessing\n",
    "import json\n",
    "from os import path, mkdir\n",
    "\n",
    "import keras\n",
    "from argparse import ArgumentParser\n",
    "import tensorflow as tf\n",
    "from sklearn import metrics\n",
    "\n",
    "from skimage import exposure\n"
   ]
  },
  {
   "attachments": {},
   "cell_type": "markdown",
   "id": "22e578b7",
   "metadata": {},
   "source": [
    "# Model to Run\n",
    "This section lets the user edit on what model parameters to run, the model directory and parameters should exist prior to changing the file path"
   ]
  },
  {
   "cell_type": "code",
   "execution_count": 2,
   "id": "afd350f9",
   "metadata": {},
   "outputs": [],
   "source": [
    "# All editable variables\n",
    "model_file_path = \"models/model_6_UPAE\"\n",
    "# If preprocessing needs to run\n",
    "run_preprocessing = False"
   ]
  },
  {
   "cell_type": "code",
   "execution_count": 3,
   "id": "f5b73251",
   "metadata": {},
   "outputs": [],
   "source": [
    "# Get model parameters\n",
    "try:\n",
    "    params = json.load(open(model_file_path + '/parameters.json'))\n",
    "\n",
    "    # Model to use\n",
    "    model_is_VAE = params['is_VAE']\n",
    "    # Model parameters\n",
    "    multiplier = params['multiplier']\n",
    "    latent_size = params['latent_size']\n",
    "    input_shape = params['input_shape']\n",
    "\n",
    "    # Training parameters\n",
    "    epochs = params['num_epochs']\n",
    "    batch_size = params['batch_size']\n",
    "    learning_rate = params['learning_rate']\n",
    "\n",
    "    # Dataset Path\n",
    "    image_paths = MURA.MURA_DATASET()\n",
    "    dataset_file_path = params['dataset_path']\n",
    "    all_image_paths = image_paths.get_combined_image_paths()\n",
    "    all_image_paths = all_image_paths.to_numpy()[:,0]\n",
    "except:\n",
    "    raise Exception(\"No parameters.json file found in the model's directory.\")"
   ]
  },
  {
   "cell_type": "code",
   "execution_count": 4,
   "id": "ae204155",
   "metadata": {},
   "outputs": [],
   "source": [
    "# each array contains the training, validation, and testing in order\n",
    "image_datasets = {'train': [],\n",
    "                'valid': [],\n",
    "                'test': []}\n",
    "for dataset_name in image_datasets.keys():\n",
    "    for image_path in glob.glob(f'{dataset_file_path}/{dataset_name}/*.png'):\n",
    "        image = cv2.imread(image_path)\n",
    "        image = cv2.cvtColor(image, cv2.COLOR_BGR2GRAY)\n",
    "        image = exposure.rescale_intensity(image, in_range=(0, 255))\n",
    "        image_datasets[dataset_name].append(image)\n",
    "    image_datasets[dataset_name] = np.array(image_datasets[dataset_name])"
   ]
  },
  {
   "attachments": {},
   "cell_type": "markdown",
   "id": "f69e69d0",
   "metadata": {},
   "source": [
    "# Model Training\n",
    "This section creates and trains the model"
   ]
  },
  {
   "cell_type": "code",
   "execution_count": 5,
   "id": "f906dcd1",
   "metadata": {},
   "outputs": [
    {
     "name": "stderr",
     "output_type": "stream",
     "text": [
      "2023-06-19 16:58:59.098731: E tensorflow/compiler/xla/stream_executor/cuda/cuda_driver.cc:266] failed call to cuInit: CUDA_ERROR_UNKNOWN: unknown error\n",
      "2023-06-19 16:58:59.098776: I tensorflow/compiler/xla/stream_executor/cuda/cuda_diagnostics.cc:168] retrieving CUDA diagnostic information for host: epictetus.emperor-bebop.ts.net\n",
      "2023-06-19 16:58:59.098788: I tensorflow/compiler/xla/stream_executor/cuda/cuda_diagnostics.cc:175] hostname: epictetus.emperor-bebop.ts.net\n",
      "2023-06-19 16:58:59.098934: I tensorflow/compiler/xla/stream_executor/cuda/cuda_diagnostics.cc:199] libcuda reported version is: 525.116.4\n",
      "2023-06-19 16:58:59.098963: I tensorflow/compiler/xla/stream_executor/cuda/cuda_diagnostics.cc:203] kernel reported version is: 525.116.4\n",
      "2023-06-19 16:58:59.098975: I tensorflow/compiler/xla/stream_executor/cuda/cuda_diagnostics.cc:309] kernel version seems to match DSO: 525.116.4\n"
     ]
    },
    {
     "name": "stdout",
     "output_type": "stream",
     "text": [
      "Epoch 1/100\n",
      "58/58 [==============================] - 41s 675ms/step - mse_loss: 6390.6372 - total_loss: 215.4093 - loss1: 160.7282 - loss2: 54.6811 - reconstruction_loss: -551.8429 - accuracy: 0.0237 - val_mse_loss: 4146.7246 - val_total_loss: 23.0869 - val_loss1: 7.4847 - val_loss2: 15.6022 - val_reconstruction_loss: -635.9216 - val_accuracy: 0.0028\n",
      "Epoch 2/100\n",
      "58/58 [==============================] - 39s 668ms/step - mse_loss: 4627.2485 - total_loss: 16.6460 - loss1: 2.6092 - loss2: 14.0369 - reconstruction_loss: -696.9087 - accuracy: 0.0018 - val_mse_loss: 4307.1685 - val_total_loss: 18.1142 - val_loss1: 5.7653 - val_loss2: 12.3489 - val_reconstruction_loss: -636.2905 - val_accuracy: 0.0015\n",
      "Epoch 3/100\n",
      "58/58 [==============================] - 39s 664ms/step - mse_loss: 4681.5591 - total_loss: 14.1030 - loss1: 2.0545 - loss2: 12.0485 - reconstruction_loss: -704.4610 - accuracy: 8.6914e-04 - val_mse_loss: 4294.7427 - val_total_loss: 15.8941 - val_loss1: 4.8165 - val_loss2: 11.0776 - val_reconstruction_loss: -636.4437 - val_accuracy: 6.6698e-04\n",
      "Epoch 4/100\n",
      "58/58 [==============================] - 39s 665ms/step - mse_loss: 4664.7812 - total_loss: 12.6066 - loss1: 1.7092 - loss2: 10.8974 - reconstruction_loss: -712.7734 - accuracy: 2.3741e-04 - val_mse_loss: 4309.7749 - val_total_loss: 11.6881 - val_loss1: 1.5796 - val_loss2: 10.1085 - val_reconstruction_loss: -636.5706 - val_accuracy: 3.1713e-04\n",
      "Epoch 5/100\n",
      "58/58 [==============================] - 39s 668ms/step - mse_loss: 4609.4561 - total_loss: 11.7076 - loss1: 1.4531 - loss2: 10.2546 - reconstruction_loss: -695.0562 - accuracy: 1.6813e-04 - val_mse_loss: 4320.0972 - val_total_loss: 10.9839 - val_loss1: 2.1682 - val_loss2: 8.8157 - val_reconstruction_loss: -636.6006 - val_accuracy: 3.1713e-04\n",
      "Epoch 6/100\n",
      "58/58 [==============================] - 39s 667ms/step - mse_loss: 4589.1260 - total_loss: 10.5137 - loss1: 1.2137 - loss2: 9.3001 - reconstruction_loss: -712.4703 - accuracy: 1.6813e-04 - val_mse_loss: 4279.6621 - val_total_loss: 10.3371 - val_loss1: 1.5906 - val_loss2: 8.7464 - val_reconstruction_loss: -636.6015 - val_accuracy: 3.1713e-04\n",
      "Epoch 7/100\n",
      "58/58 [==============================] - 39s 667ms/step - mse_loss: 4518.9062 - total_loss: 10.1066 - loss1: 1.1674 - loss2: 8.9393 - reconstruction_loss: -693.9304 - accuracy: 1.6813e-04 - val_mse_loss: 4082.5325 - val_total_loss: 10.3063 - val_loss1: 0.5338 - val_loss2: 9.7725 - val_reconstruction_loss: -636.6015 - val_accuracy: 3.1713e-04\n",
      "Epoch 8/100\n",
      "58/58 [==============================] - 42s 719ms/step - mse_loss: 4399.7427 - total_loss: 10.0013 - loss1: 1.1213 - loss2: 8.8800 - reconstruction_loss: -696.4640 - accuracy: 1.6813e-04 - val_mse_loss: 3964.2615 - val_total_loss: 10.1534 - val_loss1: 0.6290 - val_loss2: 9.5244 - val_reconstruction_loss: -636.6015 - val_accuracy: 3.1713e-04\n",
      "Epoch 9/100\n",
      "58/58 [==============================] - 41s 701ms/step - mse_loss: 4266.5674 - total_loss: 9.8234 - loss1: 1.0610 - loss2: 8.7624 - reconstruction_loss: -690.1540 - accuracy: 1.6813e-04 - val_mse_loss: 3867.7947 - val_total_loss: 9.8335 - val_loss1: 0.8740 - val_loss2: 8.9595 - val_reconstruction_loss: -636.6015 - val_accuracy: 3.1713e-04\n",
      "Epoch 10/100\n",
      "58/58 [==============================] - 39s 679ms/step - mse_loss: 4117.5674 - total_loss: 9.6606 - loss1: 1.0569 - loss2: 8.6036 - reconstruction_loss: -711.4039 - accuracy: 1.6813e-04 - val_mse_loss: 3694.9409 - val_total_loss: 9.7554 - val_loss1: 0.6921 - val_loss2: 9.0633 - val_reconstruction_loss: -636.6015 - val_accuracy: 3.1713e-04\n",
      "Epoch 11/100\n",
      "58/58 [==============================] - 39s 672ms/step - mse_loss: 3916.7371 - total_loss: 9.6324 - loss1: 1.0441 - loss2: 8.5883 - reconstruction_loss: -699.5422 - accuracy: 1.6813e-04 - val_mse_loss: 3581.8049 - val_total_loss: 9.5839 - val_loss1: 0.9869 - val_loss2: 8.5970 - val_reconstruction_loss: -636.6015 - val_accuracy: 3.1713e-04\n",
      "Epoch 12/100\n",
      "58/58 [==============================] - 39s 669ms/step - mse_loss: 3717.6782 - total_loss: 9.5616 - loss1: 1.0327 - loss2: 8.5289 - reconstruction_loss: -706.5314 - accuracy: 1.6813e-04 - val_mse_loss: 3513.4409 - val_total_loss: 9.8062 - val_loss1: 1.9642 - val_loss2: 7.8421 - val_reconstruction_loss: -636.6015 - val_accuracy: 3.1713e-04\n",
      "Epoch 13/100\n",
      "58/58 [==============================] - 39s 673ms/step - mse_loss: 3558.7744 - total_loss: 9.4366 - loss1: 1.0578 - loss2: 8.3788 - reconstruction_loss: -711.2524 - accuracy: 1.6813e-04 - val_mse_loss: 3308.0122 - val_total_loss: 9.4112 - val_loss1: 1.0863 - val_loss2: 8.3249 - val_reconstruction_loss: -636.6015 - val_accuracy: 3.1713e-04\n",
      "Epoch 14/100\n",
      "58/58 [==============================] - 39s 670ms/step - mse_loss: 3451.6514 - total_loss: 9.3588 - loss1: 1.0274 - loss2: 8.3315 - reconstruction_loss: -690.9006 - accuracy: 1.6813e-04 - val_mse_loss: 3333.1130 - val_total_loss: 9.5284 - val_loss1: 0.7372 - val_loss2: 8.7912 - val_reconstruction_loss: -636.6015 - val_accuracy: 3.1713e-04\n",
      "Epoch 15/100\n",
      "58/58 [==============================] - 39s 671ms/step - mse_loss: 3387.1743 - total_loss: 9.3184 - loss1: 1.0486 - loss2: 8.2698 - reconstruction_loss: -712.8022 - accuracy: 1.6813e-04 - val_mse_loss: 3235.8132 - val_total_loss: 9.3807 - val_loss1: 1.3791 - val_loss2: 8.0016 - val_reconstruction_loss: -636.6015 - val_accuracy: 3.1713e-04\n",
      "Epoch 16/100\n",
      "58/58 [==============================] - 42s 721ms/step - mse_loss: 3319.9917 - total_loss: 9.4472 - loss1: 1.0733 - loss2: 8.3739 - reconstruction_loss: -710.6183 - accuracy: 1.6813e-04 - val_mse_loss: 3193.5889 - val_total_loss: 9.3607 - val_loss1: 1.1545 - val_loss2: 8.2062 - val_reconstruction_loss: -636.6015 - val_accuracy: 3.1713e-04\n",
      "Epoch 17/100\n",
      "58/58 [==============================] - 43s 742ms/step - mse_loss: 3249.8811 - total_loss: 9.2691 - loss1: 1.0315 - loss2: 8.2376 - reconstruction_loss: -705.9636 - accuracy: 1.6813e-04 - val_mse_loss: 3055.7720 - val_total_loss: 9.4090 - val_loss1: 1.6635 - val_loss2: 7.7455 - val_reconstruction_loss: -636.6015 - val_accuracy: 3.1713e-04\n",
      "Epoch 18/100\n",
      "58/58 [==============================] - 40s 684ms/step - mse_loss: 3189.8745 - total_loss: 9.2497 - loss1: 1.0579 - loss2: 8.1918 - reconstruction_loss: -719.8191 - accuracy: 1.6813e-04 - val_mse_loss: 3020.6196 - val_total_loss: 9.3631 - val_loss1: 1.6273 - val_loss2: 7.7359 - val_reconstruction_loss: -636.6015 - val_accuracy: 3.1713e-04\n",
      "Epoch 19/100\n",
      "58/58 [==============================] - 40s 680ms/step - mse_loss: 3085.9397 - total_loss: 9.2337 - loss1: 1.0586 - loss2: 8.1752 - reconstruction_loss: -699.4586 - accuracy: 1.6813e-04 - val_mse_loss: 2988.1968 - val_total_loss: 9.3044 - val_loss1: 0.8641 - val_loss2: 8.4403 - val_reconstruction_loss: -636.6015 - val_accuracy: 3.1713e-04\n",
      "Epoch 20/100\n",
      "58/58 [==============================] - 40s 683ms/step - mse_loss: 2981.0417 - total_loss: 9.1677 - loss1: 1.0468 - loss2: 8.1209 - reconstruction_loss: -703.1281 - accuracy: 1.6813e-04 - val_mse_loss: 2828.5630 - val_total_loss: 9.1923 - val_loss1: 0.8497 - val_loss2: 8.3426 - val_reconstruction_loss: -636.6015 - val_accuracy: 3.1713e-04\n",
      "Epoch 21/100\n",
      "58/58 [==============================] - 40s 686ms/step - mse_loss: 2778.9966 - total_loss: 9.1113 - loss1: 1.0386 - loss2: 8.0726 - reconstruction_loss: -700.8361 - accuracy: 1.6813e-04 - val_mse_loss: 2593.9927 - val_total_loss: 9.1308 - val_loss1: 0.8811 - val_loss2: 8.2498 - val_reconstruction_loss: -636.6015 - val_accuracy: 3.1713e-04\n",
      "Epoch 22/100\n",
      "58/58 [==============================] - 40s 684ms/step - mse_loss: 2305.2166 - total_loss: 8.9319 - loss1: 1.0442 - loss2: 7.8877 - reconstruction_loss: -706.2833 - accuracy: 1.6813e-04 - val_mse_loss: 1982.4409 - val_total_loss: 8.8828 - val_loss1: 1.1280 - val_loss2: 7.7549 - val_reconstruction_loss: -636.6015 - val_accuracy: 3.1713e-04\n",
      "Epoch 23/100\n",
      "58/58 [==============================] - 40s 683ms/step - mse_loss: 1768.6628 - total_loss: 8.6647 - loss1: 1.0511 - loss2: 7.6135 - reconstruction_loss: -706.9876 - accuracy: 1.6813e-04 - val_mse_loss: 1505.2539 - val_total_loss: 8.6224 - val_loss1: 0.8046 - val_loss2: 7.8178 - val_reconstruction_loss: -636.6015 - val_accuracy: 3.1713e-04\n",
      "Epoch 24/100\n",
      "58/58 [==============================] - 40s 691ms/step - mse_loss: 1408.3790 - total_loss: 8.4745 - loss1: 1.0502 - loss2: 7.4243 - reconstruction_loss: -708.5459 - accuracy: 1.6813e-04 - val_mse_loss: 1489.5333 - val_total_loss: 8.8985 - val_loss1: 1.8819 - val_loss2: 7.0166 - val_reconstruction_loss: -636.6015 - val_accuracy: 3.1713e-04\n",
      "Epoch 25/100\n",
      "58/58 [==============================] - 40s 696ms/step - mse_loss: 1243.4768 - total_loss: 8.3719 - loss1: 1.0562 - loss2: 7.3156 - reconstruction_loss: -686.1116 - accuracy: 1.6813e-04 - val_mse_loss: 1046.4308 - val_total_loss: 8.2292 - val_loss1: 1.1283 - val_loss2: 7.1009 - val_reconstruction_loss: -636.6015 - val_accuracy: 3.1713e-04\n",
      "Epoch 26/100\n",
      "58/58 [==============================] - 40s 694ms/step - mse_loss: 1062.6757 - total_loss: 8.1407 - loss1: 1.0503 - loss2: 7.0905 - reconstruction_loss: -696.2912 - accuracy: 1.6813e-04 - val_mse_loss: 969.6454 - val_total_loss: 8.2380 - val_loss1: 0.8789 - val_loss2: 7.3591 - val_reconstruction_loss: -636.6015 - val_accuracy: 3.1713e-04\n",
      "Epoch 27/100\n",
      "58/58 [==============================] - 40s 693ms/step - mse_loss: 995.1711 - total_loss: 8.0389 - loss1: 1.0476 - loss2: 6.9913 - reconstruction_loss: -711.5247 - accuracy: 1.6813e-04 - val_mse_loss: 915.2032 - val_total_loss: 8.2814 - val_loss1: 0.5086 - val_loss2: 7.7728 - val_reconstruction_loss: -636.6015 - val_accuracy: 3.1713e-04\n",
      "Epoch 28/100\n",
      "58/58 [==============================] - 40s 692ms/step - mse_loss: 944.1070 - total_loss: 7.9784 - loss1: 1.0164 - loss2: 6.9620 - reconstruction_loss: -707.6150 - accuracy: 1.6813e-04 - val_mse_loss: 854.3965 - val_total_loss: 7.9839 - val_loss1: 1.1227 - val_loss2: 6.8612 - val_reconstruction_loss: -636.6015 - val_accuracy: 3.1713e-04\n",
      "Epoch 29/100\n",
      "58/58 [==============================] - 40s 691ms/step - mse_loss: 894.8375 - total_loss: 7.8994 - loss1: 1.0284 - loss2: 6.8710 - reconstruction_loss: -708.1420 - accuracy: 1.6813e-04 - val_mse_loss: 820.0341 - val_total_loss: 7.9348 - val_loss1: 0.8612 - val_loss2: 7.0736 - val_reconstruction_loss: -636.6015 - val_accuracy: 3.1713e-04\n",
      "Epoch 30/100\n",
      "58/58 [==============================] - 40s 692ms/step - mse_loss: 857.1459 - total_loss: 7.8781 - loss1: 1.0227 - loss2: 6.8554 - reconstruction_loss: -707.3433 - accuracy: 1.6813e-04 - val_mse_loss: 782.5445 - val_total_loss: 7.8772 - val_loss1: 1.3174 - val_loss2: 6.5598 - val_reconstruction_loss: -636.6016 - val_accuracy: 3.1713e-04\n",
      "Epoch 31/100\n",
      "58/58 [==============================] - 40s 692ms/step - mse_loss: 818.8522 - total_loss: 7.8180 - loss1: 1.0456 - loss2: 6.7724 - reconstruction_loss: -712.5845 - accuracy: 1.6918e-04 - val_mse_loss: 745.9050 - val_total_loss: 7.8446 - val_loss1: 0.8747 - val_loss2: 6.9699 - val_reconstruction_loss: -636.6046 - val_accuracy: 3.2720e-04\n",
      "Epoch 32/100\n",
      "58/58 [==============================] - 41s 701ms/step - mse_loss: 783.8643 - total_loss: 7.7784 - loss1: 1.0106 - loss2: 6.7678 - reconstruction_loss: -688.3081 - accuracy: 2.0481e-04 - val_mse_loss: 721.7921 - val_total_loss: 7.8012 - val_loss1: 1.0756 - val_loss2: 6.7256 - val_reconstruction_loss: -636.6190 - val_accuracy: 4.5053e-04\n",
      "Epoch 33/100\n",
      "58/58 [==============================] - 41s 704ms/step - mse_loss: 743.4168 - total_loss: 7.7181 - loss1: 1.0264 - loss2: 6.6917 - reconstruction_loss: -701.7367 - accuracy: 7.2662e-04 - val_mse_loss: 694.7119 - val_total_loss: 7.8271 - val_loss1: 0.8626 - val_loss2: 6.9645 - val_reconstruction_loss: -636.6497 - val_accuracy: 0.0013\n",
      "Epoch 34/100\n",
      "58/58 [==============================] - 41s 701ms/step - mse_loss: 709.9733 - total_loss: 7.6628 - loss1: 1.0337 - loss2: 6.6291 - reconstruction_loss: -695.8811 - accuracy: 0.0028 - val_mse_loss: 660.1658 - val_total_loss: 7.7025 - val_loss1: 0.9539 - val_loss2: 6.7486 - val_reconstruction_loss: -636.7578 - val_accuracy: 0.0041\n",
      "Epoch 35/100\n",
      "58/58 [==============================] - 41s 698ms/step - mse_loss: 696.7621 - total_loss: 7.6748 - loss1: 1.0221 - loss2: 6.6527 - reconstruction_loss: -702.9697 - accuracy: 0.0070 - val_mse_loss: 646.6516 - val_total_loss: 7.6843 - val_loss1: 0.8608 - val_loss2: 6.8235 - val_reconstruction_loss: -636.8899 - val_accuracy: 0.0095\n",
      "Epoch 36/100\n",
      "58/58 [==============================] - 41s 707ms/step - mse_loss: 656.7133 - total_loss: 7.5899 - loss1: 1.0261 - loss2: 6.5638 - reconstruction_loss: -715.2871 - accuracy: 0.0159 - val_mse_loss: 605.8914 - val_total_loss: 7.6700 - val_loss1: 0.8163 - val_loss2: 6.8537 - val_reconstruction_loss: -637.2075 - val_accuracy: 0.0211\n",
      "Epoch 37/100\n",
      "58/58 [==============================] - 41s 701ms/step - mse_loss: 630.9153 - total_loss: 7.5305 - loss1: 1.0114 - loss2: 6.5191 - reconstruction_loss: -701.5858 - accuracy: 0.0323 - val_mse_loss: 591.7265 - val_total_loss: 7.6055 - val_loss1: 0.8058 - val_loss2: 6.7997 - val_reconstruction_loss: -637.5765 - val_accuracy: 0.0347\n",
      "Epoch 38/100\n",
      "58/58 [==============================] - 41s 709ms/step - mse_loss: 609.1476 - total_loss: 7.5115 - loss1: 1.0227 - loss2: 6.4889 - reconstruction_loss: -696.1200 - accuracy: 0.0548 - val_mse_loss: 563.1217 - val_total_loss: 7.4951 - val_loss1: 1.0331 - val_loss2: 6.4620 - val_reconstruction_loss: -638.3040 - val_accuracy: 0.0666\n",
      "Epoch 39/100\n",
      "58/58 [==============================] - 41s 714ms/step - mse_loss: 581.0546 - total_loss: 7.4470 - loss1: 1.0188 - loss2: 6.4282 - reconstruction_loss: -709.6688 - accuracy: 0.0860 - val_mse_loss: 542.3594 - val_total_loss: 7.5061 - val_loss1: 1.1552 - val_loss2: 6.3509 - val_reconstruction_loss: -638.9546 - val_accuracy: 0.0993\n",
      "Epoch 40/100\n",
      "58/58 [==============================] - 41s 712ms/step - mse_loss: 576.9910 - total_loss: 7.4671 - loss1: 1.0136 - loss2: 6.4535 - reconstruction_loss: -713.4669 - accuracy: 0.1156 - val_mse_loss: 532.8096 - val_total_loss: 7.4362 - val_loss1: 1.2637 - val_loss2: 6.1725 - val_reconstruction_loss: -639.4959 - val_accuracy: 0.1291\n",
      "Epoch 41/100\n",
      "58/58 [==============================] - 41s 709ms/step - mse_loss: 556.1746 - total_loss: 7.4048 - loss1: 1.0316 - loss2: 6.3732 - reconstruction_loss: -697.6109 - accuracy: 0.1491 - val_mse_loss: 507.8174 - val_total_loss: 7.3862 - val_loss1: 0.8865 - val_loss2: 6.4997 - val_reconstruction_loss: -639.9091 - val_accuracy: 0.1568\n",
      "Epoch 42/100\n",
      "58/58 [==============================] - 41s 707ms/step - mse_loss: 533.7700 - total_loss: 7.3551 - loss1: 1.0138 - loss2: 6.3413 - reconstruction_loss: -713.1758 - accuracy: 0.1808 - val_mse_loss: 502.4180 - val_total_loss: 7.4347 - val_loss1: 0.7745 - val_loss2: 6.6602 - val_reconstruction_loss: -640.3372 - val_accuracy: 0.1875\n",
      "Epoch 43/100\n",
      "58/58 [==============================] - 42s 716ms/step - mse_loss: 526.9179 - total_loss: 7.3786 - loss1: 1.0075 - loss2: 6.3711 - reconstruction_loss: -721.8644 - accuracy: 0.2043 - val_mse_loss: 493.8998 - val_total_loss: 7.5166 - val_loss1: 1.7597 - val_loss2: 5.7569 - val_reconstruction_loss: -641.0128 - val_accuracy: 0.2170\n",
      "Epoch 44/100\n",
      "58/58 [==============================] - 41s 700ms/step - mse_loss: 514.6992 - total_loss: 7.3430 - loss1: 1.0344 - loss2: 6.3086 - reconstruction_loss: -706.2679 - accuracy: 0.2248 - val_mse_loss: 470.7123 - val_total_loss: 7.2914 - val_loss1: 0.9774 - val_loss2: 6.3140 - val_reconstruction_loss: -641.1145 - val_accuracy: 0.2259\n",
      "Epoch 45/100\n",
      "58/58 [==============================] - 37s 645ms/step - mse_loss: 494.7805 - total_loss: 7.2884 - loss1: 1.0169 - loss2: 6.2715 - reconstruction_loss: -714.4963 - accuracy: 0.2521 - val_mse_loss: 478.3921 - val_total_loss: 7.3604 - val_loss1: 0.7485 - val_loss2: 6.6119 - val_reconstruction_loss: -641.3474 - val_accuracy: 0.2439\n",
      "Epoch 46/100\n",
      "58/58 [==============================] - 35s 611ms/step - mse_loss: 488.0384 - total_loss: 7.2602 - loss1: 1.0115 - loss2: 6.2487 - reconstruction_loss: -707.8714 - accuracy: 0.2673 - val_mse_loss: 454.8222 - val_total_loss: 7.3269 - val_loss1: 1.4056 - val_loss2: 5.9213 - val_reconstruction_loss: -641.8133 - val_accuracy: 0.2765\n",
      "Epoch 47/100\n",
      "58/58 [==============================] - 36s 614ms/step - mse_loss: 473.5235 - total_loss: 7.2300 - loss1: 1.0104 - loss2: 6.2196 - reconstruction_loss: -709.7936 - accuracy: 0.2857 - val_mse_loss: 447.7538 - val_total_loss: 7.2337 - val_loss1: 1.1022 - val_loss2: 6.1315 - val_reconstruction_loss: -641.9244 - val_accuracy: 0.2809\n",
      "Epoch 48/100\n",
      "58/58 [==============================] - 36s 615ms/step - mse_loss: 458.8471 - total_loss: 7.1846 - loss1: 1.0205 - loss2: 6.1641 - reconstruction_loss: -699.8020 - accuracy: 0.3013 - val_mse_loss: 436.4507 - val_total_loss: 7.3066 - val_loss1: 0.6867 - val_loss2: 6.6199 - val_reconstruction_loss: -641.9934 - val_accuracy: 0.2943\n",
      "Epoch 49/100\n",
      "58/58 [==============================] - 36s 610ms/step - mse_loss: 461.0479 - total_loss: 7.2115 - loss1: 1.0084 - loss2: 6.2031 - reconstruction_loss: -718.0031 - accuracy: 0.3089 - val_mse_loss: 432.5062 - val_total_loss: 7.1984 - val_loss1: 0.8791 - val_loss2: 6.3193 - val_reconstruction_loss: -642.1490 - val_accuracy: 0.2973\n",
      "Epoch 50/100\n",
      "58/58 [==============================] - 35s 610ms/step - mse_loss: 455.5385 - total_loss: 7.2036 - loss1: 1.0066 - loss2: 6.1970 - reconstruction_loss: -717.6848 - accuracy: 0.3157 - val_mse_loss: 428.4291 - val_total_loss: 7.2968 - val_loss1: 1.4254 - val_loss2: 5.8714 - val_reconstruction_loss: -642.2896 - val_accuracy: 0.3111\n",
      "Epoch 51/100\n",
      "58/58 [==============================] - 36s 613ms/step - mse_loss: 455.0113 - total_loss: 7.1960 - loss1: 1.0294 - loss2: 6.1666 - reconstruction_loss: -719.6222 - accuracy: 0.3187 - val_mse_loss: 427.6745 - val_total_loss: 7.2438 - val_loss1: 0.9193 - val_loss2: 6.3245 - val_reconstruction_loss: -642.2064 - val_accuracy: 0.3209\n",
      "Epoch 52/100\n",
      "58/58 [==============================] - 36s 612ms/step - mse_loss: 449.5344 - total_loss: 7.1719 - loss1: 1.0085 - loss2: 6.1634 - reconstruction_loss: -701.0373 - accuracy: 0.3262 - val_mse_loss: 411.5777 - val_total_loss: 7.1723 - val_loss1: 1.1625 - val_loss2: 6.0099 - val_reconstruction_loss: -642.3802 - val_accuracy: 0.3225\n",
      "Epoch 53/100\n",
      "58/58 [==============================] - 35s 611ms/step - mse_loss: 424.6609 - total_loss: 7.1102 - loss1: 1.0148 - loss2: 6.0953 - reconstruction_loss: -706.4929 - accuracy: 0.3375 - val_mse_loss: 422.8678 - val_total_loss: 7.1912 - val_loss1: 1.1964 - val_loss2: 5.9948 - val_reconstruction_loss: -642.4513 - val_accuracy: 0.3293\n",
      "Epoch 54/100\n",
      "58/58 [==============================] - 36s 615ms/step - mse_loss: 422.0970 - total_loss: 7.1001 - loss1: 1.0059 - loss2: 6.0942 - reconstruction_loss: -706.1486 - accuracy: 0.3417 - val_mse_loss: 419.7286 - val_total_loss: 7.1688 - val_loss1: 0.9232 - val_loss2: 6.2456 - val_reconstruction_loss: -642.4769 - val_accuracy: 0.3367\n",
      "Epoch 55/100\n",
      "58/58 [==============================] - 36s 616ms/step - mse_loss: 414.7702 - total_loss: 7.0821 - loss1: 1.0079 - loss2: 6.0742 - reconstruction_loss: -722.1090 - accuracy: 0.3470 - val_mse_loss: 395.0517 - val_total_loss: 7.1418 - val_loss1: 1.3121 - val_loss2: 5.8297 - val_reconstruction_loss: -642.6963 - val_accuracy: 0.3405\n",
      "Epoch 56/100\n",
      "58/58 [==============================] - 36s 617ms/step - mse_loss: 409.9534 - total_loss: 7.0822 - loss1: 1.0183 - loss2: 6.0639 - reconstruction_loss: -725.8550 - accuracy: 0.3516 - val_mse_loss: 417.6338 - val_total_loss: 7.1863 - val_loss1: 0.8260 - val_loss2: 6.3603 - val_reconstruction_loss: -642.5695 - val_accuracy: 0.3219\n",
      "Epoch 57/100\n",
      "58/58 [==============================] - 36s 623ms/step - mse_loss: 405.0676 - total_loss: 7.0632 - loss1: 1.0106 - loss2: 6.0527 - reconstruction_loss: -708.9576 - accuracy: 0.3532 - val_mse_loss: 398.1291 - val_total_loss: 7.1537 - val_loss1: 0.9608 - val_loss2: 6.1928 - val_reconstruction_loss: -642.5876 - val_accuracy: 0.3506\n",
      "Epoch 58/100\n",
      "58/58 [==============================] - 38s 652ms/step - mse_loss: 392.6528 - total_loss: 7.0251 - loss1: 1.0043 - loss2: 6.0208 - reconstruction_loss: -708.2958 - accuracy: 0.3592 - val_mse_loss: 378.8182 - val_total_loss: 7.0662 - val_loss1: 0.9299 - val_loss2: 6.1363 - val_reconstruction_loss: -642.6839 - val_accuracy: 0.3515\n",
      "Epoch 59/100\n",
      "58/58 [==============================] - 39s 673ms/step - mse_loss: 384.9505 - total_loss: 7.0120 - loss1: 1.0156 - loss2: 5.9963 - reconstruction_loss: -710.5095 - accuracy: 0.3635 - val_mse_loss: 377.8935 - val_total_loss: 7.1100 - val_loss1: 0.7124 - val_loss2: 6.3976 - val_reconstruction_loss: -642.6553 - val_accuracy: 0.3483\n",
      "Epoch 60/100\n",
      "58/58 [==============================] - 39s 673ms/step - mse_loss: 390.7406 - total_loss: 7.0529 - loss1: 1.0233 - loss2: 6.0296 - reconstruction_loss: -707.3472 - accuracy: 0.3633 - val_mse_loss: 398.8653 - val_total_loss: 7.2291 - val_loss1: 0.8722 - val_loss2: 6.3568 - val_reconstruction_loss: -642.5837 - val_accuracy: 0.3498\n",
      "Epoch 61/100\n",
      "58/58 [==============================] - 38s 660ms/step - mse_loss: 387.8701 - total_loss: 7.0292 - loss1: 1.0119 - loss2: 6.0172 - reconstruction_loss: -712.7839 - accuracy: 0.3649 - val_mse_loss: 428.6645 - val_total_loss: 7.3260 - val_loss1: 1.6534 - val_loss2: 5.6725 - val_reconstruction_loss: -642.7820 - val_accuracy: 0.3461\n",
      "Epoch 62/100\n",
      "58/58 [==============================] - 40s 686ms/step - mse_loss: 414.3797 - total_loss: 7.1252 - loss1: 1.0205 - loss2: 6.1046 - reconstruction_loss: -715.5207 - accuracy: 0.3555 - val_mse_loss: 383.0091 - val_total_loss: 7.0394 - val_loss1: 1.0493 - val_loss2: 5.9901 - val_reconstruction_loss: -642.6824 - val_accuracy: 0.3409\n",
      "Epoch 63/100\n",
      "58/58 [==============================] - 39s 669ms/step - mse_loss: 381.1852 - total_loss: 7.0091 - loss1: 1.0134 - loss2: 5.9957 - reconstruction_loss: -698.3835 - accuracy: 0.3660 - val_mse_loss: 372.8657 - val_total_loss: 7.0969 - val_loss1: 1.2818 - val_loss2: 5.8152 - val_reconstruction_loss: -642.8513 - val_accuracy: 0.3639\n",
      "Epoch 64/100\n",
      "58/58 [==============================] - 41s 711ms/step - mse_loss: 367.8219 - total_loss: 6.9605 - loss1: 1.0088 - loss2: 5.9517 - reconstruction_loss: -705.8444 - accuracy: 0.3731 - val_mse_loss: 371.3873 - val_total_loss: 7.1344 - val_loss1: 1.4823 - val_loss2: 5.6521 - val_reconstruction_loss: -642.9010 - val_accuracy: 0.3723\n",
      "Epoch 65/100\n",
      "58/58 [==============================] - 36s 630ms/step - mse_loss: 368.7067 - total_loss: 6.9881 - loss1: 1.0162 - loss2: 5.9719 - reconstruction_loss: -724.8039 - accuracy: 0.3745 - val_mse_loss: 367.1483 - val_total_loss: 7.0255 - val_loss1: 1.2080 - val_loss2: 5.8175 - val_reconstruction_loss: -642.8549 - val_accuracy: 0.3573\n",
      "Epoch 66/100\n",
      "58/58 [==============================] - 37s 636ms/step - mse_loss: 357.9860 - total_loss: 6.9280 - loss1: 1.0071 - loss2: 5.9209 - reconstruction_loss: -705.7730 - accuracy: 0.3783 - val_mse_loss: 360.9299 - val_total_loss: 7.0373 - val_loss1: 0.9160 - val_loss2: 6.1214 - val_reconstruction_loss: -642.7983 - val_accuracy: 0.3711\n",
      "Epoch 67/100\n",
      "58/58 [==============================] - 38s 653ms/step - mse_loss: 352.5648 - total_loss: 6.9134 - loss1: 1.0100 - loss2: 5.9034 - reconstruction_loss: -702.6529 - accuracy: 0.3815 - val_mse_loss: 360.6638 - val_total_loss: 7.0046 - val_loss1: 1.1518 - val_loss2: 5.8528 - val_reconstruction_loss: -642.9835 - val_accuracy: 0.3736\n",
      "Epoch 68/100\n",
      "58/58 [==============================] - 36s 629ms/step - mse_loss: 371.8166 - total_loss: 6.9733 - loss1: 1.0172 - loss2: 5.9561 - reconstruction_loss: -717.6097 - accuracy: 0.3801 - val_mse_loss: 365.2296 - val_total_loss: 7.1038 - val_loss1: 0.7934 - val_loss2: 6.3104 - val_reconstruction_loss: -642.7819 - val_accuracy: 0.3687\n",
      "Epoch 69/100\n",
      "58/58 [==============================] - 36s 620ms/step - mse_loss: 373.6340 - total_loss: 7.0202 - loss1: 1.0243 - loss2: 5.9959 - reconstruction_loss: -709.4353 - accuracy: 0.3792 - val_mse_loss: 372.1189 - val_total_loss: 7.0685 - val_loss1: 0.8157 - val_loss2: 6.2528 - val_reconstruction_loss: -642.7969 - val_accuracy: 0.3589\n",
      "Epoch 70/100\n",
      "58/58 [==============================] - 36s 614ms/step - mse_loss: 363.3221 - total_loss: 6.9540 - loss1: 1.0083 - loss2: 5.9457 - reconstruction_loss: -721.5407 - accuracy: 0.3765 - val_mse_loss: 356.9117 - val_total_loss: 7.0150 - val_loss1: 1.1432 - val_loss2: 5.8718 - val_reconstruction_loss: -642.7610 - val_accuracy: 0.3781\n",
      "Epoch 71/100\n",
      "58/58 [==============================] - 36s 617ms/step - mse_loss: 353.2195 - total_loss: 6.9288 - loss1: 1.0083 - loss2: 5.9205 - reconstruction_loss: -721.8485 - accuracy: 0.3852 - val_mse_loss: 365.3583 - val_total_loss: 7.0228 - val_loss1: 0.9727 - val_loss2: 6.0501 - val_reconstruction_loss: -642.7880 - val_accuracy: 0.3762\n",
      "Epoch 72/100\n",
      "58/58 [==============================] - 38s 646ms/step - mse_loss: 373.7951 - total_loss: 7.0089 - loss1: 1.0254 - loss2: 5.9835 - reconstruction_loss: -718.0508 - accuracy: 0.3835 - val_mse_loss: 375.0312 - val_total_loss: 7.0857 - val_loss1: 1.0599 - val_loss2: 6.0258 - val_reconstruction_loss: -642.9209 - val_accuracy: 0.3524\n"
     ]
    }
   ],
   "source": [
    "if __name__ == \"__main__\":\n",
    "\n",
    "    if model_is_VAE:\n",
    "        model = VAE(False, input_shape, multiplier, latent_size)\n",
    "    else:\n",
    "        model = UPAE(True, input_shape, multiplier, latent_size)\n",
    "\n",
    "    optimizer = keras.optimizers.Adam(learning_rate=learning_rate)\n",
    "\n",
    "    model.build(input_shape=(None,) + tuple(input_shape))\n",
    "\n",
    "    model.compile(optimizer= optimizer, loss='mse'\n",
    "                  ,metrics=[tf.keras.metrics.Accuracy()])\n",
    "    \n",
    "    # model.summary()\n",
    "    \n",
    "    try:\n",
    "        model.load_weights(model_file_path + \"/model_weights\")\n",
    "    except:\n",
    "        np.random.shuffle(image_datasets['train'])\n",
    "\n",
    "        validation_split = 0.05\n",
    "\n",
    "        total_samples = len(image_datasets['train'])\n",
    "        validation_samples = int(validation_split * total_samples)\n",
    "\n",
    "        train_data = image_datasets['train'][:-validation_samples]\n",
    "        validation_data = image_datasets['train'][-validation_samples:]\n",
    "\n",
    "        # Where images of each epoch will be saved\n",
    "        save_directory = model_file_path + '/callback_images'\n",
    "        save_callback = SaveImageCallback(validation_data, save_directory=save_directory, vae=model_is_VAE)\n",
    "\n",
    "        EarlyStopping_callback = tf.keras.callbacks.EarlyStopping(monitor='mse_loss', patience=5,\n",
    "                                                                  restore_best_weights=True)\n",
    "\n",
    "        history_train = model.fit(train_data, \n",
    "                                epochs=epochs, \n",
    "                                batch_size=batch_size,\n",
    "                                validation_data=(validation_data, validation_data),\n",
    "                                callbacks=[save_callback, EarlyStopping_callback])\n",
    "        \n",
    "        # Saving the model's history\n",
    "        json.dump(history_train.history, open(model_file_path + '/history.json', 'w'))\n",
    "\n",
    "        #Save weights\n",
    "        model.save_weights(model_file_path + '/model_weights')\n",
    "   \n",
    "    "
   ]
  },
  {
   "attachments": {},
   "cell_type": "markdown",
   "id": "353efa2a",
   "metadata": {},
   "source": [
    "# Plots Creation"
   ]
  },
  {
   "cell_type": "code",
   "execution_count": 6,
   "id": "04a8ce17",
   "metadata": {},
   "outputs": [],
   "source": [
    "# Create directory for saving images\n",
    "save_directory = model_file_path + '/plots'\n",
    "if not os.path.exists(save_directory):\n",
    "    os.makedirs(save_directory)\n"
   ]
  },
  {
   "cell_type": "code",
   "execution_count": 7,
   "id": "80c7479f",
   "metadata": {},
   "outputs": [],
   "source": [
    "# Get history of data\n",
    "history = history_train.history\n",
    "\n",
    "def create_plot(history, metric, title, save_name):\n",
    "    plt.plot(history[metric], label=metric)\n",
    "    plt.plot(history[f'val_{metric}'], label=f'val_{metric}')\n",
    "    plt.xlabel('Epoch')\n",
    "    plt.ylabel(metric)\n",
    "    plt.title(title)\n",
    "    plt.legend()\n",
    "    plt.savefig(f'{save_directory}/{save_name}', dpi=300)\n",
    "    plt.close()\n",
    "\n",
    "# Check if UPAE or not\n",
    "if model_is_VAE:\n",
    "    # Create plot for mse_loss\n",
    "    create_plot(history, 'mse_loss', 'MSE Loss per Epoch', 'mse_loss.png')\n",
    "    # Create plot for reconstruction_loss\n",
    "    create_plot(history, 'reconstruction_loss', 'Reconstruction Loss per Epoch', 'reconstruction_loss.png')\n",
    "    # Create plot for kl_loss\n",
    "    create_plot(history, 'kl_loss', 'KL Loss per Epoch', 'kl_loss.png')\n",
    "else:\n",
    "    # Create plot for mse_loss\n",
    "    create_plot(history, 'mse_loss', 'MSE Loss per Epoch', 'mse_loss.png')\n",
    "    # Create plot for total loss\n",
    "    create_plot(history, 'total_loss', 'Total Loss per Epoch', 'total_loss.png')\n",
    "    # Create plot for loss1\n",
    "    create_plot(history, 'loss1', 'Loss 1 per Epoch', 'loss1.png')\n",
    "    # Create plot for loss2\n",
    "    create_plot(history, 'loss2', 'Loss 2 per Epoch', 'loss2.png')\n",
    "    # Create plot for binary_crossentropy\n",
    "#     create_plot(history, 'reconstruction_loss', 'Reconstruction Loss per Epoch', 'reconstruction_loss.png')\n",
    "#     # Create plot for accuracy\n",
    "#     create_plot(history, 'accuracy', 'Accuracy per Epoch', 'accuracy.png')\n",
    "    "
   ]
  },
  {
   "attachments": {},
   "cell_type": "markdown",
   "id": "b73f60ee",
   "metadata": {},
   "source": [
    "# Testing of the Model with the Test Set (CARA VERSION)\n",
    "This section tests the model with the current test set\n",
    "TODO: \n",
    "- Get the label of each image in the test set\n",
    "- Test the images\n",
    "- Create Linear Regression for the abnormality score to get the threshold for determining abnormal or normal images"
   ]
  },
  {
   "cell_type": "code",
   "execution_count": 13,
   "id": "d082aba9",
   "metadata": {},
   "outputs": [],
   "source": [
    "test_images = []\n",
    "labels = []\n",
    "for image_path in glob.glob(f'{dataset_file_path}/test/*.png'):\n",
    "    image = cv2.imread(image_path)\n",
    "    image = cv2.cvtColor(image, cv2.COLOR_BGR2GRAY)\n",
    "    # Get if it contains positive or negative\n",
    "    if 'positive' in image_path:\n",
    "        test_images.append(image)\n",
    "        labels.append(1)\n",
    "    else:\n",
    "        test_images.append(image)\n",
    "        labels.append(0)\n",
    "test_images = np.array(test_images)"
   ]
  },
  {
   "cell_type": "code",
   "execution_count": 14,
   "id": "7071dba6",
   "metadata": {},
   "outputs": [],
   "source": [
    "history_valid = model.predict(image_datasets['test'], batch_size=batch_size)"
   ]
  },
  {
   "cell_type": "code",
   "execution_count": 15,
   "id": "78a2533e",
   "metadata": {},
   "outputs": [],
   "source": [
    "abnor_scores = history_valid[1]\n",
    "#converting to an array of numbers instead of tensor\n",
    "abnor_scores = [item.numpy() for item in abnor_scores if isinstance(item, tf.Tensor)]\n",
    "abnor_scores = [float(item) for item in abnor_scores]"
   ]
  },
  {
   "cell_type": "code",
   "execution_count": 16,
   "id": "be731387",
   "metadata": {},
   "outputs": [
    {
     "ename": "AssertionError",
     "evalue": "",
     "output_type": "error",
     "traceback": [
      "\u001b[0;31m---------------------------------------------------------------------------\u001b[0m",
      "\u001b[0;31mAssertionError\u001b[0m                            Traceback (most recent call last)",
      "Cell \u001b[0;32mIn[16], line 8\u001b[0m\n\u001b[1;32m      6\u001b[0m         idx \u001b[39m=\u001b[39m i\n\u001b[1;32m      7\u001b[0m         \u001b[39mbreak\u001b[39;00m\n\u001b[0;32m----> 8\u001b[0m \u001b[39massert\u001b[39;00m idx \u001b[39mis\u001b[39;00m \u001b[39mnot\u001b[39;00m \u001b[39mNone\u001b[39;00m\n\u001b[1;32m     10\u001b[0m t \u001b[39m=\u001b[39m thresholds[idx]\n\u001b[1;32m     11\u001b[0m y_pred \u001b[39m=\u001b[39m np\u001b[39m.\u001b[39mzeros_like(labels)\n",
      "\u001b[0;31mAssertionError\u001b[0m: "
     ]
    }
   ],
   "source": [
    "fpr, tpr, thresholds = metrics.roc_curve(labels, abnor_scores)\n",
    "idx = None\n",
    "for i in range(len(fpr)):\n",
    "    fnr = 1 - tpr[i]\n",
    "    if abs(fpr[i] - fnr) <= 5e-3:\n",
    "        idx = i\n",
    "        break\n",
    "assert idx is not None\n",
    "\n",
    "t = thresholds[idx]\n",
    "y_pred = np.zeros_like(labels)\n",
    "y_pred[abnor_scores < t] = 0\n",
    "y_pred[abnor_scores >= t] = 1\n",
    "pres = metrics.precision_score(labels, y_pred)\n",
    "sens = metrics.recall_score(labels, y_pred, pos_label=1)\n",
    "spec = metrics.recall_score(labels, y_pred, pos_label=0)\n",
    "f1 = metrics.f1_score(labels, y_pred)\n",
    "print('Error rate:{}'.format(fpr[idx]))\n",
    "print('Precision:{} Sensitivity:{} Specificity:{} f1:{}\\n'.format(\n",
    "    pres, sens, spec, f1))"
   ]
  },
  {
   "cell_type": "code",
   "execution_count": 17,
   "id": "3f4ea01e",
   "metadata": {},
   "outputs": [
    {
     "ename": "NameError",
     "evalue": "name 'y_pred' is not defined",
     "output_type": "error",
     "traceback": [
      "\u001b[0;31m---------------------------------------------------------------------------\u001b[0m",
      "\u001b[0;31mNameError\u001b[0m                                 Traceback (most recent call last)",
      "Cell \u001b[0;32mIn[17], line 1\u001b[0m\n\u001b[0;32m----> 1\u001b[0m auc \u001b[39m=\u001b[39m metrics\u001b[39m.\u001b[39mroc_auc_score(labels, y_pred)\n\u001b[1;32m      3\u001b[0m \u001b[39m# Plot the ROC curve\u001b[39;00m\n\u001b[1;32m      4\u001b[0m plt\u001b[39m.\u001b[39mplot(fpr, tpr, label\u001b[39m=\u001b[39m\u001b[39mf\u001b[39m\u001b[39m'\u001b[39m\u001b[39mAUC = \u001b[39m\u001b[39m{\u001b[39;00mauc\u001b[39m:\u001b[39;00m\u001b[39m.2f\u001b[39m\u001b[39m}\u001b[39;00m\u001b[39m'\u001b[39m)\n",
      "\u001b[0;31mNameError\u001b[0m: name 'y_pred' is not defined"
     ]
    }
   ],
   "source": [
    "auc = metrics.roc_auc_score(labels, y_pred)\n",
    "\n",
    "# Plot the ROC curve\n",
    "plt.plot(fpr, tpr, label=f'AUC = {auc:.2f}')\n",
    "plt.plot([0, 1], [0, 1], 'k--')  # Diagonal line\n",
    "plt.xlabel('False Positive Rate')\n",
    "plt.ylabel('True Positive Rate')\n",
    "plt.title('Receiver Operating Characteristic (ROC) Curve')\n",
    "plt.legend(loc='lower right')\n",
    "plt.savefig(model_file_path+'/plots/roc_curve.png')\n",
    "\n",
    "\n",
    "\n",
    "#ROC AUC Curve interpretation\n",
    "# https://www.analyticsvidhya.com/blog/2020/06/auc-roc-curve-machine-learning/\n"
   ]
  },
  {
   "attachments": {},
   "cell_type": "markdown",
   "id": "cfb7424f",
   "metadata": {},
   "source": [
    "## Getting variance image output from testing"
   ]
  },
  {
   "cell_type": "code",
   "execution_count": null,
   "id": "ea7f246e",
   "metadata": {},
   "outputs": [],
   "source": [
    "history_valid[3]"
   ]
  },
  {
   "cell_type": "code",
   "execution_count": 25,
   "id": "b029b930",
   "metadata": {},
   "outputs": [
    {
     "data": {
      "image/png": "[encoded data removed]",
      "text/plain": [
       "<Figure size 640x480 with 1 Axes>"
      ]
     },
     "metadata": {},
     "output_type": "display_data"
    }
   ],
   "source": [
    "#variance from testing set\n",
    "variance_tensor = history_valid[2][8]\n",
    "variance_array = variance_tensor.numpy()\n",
    "# Normalize the values between 0 and 1\n",
    "normalized_array = (variance_array - np.min(variance_array)) / (np.max(variance_array) - np.min(variance_array))\n",
    "# Scale the values to the range of pixel values (0-255)\n",
    "scaled_array = (normalized_array * 255).astype(np.uint8)\n",
    "\n",
    "plt.imshow(scaled_array, cmap='gray')\n",
    "plt.axis('off')\n",
    "plt.show()"
   ]
  },
  {
   "cell_type": "code",
   "execution_count": 19,
   "id": "467b53e1",
   "metadata": {},
   "outputs": [],
   "source": [
    "#history_valid[2] is the variance from the test set\n",
    "image = history_valid[2][8]\n",
    "image = image.numpy().astype(np.uint8)"
   ]
  },
  {
   "cell_type": "code",
   "execution_count": 28,
   "id": "0b4c1b27",
   "metadata": {},
   "outputs": [
    {
     "data": {
      "image/png": "[encoded data removed]",
      "text/plain": [
       "<PIL.Image.Image image mode=L size=64x64>"
      ]
     },
     "execution_count": 28,
     "metadata": {},
     "output_type": "execute_result"
    }
   ],
   "source": [
    "image = history_valid[3][8]\n",
    "\n",
    "from PIL import Image\n",
    "image = Image.fromarray(image)\n",
    "image\n"
   ]
  },
  {
   "attachments": {},
   "cell_type": "markdown",
   "id": "3f5369b0",
   "metadata": {},
   "source": [
    "# Saving of final reconstructed images "
   ]
  },
  {
   "cell_type": "code",
   "execution_count": 29,
   "id": "154822a8",
   "metadata": {},
   "outputs": [],
   "source": [
    "# Create directory in models folder for reconstructed images\n",
    "dataset_name = dataset_file_path.split('/')[-1]\n",
    "reconstructed_images_path = model_file_path + \"/\" + dataset_name\n",
    "if not path.exists(reconstructed_images_path):\n",
    "    mkdir(reconstructed_images_path)"
   ]
  },
  {
   "cell_type": "code",
   "execution_count": 30,
   "id": "8e7d13db",
   "metadata": {},
   "outputs": [],
   "source": [
    "for x in range(len(history_valid)):\n",
    "    fig, axs = plt.subplots(1,2, figsize=(8,4))\n",
    "    axs[0].imshow(image_datasets['test'][x])\n",
    "    axs[0].set_title('Original Image')\n",
    "    new_image = np.floor(history_valid[0][x]).astype(np.uint8)\n",
    "    axs[1].imshow(new_image)\n",
    "    axs[1].set_title('Reconstructed Image')\n",
    "    plt.savefig(f'{reconstructed_images_path}/Valid_Image_{x}.png')\n",
    "    plt.close()\n",
    "    break"
   ]
  },
  {
   "attachments": {},
   "cell_type": "markdown",
   "id": "72b430df",
   "metadata": {},
   "source": [
    "# Saving of Model Weights"
   ]
  },
  {
   "cell_type": "code",
   "execution_count": 31,
   "id": "324861d8",
   "metadata": {},
   "outputs": [],
   "source": [
    "model.save_weights(model_file_path + '/model_weights.h5')"
   ]
  },
  {
   "cell_type": "code",
   "execution_count": 33,
   "id": "46067ae4",
   "metadata": {},
   "outputs": [
    {
     "data": {
      "text/plain": [
       "<matplotlib.image.AxesImage at 0x7f23e2c4bb90>"
      ]
     },
     "execution_count": 33,
     "metadata": {},
     "output_type": "execute_result"
    },
    {
     "data": {
      "image/png": "[encoded data removed]",
      "text/plain": [
       "<Figure size 640x480 with 1 Axes>"
      ]
     },
     "metadata": {},
     "output_type": "display_data"
    }
   ],
   "source": [
    "new_image = np.concatenate(history_valid[0], axis=1)\n",
    "plt.imshow(new_image)"
   ]
  },
  {
   "attachments": {},
   "cell_type": "markdown",
   "id": "f90fc7ab",
   "metadata": {},
   "source": []
  }
 ],
 "metadata": {
  "kernelspec": {
   "display_name": "Python 3 (ipykernel)",
   "language": "python",
   "name": "python3"
  },
  "language_info": {
   "codemirror_mode": {
    "name": "ipython",
    "version": 3
   },
   "file_extension": ".py",
   "mimetype": "text/x-python",
   "name": "python",
   "nbconvert_exporter": "python",
   "pygments_lexer": "ipython3",
   "version": "3.11.2"
  }
 },
 "nbformat": 4,
 "nbformat_minor": 5
}
