{
 "cells": [
  {
   "attachments": {},
   "cell_type": "markdown",
   "id": "2bc86acd",
   "metadata": {},
   "source": [
    "# Dependencies"
   ]
  },
  {
   "cell_type": "code",
   "execution_count": 1,
   "id": "78b7f7e8",
   "metadata": {},
   "outputs": [
    {
     "name": "stderr",
     "output_type": "stream",
     "text": [
      "c:\\Users\\SKill\\anaconda3\\envs\\tf-gpu\\lib\\site-packages\\tqdm\\auto.py:21: TqdmWarning: IProgress not found. Please update jupyter and ipywidgets. See https://ipywidgets.readthedocs.io/en/stable/user_install.html\n",
      "  from .autonotebook import tqdm as notebook_tqdm\n"
     ]
    }
   ],
   "source": [
    "import MURA\n",
    "import cv2\n",
    "import image_manipulation\n",
    "from multiprocessing import Pool\n",
    "from models import *\n",
    "import numpy as np\n",
    "import glob\n",
    "import matplotlib.pyplot as plt\n",
    "import preprocessing\n",
    "import json\n",
    "from os import path, mkdir\n",
    "\n",
    "import keras\n",
    "from argparse import ArgumentParser\n",
    "import tensorflow as tf"
   ]
  },
  {
   "attachments": {},
   "cell_type": "markdown",
   "id": "22e578b7",
   "metadata": {},
   "source": [
    "# Model to Run\n",
    "This section lets the user edit on what model parameters to run, the model directory and parameters should exist prior to changing the file path"
   ]
  },
  {
   "cell_type": "code",
   "execution_count": 2,
   "id": "afd350f9",
   "metadata": {},
   "outputs": [],
   "source": [
    "# All editable variables\n",
    "model_file_path = \"models/model_2\"\n",
    "# If preprocessing needs to run\n",
    "run_preprocessing = False"
   ]
  },
  {
   "cell_type": "code",
   "execution_count": 3,
   "id": "f5b73251",
   "metadata": {},
   "outputs": [],
   "source": [
    "# Get model parameters\n",
    "try:\n",
    "    params = json.load(open(model_file_path + '/parameters.json'))\n",
    "\n",
    "    # Model to use\n",
    "    model_is_VAE = params['is_VAE']\n",
    "    # Model parameters\n",
    "    multiplier = params['multiplier']\n",
    "    latent_size = params['latent_size']\n",
    "    input_shape = params['input_shape']\n",
    "\n",
    "    # Training parameters\n",
    "    epochs = params['num_epochs']\n",
    "    batch_size = params['batch_size']\n",
    "    learning_rate = params['learning_rate']\n",
    "\n",
    "    # Dataset Path\n",
    "    image_paths = MURA.MURA_DATASET()\n",
    "    dataset_file_path = params['dataset_path']\n",
    "    all_image_paths = image_paths.get_combined_image_paths()\n",
    "    all_image_paths = all_image_paths.to_numpy()[:,0]\n",
    "except:\n",
    "    raise Exception(\"No parameters.json file found in the model's directory.\")"
   ]
  },
  {
   "cell_type": "code",
   "execution_count": 4,
   "id": "8dd25378",
   "metadata": {},
   "outputs": [],
   "source": [
    "# Do preprocessing\n",
    "if run_preprocessing:\n",
    "    preprocess = preprocessing.preprocessing(input_path = all_image_paths, output_path = dataset_file_path)\n",
    "    if __name__ == '__main__':\n",
    "        preprocess.start()"
   ]
  },
  {
   "cell_type": "code",
   "execution_count": 5,
   "id": "ae204155",
   "metadata": {},
   "outputs": [],
   "source": [
    "# each array contains the training, validation, and testing in order\n",
    "image_datasets = {'train': [],\n",
    "                'valid': [],\n",
    "                'test': []}\n",
    "for dataset_name in image_datasets.keys():\n",
    "    for image_path in glob.glob(f'{dataset_file_path}/{dataset_name}/*.png'):\n",
    "        image_datasets[dataset_name].append(cv2.imread(image_path))\n",
    "    image_datasets[dataset_name] = np.array(image_datasets[dataset_name])"
   ]
  },
  {
   "attachments": {},
   "cell_type": "markdown",
   "id": "f69e69d0",
   "metadata": {},
   "source": [
    "# Model Training\n",
    "This section creates and trains the model"
   ]
  },
  {
   "cell_type": "code",
   "execution_count": 6,
   "id": "f906dcd1",
   "metadata": {},
   "outputs": [
    {
     "name": "stdout",
     "output_type": "stream",
     "text": [
      "Model: \"encoder_decoder\"\n",
      "_________________________________________________________________\n",
      " Layer (type)                Output Shape              Param #   \n",
      "=================================================================\n",
      " conv2d (Conv2D)             (None, 32, 32, 64)        3136      \n",
      "                                                                 \n",
      " batch_normalization (BatchN  (None, 32, 32, 64)       256       \n",
      " ormalization)                                                   \n",
      "                                                                 \n",
      " activation (Activation)     (None, 32, 32, 64)        0         \n",
      "                                                                 \n",
      " conv2d_1 (Conv2D)           (None, 16, 16, 128)       131200    \n",
      "                                                                 \n",
      " batch_normalization_1 (Batc  (None, 16, 16, 128)      512       \n",
      " hNormalization)                                                 \n",
      "                                                                 \n",
      " activation_1 (Activation)   (None, 16, 16, 128)       0         \n",
      "                                                                 \n",
      " conv2d_2 (Conv2D)           (None, 8, 8, 256)         524544    \n",
      "                                                                 \n",
      " batch_normalization_2 (Batc  (None, 8, 8, 256)        1024      \n",
      " hNormalization)                                                 \n",
      "                                                                 \n",
      " activation_2 (Activation)   (None, 8, 8, 256)         0         \n",
      "                                                                 \n",
      " conv2d_3 (Conv2D)           (None, 4, 4, 256)         1048832   \n",
      "                                                                 \n",
      " activation_3 (Activation)   (None, 4, 4, 256)         0         \n",
      "                                                                 \n",
      " batch_normalization_3 (Batc  (None, 4, 4, 256)        1024      \n",
      " hNormalization)                                                 \n",
      "                                                                 \n",
      " conv2d_transpose (Conv2DTra  (None, 32, 32, 256)      1048832   \n",
      " nspose)                                                         \n",
      "                                                                 \n",
      " batch_normalization_5 (Batc  (None, 32, 32, 256)      1024      \n",
      " hNormalization)                                                 \n",
      "                                                                 \n",
      " activation_4 (Activation)   (None, 32, 32, 256)       0         \n",
      "                                                                 \n",
      " conv2d_transpose_1 (Conv2DT  (None, 32, 32, 128)      524416    \n",
      " ranspose)                                                       \n",
      "                                                                 \n",
      " batch_normalization_6 (Batc  (None, 32, 32, 128)      512       \n",
      " hNormalization)                                                 \n",
      "                                                                 \n",
      " activation_5 (Activation)   (None, 32, 32, 128)       0         \n",
      "                                                                 \n",
      " conv2d_transpose_2 (Conv2DT  (None, 32, 32, 64)       131136    \n",
      " ranspose)                                                       \n",
      "                                                                 \n",
      " batch_normalization_7 (Batc  (None, 32, 32, 64)       256       \n",
      " hNormalization)                                                 \n",
      "                                                                 \n",
      " activation_6 (Activation)   (None, 32, 32, 64)        0         \n",
      "                                                                 \n",
      " conv2d_transpose_3 (Conv2DT  (None, 64, 64, 3)        3075      \n",
      " ranspose)                                                       \n",
      "                                                                 \n",
      " activation_7 (Activation)   (None, 64, 64, 3)         0         \n",
      "                                                                 \n",
      " encoder (Sequential)        (None, 4, 4, 256)         1710528   \n",
      "                                                                 \n",
      " latent_space_representation  (None, 16, 16, 256)      142939200 \n",
      "  (Sequential)                                                   \n",
      "                                                                 \n",
      " decoder (Sequential)        (None, 64, 64, 3)         1709251   \n",
      "                                                                 \n",
      " z_mean (Dense)              multiple                  12        \n",
      "                                                                 \n",
      " z_log_var (Dense)           multiple                  12        \n",
      "                                                                 \n",
      "=================================================================\n",
      "Total params: 146,359,003\n",
      "Trainable params: 146,356,187\n",
      "Non-trainable params: 2,816\n",
      "_________________________________________________________________\n",
      "Epoch 1/5\n",
      "UPAE Training\n",
      "UPAE Training\n",
      "  6/164 [>.............................] - ETA: 10s - mse_loss: : 7739.7935 - total_loss: : 7755.5920 - loss1: : 7755.5931 - loss2: : -0.0010 - binary_crossentropy: : 3284464.5833 - accuracy: : 0.0391WARNING:tensorflow:Callback method `on_train_batch_end` is slow compared to the batch time (batch time: 0.0200s vs `on_train_batch_end` time: 0.0388s). Check your callbacks.\n",
      "164/164 [==============================] - ETA: 0s - mse_loss: : 6962.1391 - total_loss: : 6829.7329 - loss1: : 6829.7134 - loss2: : 0.0195 - binary_crossentropy: : 3806317.7332 - accuracy: : 0.0514UPAE Validation\n",
      "UPAE Loss\n",
      "6171\n",
      "164/164 [==============================] - 19s 89ms/step - mse_loss: : 6962.5378 - total_loss: : 6829.2760 - loss1: : 6829.2564 - loss2: : 0.0197 - binary_crossentropy: : 3806849.1485 - accuracy: : 0.0514 - val_total_loss: : 5709.5728 - val_loss1: : 5709.4917 - val_loss2: : 0.0801 - val_binary_crossentropy: : 3617076.2500 - val_accuracy: : 0.0522\n",
      "Epoch 2/5\n",
      "164/164 [==============================] - ETA: 0s - mse_loss: : 6969.3561 - total_loss: : 6309.8657 - loss1: : 6309.7663 - loss2: : 0.0995 - binary_crossentropy: : 3883881.6707 - accuracy: : 0.05416171\n",
      "164/164 [==============================] - 13s 78ms/step - mse_loss: : 6969.6518 - total_loss: : 6309.4070 - loss1: : 6309.3075 - loss2: : 0.0996 - binary_crossentropy: : 3884033.5076 - accuracy: : 0.0541 - val_total_loss: : 5279.3643 - val_loss1: : 5279.2070 - val_loss2: : 0.1570 - val_binary_crossentropy: : 3617076.2500 - val_accuracy: : 0.0522\n",
      "Epoch 3/5\n",
      "164/164 [==============================] - ETA: 0s - mse_loss: : 6977.2413 - total_loss: : 5855.2773 - loss1: : 5855.1023 - loss2: : 0.1755 - binary_crossentropy: : 3902721.4345 - accuracy: : 0.05306171\n",
      "164/164 [==============================] - 13s 79ms/step - mse_loss: : 6977.4323 - total_loss: : 5854.7900 - loss1: : 5854.6148 - loss2: : 0.1756 - binary_crossentropy: : 3902761.1864 - accuracy: : 0.0530 - val_total_loss: : 4896.7427 - val_loss1: : 4896.5117 - val_loss2: : 0.2309 - val_binary_crossentropy: : 3617076.2500 - val_accuracy: : 0.0522\n",
      "Epoch 4/5\n",
      "164/164 [==============================] - ETA: 0s - mse_loss: : 6863.8188 - total_loss: : 5350.8516 - loss1: : 5350.6018 - loss2: : 0.2488 - binary_crossentropy: : 3865936.9954 - accuracy: : 0.05476171\n",
      "164/164 [==============================] - 14s 83ms/step - mse_loss: : 6864.6423 - total_loss: : 5350.9165 - loss1: : 5350.6666 - loss2: : 0.2489 - binary_crossentropy: : 3866198.2045 - accuracy: : 0.0546 - val_total_loss: : 4551.1826 - val_loss1: : 4550.8799 - val_loss2: : 0.3027 - val_binary_crossentropy: : 3617076.2500 - val_accuracy: : 0.0522\n",
      "Epoch 5/5\n",
      "164/164 [==============================] - ETA: 0s - mse_loss: : 7095.8219 - total_loss: : 5151.6909 - loss1: : 5151.3700 - loss2: : 0.3205 - binary_crossentropy: : 3946262.1311 - accuracy: : 0.05286171\n",
      "164/164 [==============================] - 15s 90ms/step - mse_loss: : 7095.1862 - total_loss: : 5150.7117 - loss1: : 5150.3906 - loss2: : 0.3206 - binary_crossentropy: : 3946036.4000 - accuracy: : 0.0528 - val_total_loss: : 4240.1167 - val_loss1: : 4239.7441 - val_loss2: : 0.3723 - val_binary_crossentropy: : 3617076.2500 - val_accuracy: : 0.0522\n"
     ]
    }
   ],
   "source": [
    "if __name__ == \"__main__\":\n",
    "\n",
    "    if model_is_VAE:\n",
    "        model = VAE(False, input_shape, multiplier, latent_size)\n",
    "    else:\n",
    "        model = UPAE(True, input_shape, multiplier, latent_size)\n",
    "\n",
    "    optimizer = keras.optimizers.Adam(learning_rate=learning_rate)\n",
    "\n",
    "    model.build(input_shape=(None, 64, 64, 3))\n",
    "\n",
    "    model.compile(optimizer= optimizer\n",
    "                  ,metrics=[tf.keras.metrics.Accuracy()])\n",
    "    \n",
    "    # Where images of each epoch will be saved\n",
    "    save_directory = 'Images/images_epochs'\n",
    "    save_callback = SaveImageCallback(image_datasets['train'], save_directory)\n",
    "\n",
    "    # plot_model(model, 'autoencoder_compress.png', show_shapes=True)\n",
    "    #training on training set.\n",
    "    history_train = model.fit(image_datasets['train'], \n",
    "                epochs=epochs, \n",
    "                batch_size=batch_size,\n",
    "                validation_split=0.15,\n",
    "                callbacks=[save_callback])\n",
    "    "
   ]
  },
  {
   "attachments": {},
   "cell_type": "markdown",
   "id": "a96a1d3c",
   "metadata": {},
   "source": [
    "# Model Prediction"
   ]
  },
  {
   "cell_type": "code",
   "execution_count": 7,
   "id": "7071dba6",
   "metadata": {},
   "outputs": [],
   "source": [
    "history_valid = model.predict(image_datasets['valid'], batch_size=batch_size)"
   ]
  },
  {
   "cell_type": "code",
   "execution_count": 11,
   "id": "78a2533e",
   "metadata": {},
   "outputs": [
    {
     "data": {
      "text/plain": [
       "<tf.Tensor: shape=(64, 64, 3), dtype=float32, numpy=\n",
       "array([[[0.00000000e+00, 0.00000000e+00, 1.81942768e+01],\n",
       "        [0.00000000e+00, 0.00000000e+00, 2.48510246e+01],\n",
       "        [0.00000000e+00, 0.00000000e+00, 2.96470337e+01],\n",
       "        ...,\n",
       "        [0.00000000e+00, 0.00000000e+00, 9.54594727e+01],\n",
       "        [0.00000000e+00, 0.00000000e+00, 9.52634735e+01],\n",
       "        [0.00000000e+00, 0.00000000e+00, 5.97324219e+01]],\n",
       "\n",
       "       [[0.00000000e+00, 0.00000000e+00, 2.51535339e+01],\n",
       "        [1.77127242e-01, 0.00000000e+00, 2.86279335e+01],\n",
       "        [0.00000000e+00, 2.68575788e-01, 2.53165588e+01],\n",
       "        ...,\n",
       "        [1.35485995e+00, 0.00000000e+00, 1.05796829e+02],\n",
       "        [0.00000000e+00, 0.00000000e+00, 9.98215637e+01],\n",
       "        [0.00000000e+00, 0.00000000e+00, 9.49383392e+01]],\n",
       "\n",
       "       [[0.00000000e+00, 0.00000000e+00, 2.66872368e+01],\n",
       "        [0.00000000e+00, 0.00000000e+00, 2.50604095e+01],\n",
       "        [0.00000000e+00, 0.00000000e+00, 2.83864632e+01],\n",
       "        ...,\n",
       "        [0.00000000e+00, 0.00000000e+00, 1.08532104e+02],\n",
       "        [0.00000000e+00, 0.00000000e+00, 1.00091812e+02],\n",
       "        [0.00000000e+00, 0.00000000e+00, 9.48779755e+01]],\n",
       "\n",
       "       ...,\n",
       "\n",
       "       [[0.00000000e+00, 0.00000000e+00, 8.97077789e+01],\n",
       "        [0.00000000e+00, 0.00000000e+00, 8.66113129e+01],\n",
       "        [0.00000000e+00, 0.00000000e+00, 1.17109283e+02],\n",
       "        ...,\n",
       "        [3.48187178e-01, 0.00000000e+00, 2.78703346e+01],\n",
       "        [0.00000000e+00, 0.00000000e+00, 2.47983513e+01],\n",
       "        [0.00000000e+00, 0.00000000e+00, 2.71766949e+01]],\n",
       "\n",
       "       [[0.00000000e+00, 0.00000000e+00, 7.93536453e+01],\n",
       "        [0.00000000e+00, 0.00000000e+00, 9.42806473e+01],\n",
       "        [0.00000000e+00, 0.00000000e+00, 1.01826027e+02],\n",
       "        ...,\n",
       "        [0.00000000e+00, 0.00000000e+00, 2.84502449e+01],\n",
       "        [0.00000000e+00, 0.00000000e+00, 2.58175488e+01],\n",
       "        [0.00000000e+00, 0.00000000e+00, 2.32498550e+01]],\n",
       "\n",
       "       [[0.00000000e+00, 0.00000000e+00, 5.84963951e+01],\n",
       "        [0.00000000e+00, 0.00000000e+00, 7.85682220e+01],\n",
       "        [0.00000000e+00, 0.00000000e+00, 9.80121460e+01],\n",
       "        ...,\n",
       "        [1.07230365e-01, 0.00000000e+00, 2.53231258e+01],\n",
       "        [0.00000000e+00, 0.00000000e+00, 2.36959839e+01],\n",
       "        [0.00000000e+00, 0.00000000e+00, 1.73847141e+01]]], dtype=float32)>"
      ]
     },
     "execution_count": 11,
     "metadata": {},
     "output_type": "execute_result"
    }
   ],
   "source": [
    "history_valid[0][0]"
   ]
  },
  {
   "attachments": {},
   "cell_type": "markdown",
   "id": "353efa2a",
   "metadata": {},
   "source": [
    "# Plots Creation"
   ]
  },
  {
   "cell_type": "code",
   "execution_count": null,
   "id": "b363b159",
   "metadata": {},
   "outputs": [],
   "source": [
    "# train_loss = history_train.history['binary_crossentropy: ']\n",
    "# # valid_loss = history_valid.history['binary_crossentropy: ']\n",
    "\n",
    "# plt.plot(train_loss , label='train')\n",
    "# # plt.plot(valid_loss , label='test')\n",
    "# plt.title('Train vs Validation Loss')\n",
    "# plt.ylabel('Reconstruction Loss')\n",
    "# plt.xlabel('Epochs')\n",
    "# plt.legend()\n",
    "# plt.show()"
   ]
  },
  {
   "attachments": {},
   "cell_type": "markdown",
   "id": "b73f60ee",
   "metadata": {},
   "source": [
    "# Testing of the Model with the Test Set\n",
    "This section tests the model with the current test set\n",
    "TODO: \n",
    "- Get the label of each image in the test set\n",
    "- Test the images\n",
    "- Create Linear Regression for the abnormality score to get the threshold for determining abnormal or normal images"
   ]
  },
  {
   "attachments": {},
   "cell_type": "markdown",
   "id": "3f5369b0",
   "metadata": {},
   "source": [
    "# Saving of final reconstructed images "
   ]
  },
  {
   "cell_type": "code",
   "execution_count": 12,
   "id": "154822a8",
   "metadata": {},
   "outputs": [],
   "source": [
    "# Create directory in models folder for reconstructed images\n",
    "dataset_name = dataset_file_path.split('/')[-1]\n",
    "reconstructed_images_path = model_file_path + \"/\" + dataset_name\n",
    "if not path.exists(reconstructed_images_path):\n",
    "    mkdir(reconstructed_images_path)"
   ]
  },
  {
   "cell_type": "code",
   "execution_count": 14,
   "id": "8e7d13db",
   "metadata": {},
   "outputs": [],
   "source": [
    "for x in range(len(history_valid)):\n",
    "    fig, axs = plt.subplots(1,2, figsize=(8,4))\n",
    "    axs[0].imshow(image_datasets['valid'][x])\n",
    "    axs[0].set_title('Original Image')\n",
    "    new_image = np.floor(history_valid[0][x]).astype(np.uint8)\n",
    "    axs[1].imshow(new_image)\n",
    "    axs[1].set_title('Reconstructed Image')\n",
    "    plt.savefig(f'{reconstructed_images_path}/Valid_Image_{x}.png')\n",
    "    plt.close()\n",
    "    break"
   ]
  },
  {
   "attachments": {},
   "cell_type": "markdown",
   "id": "72b430df",
   "metadata": {},
   "source": [
    "# Saving of Model Weights"
   ]
  },
  {
   "cell_type": "code",
   "execution_count": null,
   "id": "324861d8",
   "metadata": {},
   "outputs": [],
   "source": [
    "model.save_weights(model_file_path + '/model_weights.h5')"
   ]
  },
  {
   "cell_type": "code",
   "execution_count": null,
   "id": "3519a986",
   "metadata": {},
   "outputs": [],
   "source": [
    "history_valid[0].shape"
   ]
  },
  {
   "cell_type": "code",
   "execution_count": null,
   "id": "46067ae4",
   "metadata": {},
   "outputs": [],
   "source": [
    "new_image = np.concatenate(history_valid[0], axis=1)\n",
    "plt.imshow(new_image)"
   ]
  },
  {
   "cell_type": "code",
   "execution_count": null,
   "id": "2460cbb0",
   "metadata": {},
   "outputs": [],
   "source": [
    "history_valid[0]"
   ]
  },
  {
   "attachments": {},
   "cell_type": "markdown",
   "id": "f90fc7ab",
   "metadata": {},
   "source": []
  }
 ],
 "metadata": {
  "kernelspec": {
   "display_name": "Python 3 (ipykernel)",
   "language": "python",
   "name": "python3"
  },
  "language_info": {
   "codemirror_mode": {
    "name": "ipython",
    "version": 3
   },
   "file_extension": ".py",
   "mimetype": "text/x-python",
   "name": "python",
   "nbconvert_exporter": "python",
   "pygments_lexer": "ipython3",
   "version": "3.10.10"
  }
 },
 "nbformat": 4,
 "nbformat_minor": 5
}
