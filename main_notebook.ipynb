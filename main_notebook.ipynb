{
 "cells": [
  {
   "attachments": {},
   "cell_type": "markdown",
   "id": "22e578b7",
   "metadata": {},
   "source": [
    "# Model to Run\n",
    "This section lets the user edit on what model parameters to run, the model directory and parameters should exist prior to changing the file path"
   ]
  },
  {
   "cell_type": "code",
   "execution_count": 1,
   "id": "afd350f9",
   "metadata": {},
   "outputs": [],
   "source": [
    "# All editable variables\n",
    "model_file_path = \"models/model_3\"\n",
    "# If preprocessing needs to run\n",
    "load_model = False"
   ]
  },
  {
   "attachments": {},
   "cell_type": "markdown",
   "id": "2bc86acd",
   "metadata": {},
   "source": [
    "# Dependencies"
   ]
  },
  {
   "cell_type": "code",
   "execution_count": 2,
   "id": "78b7f7e8",
   "metadata": {},
   "outputs": [
    {
     "name": "stderr",
     "output_type": "stream",
     "text": [
      "c:\\Users\\SKill\\anaconda3\\envs\\tf-gpu\\lib\\site-packages\\tqdm\\auto.py:21: TqdmWarning: IProgress not found. Please update jupyter and ipywidgets. See https://ipywidgets.readthedocs.io/en/stable/user_install.html\n",
      "  from .autonotebook import tqdm as notebook_tqdm\n"
     ]
    }
   ],
   "source": [
    "import MURA\n",
    "import cv2\n",
    "import image_manipulation\n",
    "from multiprocessing import Pool\n",
    "from models import *\n",
    "import numpy as np\n",
    "import glob\n",
    "import matplotlib.pyplot as plt\n",
    "import preprocessing\n",
    "import json\n",
    "from os import path, mkdir\n",
    "from PIL import Image\n",
    "import re\n",
    "\n",
    "import keras\n",
    "from argparse import ArgumentParser\n",
    "import tensorflow as tf"
   ]
  },
  {
   "cell_type": "code",
   "execution_count": 3,
   "id": "f5b73251",
   "metadata": {},
   "outputs": [],
   "source": [
    "# Get model parameters\n",
    "try:\n",
    "    params = json.load(open(model_file_path + '/parameters.json'))\n",
    "\n",
    "    # Model to use\n",
    "    model_is_VAE = params['is_VAE']\n",
    "    # Model parameters\n",
    "    multiplier = params['multiplier']\n",
    "    latent_size = params['latent_size']\n",
    "    input_shape = params['input_shape']\n",
    "\n",
    "    # Training parameters\n",
    "    epochs = params['num_epochs']\n",
    "    batch_size = params['batch_size']\n",
    "    learning_rate = params['learning_rate']\n",
    "\n",
    "    # Dataset Path\n",
    "    dataset_file_path = params['dataset_path']\n",
    "\n",
    "except:\n",
    "    raise Exception(\"No parameters.json file found in the model's directory.\")"
   ]
  },
  {
   "cell_type": "code",
   "execution_count": 4,
   "id": "ae204155",
   "metadata": {},
   "outputs": [],
   "source": [
    "# each array contains the training, validation, and testing in order\n",
    "image_datasets = {'train': []}\n",
    "for dataset_name in image_datasets.keys():\n",
    "    for image_path in glob.glob(f'{dataset_file_path}/{dataset_name}/*.png'):\n",
    "        image = cv2.imread(image_path)\n",
    "        image = cv2.cvtColor(image, cv2.COLOR_BGR2GRAY)\n",
    "        image_datasets[dataset_name].append(image)\n",
    "    image_datasets[dataset_name] = np.array(image_datasets[dataset_name])"
   ]
  },
  {
   "attachments": {},
   "cell_type": "markdown",
   "id": "f69e69d0",
   "metadata": {},
   "source": [
    "# Model Training\n",
    "This section creates and trains the model"
   ]
  },
  {
   "cell_type": "code",
   "execution_count": 5,
   "id": "f906dcd1",
   "metadata": {},
   "outputs": [
    {
     "name": "stdout",
     "output_type": "stream",
     "text": [
      "Model: \"encoder_decoder\"\n",
      "_________________________________________________________________\n",
      " Layer (type)                Output Shape              Param #   \n",
      "=================================================================\n",
      " conv2d (Conv2D)             (None, 32, 32, 64)        1088      \n",
      "                                                                 \n",
      " batch_normalization (BatchN  (None, 32, 32, 64)       256       \n",
      " ormalization)                                                   \n",
      "                                                                 \n",
      " activation (Activation)     (None, 32, 32, 64)        0         \n",
      "                                                                 \n",
      " conv2d_1 (Conv2D)           (None, 16, 16, 128)       131200    \n",
      "                                                                 \n",
      " batch_normalization_1 (Batc  (None, 16, 16, 128)      512       \n",
      " hNormalization)                                                 \n",
      "                                                                 \n",
      " activation_1 (Activation)   (None, 16, 16, 128)       0         \n",
      "                                                                 \n",
      " conv2d_2 (Conv2D)           (None, 8, 8, 256)         524544    \n",
      "                                                                 \n",
      " batch_normalization_2 (Batc  (None, 8, 8, 256)        1024      \n",
      " hNormalization)                                                 \n",
      "                                                                 \n",
      " activation_2 (Activation)   (None, 8, 8, 256)         0         \n",
      "                                                                 \n",
      " conv2d_3 (Conv2D)           (None, 4, 4, 256)         1048832   \n",
      "                                                                 \n",
      " batch_normalization_3 (Batc  (None, 4, 4, 256)        1024      \n",
      " hNormalization)                                                 \n",
      "                                                                 \n",
      " activation_3 (Activation)   (None, 4, 4, 256)         0         \n",
      "                                                                 \n",
      " reshape (Reshape)           (None, 4096)              0         \n",
      "                                                                 \n",
      " dense (Dense)               (None, 2048)              8390656   \n",
      "                                                                 \n",
      " batch_normalization_4 (Batc  (None, 2048)             8192      \n",
      " hNormalization)                                                 \n",
      "                                                                 \n",
      " activation_4 (Activation)   (None, 2048)              0         \n",
      "                                                                 \n",
      " dense_1 (Dense)             (None, 64)                131136    \n",
      "                                                                 \n",
      " dense_2 (Dense)             (None, 2048)              133120    \n",
      "                                                                 \n",
      " batch_normalization_5 (Batc  (None, 2048)             8192      \n",
      " hNormalization)                                                 \n",
      "                                                                 \n",
      " activation_5 (Activation)   (None, 2048)              0         \n",
      "                                                                 \n",
      " dense_3 (Dense)             (None, 4096)              8392704   \n",
      "                                                                 \n",
      " reshape_1 (Reshape)         (None, 4, 4, 256)         0         \n",
      "                                                                 \n",
      " conv2d_transpose (Conv2DTra  (None, 8, 8, 256)        262400    \n",
      " nspose)                                                         \n",
      "                                                                 \n",
      " batch_normalization_6 (Batc  (None, 8, 8, 256)        1024      \n",
      " hNormalization)                                                 \n",
      "                                                                 \n",
      " activation_6 (Activation)   (None, 8, 8, 256)         0         \n",
      "                                                                 \n",
      " conv2d_transpose_1 (Conv2DT  (None, 16, 16, 128)      524416    \n",
      " ranspose)                                                       \n",
      "                                                                 \n",
      " batch_normalization_7 (Batc  (None, 16, 16, 128)      512       \n",
      " hNormalization)                                                 \n",
      "                                                                 \n",
      " activation_7 (Activation)   (None, 16, 16, 128)       0         \n",
      "                                                                 \n",
      " conv2d_transpose_2 (Conv2DT  (None, 32, 32, 64)       131136    \n",
      " ranspose)                                                       \n",
      "                                                                 \n",
      " batch_normalization_8 (Batc  (None, 32, 32, 64)       256       \n",
      " hNormalization)                                                 \n",
      "                                                                 \n",
      " activation_8 (Activation)   (None, 32, 32, 64)        0         \n",
      "                                                                 \n",
      " conv2d_transpose_3 (Conv2DT  (None, 64, 64, 2)        2050      \n",
      " ranspose)                                                       \n",
      "                                                                 \n",
      " encoder (Sequential)        (None, 4096)              1708480   \n",
      "                                                                 \n",
      " latent_encoder (Sequential)  (None, 64)               8529984   \n",
      "                                                                 \n",
      " z_mean (Dense)              multiple                  4160      \n",
      "                                                                 \n",
      " z_log_var (Dense)           multiple                  4160      \n",
      "                                                                 \n",
      " latent_decoder (Sequential)  (None, 4, 4, 256)        8534016   \n",
      "                                                                 \n",
      " decoder (Sequential)        (None, 64, 64, 2)         921794    \n",
      "                                                                 \n",
      "=================================================================\n",
      "Total params: 19,702,594\n",
      "Trainable params: 19,692,098\n",
      "Non-trainable params: 10,496\n",
      "_________________________________________________________________\n"
     ]
    },
    {
     "name": "stderr",
     "output_type": "stream",
     "text": [
      "c:\\Users\\SKill\\anaconda3\\envs\\tf-gpu\\lib\\site-packages\\keras\\initializers\\initializers_v2.py:120: UserWarning: The initializer GlorotUniform is unseeded and being called multiple times, which will return identical values  each time (even if the initializer is unseeded). Please update your code to provide a seed to the initializer, or avoid using the same initalizer instance more than once.\n",
      "  warnings.warn(\n"
     ]
    },
    {
     "name": "stdout",
     "output_type": "stream",
     "text": [
      "Model: \"upae\"\n",
      "_________________________________________________________________\n",
      " Layer (type)                Output Shape              Param #   \n",
      "=================================================================\n",
      " encoder_decoder (encoder_de  multiple                 19702594  \n",
      " coder)                                                          \n",
      "                                                                 \n",
      "=================================================================\n",
      "Total params: 19,702,606\n",
      "Trainable params: 19,692,098\n",
      "Non-trainable params: 10,508\n",
      "_________________________________________________________________\n",
      "Epoch 1/5\n",
      "UPAE Training\n",
      "WARNING:tensorflow:Gradients do not exist for variables ['kernel:0', 'bias:0'] when minimizing the loss. If you're using `model.compile()`, did you forget to provide a `loss` argument?\n",
      "UPAE Training\n",
      "WARNING:tensorflow:Gradients do not exist for variables ['kernel:0', 'bias:0'] when minimizing the loss. If you're using `model.compile()`, did you forget to provide a `loss` argument?\n",
      "2/2 [==============================] - ETA: 0s - mse_loss: : 6443.3171 - total_loss: : 5591.4883 - loss1: : 5591.1858 - loss2: : 0.3023 - binary_crossentropy: : 409.1984 - accuracy: : 0.0000e+00UPAE Validation\n",
      "UPAE Loss\n",
      "callback predict\n",
      "2/2 [==============================] - 5s 2s/step - mse_loss: : 6385.4878 - total_loss: : 5257.8353 - loss1: : 5257.4333 - loss2: : 0.4018 - binary_crossentropy: : 361.4345 - accuracy: : 0.0000e+00 - val_total_loss: : 77.3776 - val_loss1: : 63.2104 - val_loss2: : 14.1671 - val_binary_crossentropy: : -572.5530 - val_accuracy: : 0.0000e+00\n",
      "Epoch 2/5\n",
      "1/2 [==============>...............] - ETA: 0s - mse_loss: : 5635.1284 - total_loss: : 84.2232 - loss1: : 70.0784 - loss2: : 14.1447 - binary_crossentropy: : -591.4382 - accuracy: : 7.6294e-06callback predict\n",
      "2/2 [==============================] - 0s 176ms/step - mse_loss: : 5113.4956 - total_loss: : 79.5704 - loss1: : 46.7640 - loss2: : 32.8064 - binary_crossentropy: : -632.6225 - accuracy: : 6.6121e-06 - val_total_loss: : 216.4427 - val_loss1: : 2.3767e-04 - val_loss2: : 216.4425 - val_binary_crossentropy: : -774.2754 - val_accuracy: : 0.0000e+00\n",
      "Epoch 3/5\n",
      "1/2 [==============>...............] - ETA: 0s - mse_loss: : 9458.5625 - total_loss: : 206.0018 - loss1: : 0.0010 - loss2: : 206.0008 - binary_crossentropy: : -756.3489 - accuracy: : 7.6294e-06callback predict\n",
      "2/2 [==============================] - 0s 178ms/step - mse_loss: : 22900.8607 - total_loss: : 290.6824 - loss1: : 6.6823e-04 - loss2: : 290.6817 - binary_crossentropy: : -836.4211 - accuracy: : 6.6121e-06 - val_total_loss: : 505.9093 - val_loss1: : 1.5567e-09 - val_loss2: : 505.9093 - val_binary_crossentropy: : -823.0269 - val_accuracy: : 0.0000e+00\n",
      "Epoch 4/5\n",
      "1/2 [==============>...............] - ETA: 0s - mse_loss: : 69940.1641 - total_loss: : 493.7748 - loss1: : 3.5244e-07 - loss2: : 493.7748 - binary_crossentropy: : -834.9205 - accuracy: : 7.6294e-06callback predict\n",
      "2/2 [==============================] - 0s 179ms/step - mse_loss: : 73479.4974 - total_loss: : 499.2069 - loss1: : 2.3507e-07 - loss2: : 499.2069 - binary_crossentropy: : -860.6209 - accuracy: : 6.6121e-06 - val_total_loss: : 398.6707 - val_loss1: : 6.2101e-09 - val_loss2: : 398.6707 - val_binary_crossentropy: : -832.5922 - val_accuracy: : 0.0000e+00\n",
      "Epoch 5/5\n",
      "1/2 [==============>...............] - ETA: 0s - mse_loss: : 52351.4766 - total_loss: : 408.1585 - loss1: : 9.1363e-07 - loss2: : 408.1585 - binary_crossentropy: : -889.3547 - accuracy: : 7.6294e-06callback predict\n",
      "2/2 [==============================] - 0s 189ms/step - mse_loss: : 40769.1823 - total_loss: : 351.9954 - loss1: : 7.3525e-05 - loss2: : 351.9953 - binary_crossentropy: : -834.8769 - accuracy: : 6.6121e-06 - val_total_loss: : 257.2821 - val_loss1: : 59.7577 - val_loss2: : 197.5244 - val_binary_crossentropy: : -820.9026 - val_accuracy: : 0.0000e+00\n"
     ]
    }
   ],
   "source": [
    "if __name__ == \"__main__\":\n",
    "\n",
    "    if model_is_VAE:\n",
    "        model = VAE(False, input_shape, multiplier, latent_size)\n",
    "    else:\n",
    "        model = UPAE(True, input_shape, multiplier, latent_size)\n",
    "\n",
    "    optimizer = keras.optimizers.Adam(learning_rate=learning_rate)\n",
    "\n",
    "    model.build(input_shape=(None,) + tuple(input_shape))\n",
    "\n",
    "    model.compile(optimizer= optimizer, loss='mse'\n",
    "                  ,metrics=[tf.keras.metrics.Accuracy()])\n",
    "    \n",
    "    model.summary()\n",
    "\n",
    "    # Where images of each epoch will be saved\n",
    "    # save_directory = 'Images/images_epochs' #edited in models where automatically make folder if non existent\n",
    "    save_directory = model_file_path + '/callback_images'\n",
    "    save_callback = SaveImageCallback(image_datasets['train'], save_directory=save_directory)\n",
    "    \n",
    "    if load_model:\n",
    "        model.load_weights(model_file_path + '/model_weights')\n",
    "    else:\n",
    "        history_train = model.fit(image_datasets['train'], \n",
    "            epochs=epochs, \n",
    "            batch_size=batch_size,\n",
    "            validation_split=0.15,\n",
    "            callbacks=[save_callback])\n",
    "        \n",
    "        # Saving the model's history\n",
    "        json.dump(history_train.history, open(model_file_path + '/history.json', 'w'))\n",
    "\n",
    "        #Save weights\n",
    "        model.save_weights(model_file_path + '/model_weights', save_format='tf')\n",
    "   \n",
    "    "
   ]
  },
  {
   "attachments": {},
   "cell_type": "markdown",
   "id": "b73f60ee",
   "metadata": {},
   "source": [
    "# Testing of the Model with the Test Set\n",
    "This section tests the model with the current test set\n",
    "TODO: \n",
    "- Get the label of each image in the test set\n",
    "- Test the images\n",
    "- Create Linear Regression for the abnormality score to get the threshold for determining abnormal or normal images"
   ]
  },
  {
   "cell_type": "code",
   "execution_count": 6,
   "id": "7fbf61ba",
   "metadata": {},
   "outputs": [],
   "source": [
    "# Get labels of each image in the image_datasets['test']\n",
    "test_images = []\n",
    "labels = []\n",
    "for image_path in glob.glob(f'{dataset_file_path}/test/*.png'):\n",
    "    image = cv2.imread(image_path)\n",
    "    image = cv2.cvtColor(image, cv2.COLOR_BGR2GRAY)\n",
    "    # Get if it contains positive or negative\n",
    "    if 'positive' in image_path:\n",
    "        test_images.append(image)\n",
    "        labels.append(1)\n",
    "    else:\n",
    "        test_images.append(image)\n",
    "        labels.append(0)\n",
    "test_images = np.array(test_images)"
   ]
  },
  {
   "cell_type": "code",
   "execution_count": 7,
   "id": "7071dba6",
   "metadata": {},
   "outputs": [
    {
     "name": "stdout",
     "output_type": "stream",
     "text": [
      "not callback predict\n"
     ]
    }
   ],
   "source": [
    "reconstructed_images = model.predict(test_images, batch_size=batch_size)"
   ]
  },
  {
   "cell_type": "code",
   "execution_count": 8,
   "id": "ddf1a839",
   "metadata": {},
   "outputs": [
    {
     "data": {
      "image/png": "[encoded data removed]",
      "text/plain": [
       "<Figure size 640x480 with 1 Axes>"
      ]
     },
     "metadata": {},
     "output_type": "display_data"
    }
   ],
   "source": [
    "# Histogram for Positives and Negatives of the testing set\n",
    "positive = []\n",
    "negative = []\n",
    "for i in range(len(labels)):\n",
    "    if labels[i] == 1:\n",
    "        positive.append(reconstructed_images[1][i])\n",
    "    else:\n",
    "        negative.append(reconstructed_images[1][i])\n",
    "plt.hist(positive, color='red', label='positive')\n",
    "plt.hist(negative, color='blue', label='negative')\n",
    "# Get x and y labels\n",
    "plt.xlabel('Abnormality Score')\n",
    "plt.ylabel('Number of Images')\n",
    "plt.title(\"Abnormality Score and Label Histogram\")\n",
    "plt.legend()\n",
    "plt.savefig(f'{model_file_path}/testing_abnormality_scores.png')"
   ]
  },
  {
   "attachments": {},
   "cell_type": "markdown",
   "id": "aa833ecb",
   "metadata": {},
   "source": [
    "# Getting of best threshold"
   ]
  },
  {
   "cell_type": "code",
   "execution_count": null,
   "id": "ff3753dd",
   "metadata": {},
   "outputs": [],
   "source": [
    "def classify_image(score, threshold):\n",
    "    if score >= threshold:\n",
    "        return 1\n",
    "    else:\n",
    "        return 0\n",
    "\n",
    "def get_threshold_range(abnormality_scores, num_std):\n",
    "    mean_score = np.mean(abnormality_scores)\n",
    "    std_score = np.std(abnormality_scores)\n",
    "\n",
    "    lower_threshold = mean_score - (num_std * std_score)\n",
    "    upper_threshold = mean_score + (num_std * std_score)\n",
    "\n",
    "    return lower_threshold, upper_threshold\n",
    "\n",
    "def calculate_f1_score(predicted_labels, true_labels):\n",
    "    true_positives = 0\n",
    "    false_positives = 0\n",
    "    false_negatives = 0\n",
    "\n",
    "    for predicted, true in zip(predicted_labels, true_labels):\n",
    "        if predicted == 1 and true == 1:\n",
    "            true_positives += 1\n",
    "        elif predicted == 1 and true == 0:\n",
    "            false_positives += 1\n",
    "        elif predicted == 0 and true == 1:\n",
    "            false_negatives += 1\n",
    "\n",
    "    precision = true_positives / (true_positives + false_positives)\n",
    "    recall = true_positives / (true_positives + false_negatives)\n",
    "\n",
    "    f1_score = 2 * (precision * recall) / (precision + recall)\n",
    "\n",
    "    return f1_score, precision, recall, true_positives, false_positives, false_negatives\n",
    "\n",
    "def find_optimal_threshold(abnormality_scores, labels):\n",
    "    best_threshold = None\n",
    "    best_metric = 0.0\n",
    "\n",
    "    # Get a range of threshold values\n",
    "    lower_threshold, upper_threshold = get_threshold_range(abnormality_scores, num_std=3)\n",
    "    threshold_range = np.linspace(lower_threshold, upper_threshold, 50)\n",
    "\n",
    "    \n",
    "    # Iterate over a range of threshold values\n",
    "    for threshold in threshold_range:\n",
    "        predicted_labels = [classify_image(score, threshold) for score in abnormality_scores]\n",
    "\n",
    "        # Evaluate performance metric (e.g., accuracy, precision, recall, F1 score)\n",
    "        metric, precision, recall, true_postivies, false_positives, false_negatives = calculate_f1_score(predicted_labels, labels)\n",
    "\n",
    "        # Update the best threshold if the metric improves\n",
    "        if metric > best_metric:\n",
    "            print(\"Current best Threshold: \", threshold, \"\\nCurrent best F1 Score: \", metric)\n",
    "            print(\"Current best Precision: \", precision, \"\\nCurrent best Recall: \", recall)\n",
    "            print(\"\\nCurrent best True Positives: \", true_postivies, \"\\nCurrent best False Positives: \", \n",
    "                  false_positives, \"\\nCurrent best False Negatives: \", false_negatives)\n",
    "            print()\n",
    "            best_metric = metric\n",
    "            best_threshold = threshold\n",
    "\n",
    "\n",
    "    return best_threshold\n"
   ]
  },
  {
   "cell_type": "code",
   "execution_count": null,
   "id": "dcb40386",
   "metadata": {},
   "outputs": [],
   "source": [
    "find_optimal_threshold(np.float32(reconstructed_images[1]), labels)"
   ]
  },
  {
   "attachments": {},
   "cell_type": "markdown",
   "id": "3f5369b0",
   "metadata": {},
   "source": [
    "# Saving of final reconstructed images "
   ]
  },
  {
   "cell_type": "code",
   "execution_count": null,
   "id": "154822a8",
   "metadata": {},
   "outputs": [],
   "source": [
    "# Create directory in models folder for reconstructed images\n",
    "dataset_name = dataset_file_path.split('/')[-1]\n",
    "reconstructed_images_path = model_file_path + \"/\" + dataset_name\n",
    "if not path.exists(reconstructed_images_path):\n",
    "    mkdir(reconstructed_images_path)"
   ]
  },
  {
   "cell_type": "code",
   "execution_count": null,
   "id": "597def40",
   "metadata": {},
   "outputs": [],
   "source": [
    "def save_compared_reconstructed_image(original_image, reconstructed_image, abnormality_score, file_path, image_index,\n",
    "                                      label):\n",
    "    # Put Images in cv2\n",
    "    original_image = cv2.cvtColor(original_image, cv2.COLOR_GRAY2BGR)\n",
    "    reconstructed_image = cv2.cvtColor(reconstructed_image, cv2.COLOR_GRAY2BGR)\n",
    "    # Convert reconstructed image to uint8\n",
    "    reconstructed_image = reconstructed_image.astype(np.uint8)\n",
    "    concatenated_img = cv2.hconcat([original_image, reconstructed_image])\n",
    "    # Save the image\n",
    "    cv2.imwrite(f'{file_path}/Image_{image_index}_{abnormality_score}_{label}.png', concatenated_img)"
   ]
  },
  {
   "cell_type": "code",
   "execution_count": null,
   "id": "d30e1b91",
   "metadata": {},
   "outputs": [],
   "source": [
    "for i in range(len(test_images)):\n",
    "    save_compared_reconstructed_image(test_images[i], np.array(reconstructed_images[0][i]), reconstructed_images[1][i],\n",
    "                                      reconstructed_images_path, i, labels[i])\n"
   ]
  },
  {
   "attachments": {},
   "cell_type": "markdown",
   "id": "d41fb188",
   "metadata": {},
   "source": [
    "# GIF for Callback_images"
   ]
  },
  {
   "cell_type": "code",
   "execution_count": null,
   "id": "70d17c63",
   "metadata": {},
   "outputs": [],
   "source": [
    "def extract_epoch(filename):\n",
    "    match = re.search(r'epoch_(\\d+)_', filename)\n",
    "    if match:\n",
    "        return int(match.group(1))\n",
    "    return 0\n",
    "\n",
    "def create_gif(folder_path, output_path, duration=50):\n",
    "    images = []\n",
    "    \n",
    "    # Get all image file names from the folder\n",
    "    filenames = os.listdir(folder_path)\n",
    "    filenames = sorted(filenames, key=lambda x: extract_epoch(x))\n",
    "\n",
    "    for filename in filenames:\n",
    "        if filename.endswith('.png') or filename.endswith('.jpg'):\n",
    "            file_path = os.path.join(folder_path, filename)\n",
    "            image = Image.open(file_path)\n",
    "            images.append(image)\n",
    "    \n",
    "    # Save the images as a GIF\n",
    "    images[0].save(output_path, save_all=True, append_images=images[1:], optimize=False, duration=duration, loop=0)\n"
   ]
  },
  {
   "cell_type": "code",
   "execution_count": null,
   "id": "dafb861c",
   "metadata": {},
   "outputs": [],
   "source": [
    "gif_folder_path = model_file_path + \"/\" + \"callback_images\"\n",
    "image_folders = ['image0', 'image1', 'image2', 'image3']\n",
    "\n",
    "for i,folder in enumerate(image_folders):\n",
    "    curr_folder = gif_folder_path + \"/\" + folder\n",
    "    gif_output_path = gif_folder_path + \"/\" + f\"image{i}.gif\"\n",
    "    print(f\"Creating GIF for: image{i}\")\n",
    "    create_gif(curr_folder, gif_output_path)"
   ]
  },
  {
   "cell_type": "code",
   "execution_count": null,
   "id": "0a807607",
   "metadata": {},
   "outputs": [],
   "source": [
    "model_file_path"
   ]
  },
  {
   "attachments": {},
   "cell_type": "markdown",
   "id": "72b430df",
   "metadata": {},
   "source": [
    "# Saving of Model Weights"
   ]
  }
 ],
 "metadata": {
  "kernelspec": {
   "display_name": "Python 3 (ipykernel)",
   "language": "python",
   "name": "python3"
  },
  "language_info": {
   "codemirror_mode": {
    "name": "ipython",
    "version": 3
   },
   "file_extension": ".py",
   "mimetype": "text/x-python",
   "name": "python",
   "nbconvert_exporter": "python",
   "pygments_lexer": "ipython3",
   "version": "3.10.10"
  }
 },
 "nbformat": 4,
 "nbformat_minor": 5
}
